{
 "cells": [
  {
   "cell_type": "code",
   "execution_count": 1,
   "id": "3daabd92",
   "metadata": {},
   "outputs": [
    {
     "name": "stdout",
     "output_type": "stream",
     "text": [
      "{'00': 508, '11': 516}\n"
     ]
    }
   ],
   "source": [
    "from qiskit import QuantumCircuit, execute, Aer\n",
    "\n",
    "# create a quantum circuit with two qubits and two classical bits\n",
    "circuit = QuantumCircuit(2, 2)\n",
    "\n",
    "# apply a Hadamard gate to the first qubit\n",
    "circuit.h(0)\n",
    "\n",
    "# apply a CNOT gate to entangle the two qubits\n",
    "circuit.cx(0, 1)\n",
    "\n",
    "# measure the two qubits and store the results in the two classical bits\n",
    "circuit.measure([0, 1], [0, 1])\n",
    "\n",
    "# choose the qasm_simulator backend\n",
    "backend = Aer.get_backend('qasm_simulator')\n",
    "\n",
    "# execute the circuit on the backend and get the result\n",
    "result = execute(circuit, backend).result()\n",
    "\n",
    "# print the result\n",
    "print(result.get_counts())\n"
   ]
  },
  {
   "cell_type": "code",
   "execution_count": null,
   "id": "483aa723",
   "metadata": {},
   "outputs": [],
   "source": []
  }
 ],
 "metadata": {
  "kernelspec": {
   "display_name": "Python 3 (ipykernel)",
   "language": "python",
   "name": "python3"
  },
  "language_info": {
   "codemirror_mode": {
    "name": "ipython",
    "version": 3
   },
   "file_extension": ".py",
   "mimetype": "text/x-python",
   "name": "python",
   "nbconvert_exporter": "python",
   "pygments_lexer": "ipython3",
   "version": "3.9.13"
  }
 },
 "nbformat": 4,
 "nbformat_minor": 5
}
