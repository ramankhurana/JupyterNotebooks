{
 "cells": [
  {
   "cell_type": "markdown",
   "metadata": {},
   "source": [
    "## ETTh1 Dataset \n",
    "\n",
    "date: timestamp \n",
    "\n",
    "* OT: Oil temperature \"Predictive value \"\n",
    "* Following are six different types of external load features, \n",
    "* HUFL: High Use Full Load \n",
    "* HULL: High Use Less Load \n",
    "* MUFL: Medium Use Full Load  \n",
    "* MULL: Medium Use Less Load \n",
    "* LUFL: Low Use Less Load\n",
    "* LULL: Low Use Less Load \n"
   ]
  },
  {
   "cell_type": "markdown",
   "metadata": {},
   "source": [
    "### ETTh1: Electricity Transformer dataset, hourly, E Transformer # 1. \n",
    "\n",
    "Each E transformer dataset is considered as one TS and 6 Load features are affecting the final predictable “Oil temperature”. \n",
    "\n",
    "The dataset is called multivariate but may be not exactly the one we want to look at. It has 6 time series which can impact the target time series. A few cases arise: \n",
    "1. each of the 7 TS have to be forecasted. (done for one E transformer)\n",
    "2. Forecast only 6 TS and use those 6 to predict the Oil temperature. Require development of the model which can be integrated in NP to predict OT using 6 Load features. Not considered for now. \n",
    "3. Use OT as the only TS and forecast it, use other 6 TS as exogeneous variables. \n",
    "\n",
    "Let's test these in cronological order. \n"
   ]
  },
  {
   "attachments": {
    "c48c4f03-2b21-4da4-99aa-61f35f85cafb.png": {
     "image/png": "[encoded data removed]"
    }
   },
   "cell_type": "markdown",
   "metadata": {},
   "source": [
    "### Metric for comparison \n",
    "I am using MSE for comparison here, but MAE or other metric can be used instead of MSE. \n",
    "\n",
    "![image.png](attachment:c48c4f03-2b21-4da4-99aa-61f35f85cafb.png)\n",
    "\n",
    "### Conclusions \n",
    "#### When considering all the features in the dataset needs to be used for fitting the model. \n",
    "1. A set of 7 features are used for fitting the model simultaneous, i.e. they will have same trend, seasonality and AR coefficients. \n",
    "2. The fitted value when compared to ground truth (a few values by eye) seems to be a good fit (conclusion last week)\n",
    "3. However, when using MSE as metric, it is found to be \n",
    "### MSE=0.6617\n",
    "\n",
    "4. Also, the trend is changing for almost each of the value, i.e. size of the input vector and trend is similar. \n",
    "5. Trend changing at each timestamp [by definination, monotonically increasing or decreasing] because NP use the last value of the trend from fit and extrapolate it. \n",
    "  - This changing trend in the future can be useless for the cases where point of inflection is observed in the forecasting horizion. \n",
    "6. However, NP allows each TS to have independent trend (and seasonality), but in that case, only corrrelation between the TS will be using the AR coefficients, \n",
    "\n",
    "Let's try that"
   ]
  },
  {
   "cell_type": "code",
   "execution_count": 152,
   "metadata": {
    "execution": {
     "iopub.execute_input": "2023-02-20T17:22:51.288770Z",
     "iopub.status.busy": "2023-02-20T17:22:51.288406Z",
     "iopub.status.idle": "2023-02-20T17:22:51.294025Z",
     "shell.execute_reply": "2023-02-20T17:22:51.292830Z",
     "shell.execute_reply.started": "2023-02-20T17:22:51.288741Z"
    }
   },
   "outputs": [],
   "source": [
    "def MSE(g_truth, measured):\n",
    "    n=len(g_truth)\n",
    "    diff=g_truth-measured\n",
    "    return np.sum(np.square(diff)) / n \n",
    "    \n",
    "    \n",
    "\n",
    "from sklearn.metrics import mean_absolute_percentage_error\n",
    "def MAPE(g_truth, measured):\n",
    "    return (mean_absolute_percentage_error(g_truth,measured))\n",
    "\n",
    "def wMAPE(g_truth, measured):\n",
    "    nR = np.sum( np.absolute (g_truth-measured ))\n",
    "    dR = np.sum( np.absolute (g_truth) )\n",
    "    return (nR/dR)\n",
    "\n"
   ]
  },
  {
   "cell_type": "markdown",
   "metadata": {},
   "source": [
    "### Install dependencies "
   ]
  },
  {
   "cell_type": "code",
   "execution_count": 153,
   "metadata": {
    "_kg_hide-input": false,
    "_kg_hide-output": true,
    "execution": {
     "iopub.execute_input": "2023-02-20T16:48:57.748570Z",
     "iopub.status.busy": "2023-02-20T16:48:57.748233Z",
     "iopub.status.idle": "2023-02-20T16:50:13.423716Z",
     "shell.execute_reply": "2023-02-20T16:50:13.422766Z",
     "shell.execute_reply.started": "2023-02-20T16:48:57.748542Z"
    },
    "jupyter": {
     "source_hidden": true
    },
    "scrolled": true
   },
   "outputs": [],
   "source": [
    "#!pip install neuralprophet\n",
    "#!pip install git+https://github.com/ourownstory/neural_prophet.git # may take a while\n",
    "import torch \n",
    "import neuralprophet\n",
    "from neuralprophet import NeuralProphet, set_log_level\n",
    "from neuralprophet import set_random_seed \n",
    "set_log_level(\"ERROR\", \"INFO\")\n",
    "\n",
    "import numpy as np\n",
    "set_random_seed(0)\n"
   ]
  },
  {
   "cell_type": "code",
   "execution_count": 154,
   "metadata": {
    "execution": {
     "iopub.execute_input": "2023-02-20T16:50:18.820682Z",
     "iopub.status.busy": "2023-02-20T16:50:18.820376Z",
     "iopub.status.idle": "2023-02-20T16:50:19.414736Z",
     "shell.execute_reply": "2023-02-20T16:50:19.413604Z",
     "shell.execute_reply.started": "2023-02-20T16:50:18.820650Z"
    },
    "jupyter": {
     "source_hidden": true
    }
   },
   "outputs": [],
   "source": [
    "#!curl https://raw.githubusercontent.com/zhouhaoyi/ETDataset/main/ETT-small/ETTh1.csv > ETTh1.csv\n",
    "#!curl https://raw.githubusercontent.com/zhouhaoyi/ETDataset/main/ETT-small/ETTh2.csv > ETTh2.csv"
   ]
  },
  {
   "cell_type": "markdown",
   "metadata": {},
   "source": [
    "### Read dataset "
   ]
  },
  {
   "cell_type": "code",
   "execution_count": 164,
   "metadata": {
    "execution": {
     "iopub.execute_input": "2023-02-20T16:50:19.688604Z",
     "iopub.status.busy": "2023-02-20T16:50:19.687609Z",
     "iopub.status.idle": "2023-02-20T16:50:19.740983Z",
     "shell.execute_reply": "2023-02-20T16:50:19.740147Z",
     "shell.execute_reply.started": "2023-02-20T16:50:19.688572Z"
    },
    "jupyter": {
     "source_hidden": true
    },
    "scrolled": true
   },
   "outputs": [],
   "source": [
    "import pandas as pd\n",
    "\n",
    "data_location = \"ETTh2.csv\"\n",
    "#\"https://raw.githubusercontent.com/ourownstory/neuralprophet-data/main/datasets/\"\n",
    "df_ercot = pd.read_csv(data_location )#+ \"multivariate/load_ercot_regions.csv\")\n",
    "df_ercot_2 = pd.read_csv('ETTh2.csv')\n",
    "df_ercot_2.rename({\"date\":\"ds\", \"OT\":\"y\"},\n",
    "                 inplace=True,\n",
    "                axis=1)\n",
    "\n",
    "\n",
    "df_ercot_2.drop(columns=['HUFL','HULL','MUFL','MULL','LUFL','LULL'],\n",
    "               inplace=True)\n",
    "\n",
    "df_ercot.head()\n",
    "\n",
    "import copy \n",
    "\n",
    "df_ercot_copy = copy.deepcopy(df_ercot)"
   ]
  },
  {
   "cell_type": "code",
   "execution_count": 165,
   "metadata": {
    "execution": {
     "iopub.execute_input": "2023-02-20T16:50:19.772053Z",
     "iopub.status.busy": "2023-02-20T16:50:19.771748Z",
     "iopub.status.idle": "2023-02-20T16:50:19.789171Z",
     "shell.execute_reply": "2023-02-20T16:50:19.788288Z",
     "shell.execute_reply.started": "2023-02-20T16:50:19.772023Z"
    }
   },
   "outputs": [
    {
     "name": "stdout",
     "output_type": "stream",
     "text": [
      "17420 17420\n"
     ]
    },
    {
     "data": {
      "text/html": [
       "<div>\n",
       "<style scoped>\n",
       "    .dataframe tbody tr th:only-of-type {\n",
       "        vertical-align: middle;\n",
       "    }\n",
       "\n",
       "    .dataframe tbody tr th {\n",
       "        vertical-align: top;\n",
       "    }\n",
       "\n",
       "    .dataframe thead th {\n",
       "        text-align: right;\n",
       "    }\n",
       "</style>\n",
       "<table border=\"1\" class=\"dataframe\">\n",
       "  <thead>\n",
       "    <tr style=\"text-align: right;\">\n",
       "      <th></th>\n",
       "      <th>date</th>\n",
       "      <th>HUFL</th>\n",
       "      <th>HULL</th>\n",
       "      <th>MUFL</th>\n",
       "      <th>MULL</th>\n",
       "      <th>LUFL</th>\n",
       "      <th>LULL</th>\n",
       "      <th>OT</th>\n",
       "    </tr>\n",
       "  </thead>\n",
       "  <tbody>\n",
       "    <tr>\n",
       "      <th>17324</th>\n",
       "      <td>2018-06-22 20:00:00</td>\n",
       "      <td>33.172001</td>\n",
       "      <td>10.722</td>\n",
       "      <td>44.98</td>\n",
       "      <td>11.902</td>\n",
       "      <td>-11.664</td>\n",
       "      <td>-2.612</td>\n",
       "      <td>28.212999</td>\n",
       "    </tr>\n",
       "  </tbody>\n",
       "</table>\n",
       "</div>"
      ],
      "text/plain": [
       "                      date       HUFL    HULL   MUFL    MULL    LUFL   LULL  \\\n",
       "17324  2018-06-22 20:00:00  33.172001  10.722  44.98  11.902 -11.664 -2.612   \n",
       "\n",
       "              OT  \n",
       "17324  28.212999  "
      ]
     },
     "execution_count": 165,
     "metadata": {},
     "output_type": "execute_result"
    }
   ],
   "source": [
    "print (len(df_ercot.date), len(df_ercot.date.unique()))\n",
    "df_ercot[17324:17325]"
   ]
  },
  {
   "cell_type": "code",
   "execution_count": 166,
   "metadata": {},
   "outputs": [],
   "source": [
    "df_init = df_ercot[17324:17325]\n"
   ]
  },
  {
   "cell_type": "markdown",
   "metadata": {},
   "source": [
    "### differencing "
   ]
  },
  {
   "cell_type": "code",
   "execution_count": 147,
   "metadata": {},
   "outputs": [],
   "source": [
    "\n",
    "df_ercot.HUFL = df_ercot.HUFL.diff()\n",
    "df_ercot.HULL = df_ercot.HULL.diff()\n",
    "df_ercot.MUFL = df_ercot.MUFL.diff()\n",
    "df_ercot.MULL = df_ercot.MULL.diff()\n",
    "df_ercot.LUFL = df_ercot.LUFL.diff()\n",
    "df_ercot.LULL = df_ercot.LULL.diff()\n",
    "df_ercot.OT = df_ercot.OT.diff()\n",
    "df_ercot=df_ercot.dropna()"
   ]
  },
  {
   "cell_type": "code",
   "execution_count": 167,
   "metadata": {},
   "outputs": [
    {
     "data": {
      "text/plain": [
       "['HUFL', 'HULL', 'MUFL', 'MULL', 'LUFL', 'LULL', 'OT']"
      ]
     },
     "execution_count": 167,
     "metadata": {},
     "output_type": "execute_result"
    }
   ],
   "source": [
    "regions = list(df_ercot)[1:]\n",
    "regions"
   ]
  },
  {
   "cell_type": "code",
   "execution_count": 168,
   "metadata": {
    "execution": {
     "iopub.execute_input": "2023-02-20T16:50:19.790753Z",
     "iopub.status.busy": "2023-02-20T16:50:19.790359Z",
     "iopub.status.idle": "2023-02-20T16:50:19.827985Z",
     "shell.execute_reply": "2023-02-20T16:50:19.827148Z",
     "shell.execute_reply.started": "2023-02-20T16:50:19.790728Z"
    }
   },
   "outputs": [
    {
     "name": "stdout",
     "output_type": "stream",
     "text": [
      "HUFL\n",
      "HULL\n",
      "MUFL\n",
      "MULL\n",
      "LUFL\n",
      "LULL\n",
      "OT\n"
     ]
    },
    {
     "data": {
      "text/html": [
       "<div>\n",
       "<style scoped>\n",
       "    .dataframe tbody tr th:only-of-type {\n",
       "        vertical-align: middle;\n",
       "    }\n",
       "\n",
       "    .dataframe tbody tr th {\n",
       "        vertical-align: top;\n",
       "    }\n",
       "\n",
       "    .dataframe thead th {\n",
       "        text-align: right;\n",
       "    }\n",
       "</style>\n",
       "<table border=\"1\" class=\"dataframe\">\n",
       "  <thead>\n",
       "    <tr style=\"text-align: right;\">\n",
       "      <th></th>\n",
       "      <th>ds</th>\n",
       "      <th>y</th>\n",
       "      <th>ID</th>\n",
       "    </tr>\n",
       "  </thead>\n",
       "  <tbody>\n",
       "    <tr>\n",
       "      <th>0</th>\n",
       "      <td>2016-07-01 00:00:00</td>\n",
       "      <td>41.130001</td>\n",
       "      <td>HUFL</td>\n",
       "    </tr>\n",
       "    <tr>\n",
       "      <th>1</th>\n",
       "      <td>2016-07-01 01:00:00</td>\n",
       "      <td>37.528000</td>\n",
       "      <td>HUFL</td>\n",
       "    </tr>\n",
       "    <tr>\n",
       "      <th>2</th>\n",
       "      <td>2016-07-01 02:00:00</td>\n",
       "      <td>37.946999</td>\n",
       "      <td>HUFL</td>\n",
       "    </tr>\n",
       "    <tr>\n",
       "      <th>3</th>\n",
       "      <td>2016-07-01 03:00:00</td>\n",
       "      <td>38.952000</td>\n",
       "      <td>HUFL</td>\n",
       "    </tr>\n",
       "    <tr>\n",
       "      <th>4</th>\n",
       "      <td>2016-07-01 04:00:00</td>\n",
       "      <td>38.113998</td>\n",
       "      <td>HUFL</td>\n",
       "    </tr>\n",
       "    <tr>\n",
       "      <th>...</th>\n",
       "      <td>...</td>\n",
       "      <td>...</td>\n",
       "      <td>...</td>\n",
       "    </tr>\n",
       "    <tr>\n",
       "      <th>17415</th>\n",
       "      <td>2018-06-26 15:00:00</td>\n",
       "      <td>47.084999</td>\n",
       "      <td>OT</td>\n",
       "    </tr>\n",
       "    <tr>\n",
       "      <th>17416</th>\n",
       "      <td>2018-06-26 16:00:00</td>\n",
       "      <td>48.183498</td>\n",
       "      <td>OT</td>\n",
       "    </tr>\n",
       "    <tr>\n",
       "      <th>17417</th>\n",
       "      <td>2018-06-26 17:00:00</td>\n",
       "      <td>48.183498</td>\n",
       "      <td>OT</td>\n",
       "    </tr>\n",
       "    <tr>\n",
       "      <th>17418</th>\n",
       "      <td>2018-06-26 18:00:00</td>\n",
       "      <td>46.865501</td>\n",
       "      <td>OT</td>\n",
       "    </tr>\n",
       "    <tr>\n",
       "      <th>17419</th>\n",
       "      <td>2018-06-26 19:00:00</td>\n",
       "      <td>45.986500</td>\n",
       "      <td>OT</td>\n",
       "    </tr>\n",
       "  </tbody>\n",
       "</table>\n",
       "<p>121940 rows × 3 columns</p>\n",
       "</div>"
      ],
      "text/plain": [
       "                        ds          y    ID\n",
       "0      2016-07-01 00:00:00  41.130001  HUFL\n",
       "1      2016-07-01 01:00:00  37.528000  HUFL\n",
       "2      2016-07-01 02:00:00  37.946999  HUFL\n",
       "3      2016-07-01 03:00:00  38.952000  HUFL\n",
       "4      2016-07-01 04:00:00  38.113998  HUFL\n",
       "...                    ...        ...   ...\n",
       "17415  2018-06-26 15:00:00  47.084999    OT\n",
       "17416  2018-06-26 16:00:00  48.183498    OT\n",
       "17417  2018-06-26 17:00:00  48.183498    OT\n",
       "17418  2018-06-26 18:00:00  46.865501    OT\n",
       "17419  2018-06-26 19:00:00  45.986500    OT\n",
       "\n",
       "[121940 rows x 3 columns]"
      ]
     },
     "execution_count": 168,
     "metadata": {},
     "output_type": "execute_result"
    }
   ],
   "source": [
    "df_global = pd.DataFrame()\n",
    "for col in regions:\n",
    "    print (col)\n",
    "    aux = df_ercot[[\"date\", col]].copy(deep=True)  # select column associated with region\n",
    "    aux = aux.iloc[:26301, :].copy(deep=True)  # selects data up to 26301 row (2004 to 2007 time stamps)\n",
    "    aux = aux.rename(columns={col: \"y\"})  # rename column of data to 'y' which is compatible with Neural Prophet\n",
    "    aux[\"ID\"] = col\n",
    "    df_global = pd.concat((df_global, aux))\n",
    "\n",
    "\n",
    "df_global.rename({\"date\":\"ds\"},\n",
    "                 inplace=True,\n",
    "                axis=1)\n",
    "df_global"
   ]
  },
  {
   "cell_type": "code",
   "execution_count": 169,
   "metadata": {
    "execution": {
     "iopub.execute_input": "2023-02-20T16:50:19.842278Z",
     "iopub.status.busy": "2023-02-20T16:50:19.841966Z",
     "iopub.status.idle": "2023-02-20T16:50:20.470450Z",
     "shell.execute_reply": "2023-02-20T16:50:20.469481Z",
     "shell.execute_reply.started": "2023-02-20T16:50:19.842248Z"
    },
    "scrolled": true
   },
   "outputs": [
    {
     "data": {
      "text/plain": [
       "17325"
      ]
     },
     "execution_count": 169,
     "metadata": {},
     "output_type": "execute_result"
    }
   ],
   "source": [
    "m = NeuralProphet(n_lags=336)\n",
    "#df_train, df_test = m.split_df(df_global, valid_p=0.33, local_split=True)\n",
    "df_train, df_test = m.split_df(df_global, valid_p=0.00551122337, local_split=True)\n",
    "df_train[df_train.ID==\"HUFL\"].index[-1] ## index to be saved to reverse differencing "
   ]
  },
  {
   "cell_type": "code",
   "execution_count": 174,
   "metadata": {},
   "outputs": [
    {
     "data": {
      "text/plain": [
       "((121282, 3), (3010, 3), (121940, 3))"
      ]
     },
     "execution_count": 174,
     "metadata": {},
     "output_type": "execute_result"
    }
   ],
   "source": [
    "df_train.shape, df_test.shape,df_global.shape"
   ]
  },
  {
   "cell_type": "code",
   "execution_count": 178,
   "metadata": {},
   "outputs": [
    {
     "data": {
      "text/plain": [
       "672.0385777378"
      ]
     },
     "execution_count": 178,
     "metadata": {},
     "output_type": "execute_result"
    }
   ],
   "source": [
    "121940*.00551122337"
   ]
  },
  {
   "cell_type": "code",
   "execution_count": 177,
   "metadata": {},
   "outputs": [
    {
     "data": {
      "text/html": [
       "<div>\n",
       "<style scoped>\n",
       "    .dataframe tbody tr th:only-of-type {\n",
       "        vertical-align: middle;\n",
       "    }\n",
       "\n",
       "    .dataframe tbody tr th {\n",
       "        vertical-align: top;\n",
       "    }\n",
       "\n",
       "    .dataframe thead th {\n",
       "        text-align: right;\n",
       "    }\n",
       "</style>\n",
       "<table border=\"1\" class=\"dataframe\">\n",
       "  <thead>\n",
       "    <tr style=\"text-align: right;\">\n",
       "      <th></th>\n",
       "      <th>ds</th>\n",
       "      <th>y</th>\n",
       "      <th>ID</th>\n",
       "    </tr>\n",
       "  </thead>\n",
       "  <tbody>\n",
       "    <tr>\n",
       "      <th>2580</th>\n",
       "      <td>2018-06-08 22:00:00</td>\n",
       "      <td>35.488499</td>\n",
       "      <td>OT</td>\n",
       "    </tr>\n",
       "    <tr>\n",
       "      <th>2581</th>\n",
       "      <td>2018-06-08 23:00:00</td>\n",
       "      <td>35.488499</td>\n",
       "      <td>OT</td>\n",
       "    </tr>\n",
       "    <tr>\n",
       "      <th>2582</th>\n",
       "      <td>2018-06-09 00:00:00</td>\n",
       "      <td>35.268501</td>\n",
       "      <td>OT</td>\n",
       "    </tr>\n",
       "    <tr>\n",
       "      <th>2583</th>\n",
       "      <td>2018-06-09 01:00:00</td>\n",
       "      <td>34.609501</td>\n",
       "      <td>OT</td>\n",
       "    </tr>\n",
       "    <tr>\n",
       "      <th>2584</th>\n",
       "      <td>2018-06-09 02:00:00</td>\n",
       "      <td>33.950001</td>\n",
       "      <td>OT</td>\n",
       "    </tr>\n",
       "    <tr>\n",
       "      <th>...</th>\n",
       "      <td>...</td>\n",
       "      <td>...</td>\n",
       "      <td>...</td>\n",
       "    </tr>\n",
       "    <tr>\n",
       "      <th>3005</th>\n",
       "      <td>2018-06-26 15:00:00</td>\n",
       "      <td>47.084999</td>\n",
       "      <td>OT</td>\n",
       "    </tr>\n",
       "    <tr>\n",
       "      <th>3006</th>\n",
       "      <td>2018-06-26 16:00:00</td>\n",
       "      <td>48.183498</td>\n",
       "      <td>OT</td>\n",
       "    </tr>\n",
       "    <tr>\n",
       "      <th>3007</th>\n",
       "      <td>2018-06-26 17:00:00</td>\n",
       "      <td>48.183498</td>\n",
       "      <td>OT</td>\n",
       "    </tr>\n",
       "    <tr>\n",
       "      <th>3008</th>\n",
       "      <td>2018-06-26 18:00:00</td>\n",
       "      <td>46.865501</td>\n",
       "      <td>OT</td>\n",
       "    </tr>\n",
       "    <tr>\n",
       "      <th>3009</th>\n",
       "      <td>2018-06-26 19:00:00</td>\n",
       "      <td>45.986500</td>\n",
       "      <td>OT</td>\n",
       "    </tr>\n",
       "  </tbody>\n",
       "</table>\n",
       "<p>430 rows × 3 columns</p>\n",
       "</div>"
      ],
      "text/plain": [
       "                      ds          y  ID\n",
       "2580 2018-06-08 22:00:00  35.488499  OT\n",
       "2581 2018-06-08 23:00:00  35.488499  OT\n",
       "2582 2018-06-09 00:00:00  35.268501  OT\n",
       "2583 2018-06-09 01:00:00  34.609501  OT\n",
       "2584 2018-06-09 02:00:00  33.950001  OT\n",
       "...                  ...        ...  ..\n",
       "3005 2018-06-26 15:00:00  47.084999  OT\n",
       "3006 2018-06-26 16:00:00  48.183498  OT\n",
       "3007 2018-06-26 17:00:00  48.183498  OT\n",
       "3008 2018-06-26 18:00:00  46.865501  OT\n",
       "3009 2018-06-26 19:00:00  45.986500  OT\n",
       "\n",
       "[430 rows x 3 columns]"
      ]
     },
     "execution_count": 177,
     "metadata": {},
     "output_type": "execute_result"
    }
   ],
   "source": [
    "df_test[df_test.ID=='OT']"
   ]
  },
  {
   "cell_type": "code",
   "execution_count": 179,
   "metadata": {},
   "outputs": [
    {
     "data": {
      "text/plain": [
       "94"
      ]
     },
     "execution_count": 179,
     "metadata": {},
     "output_type": "execute_result"
    }
   ],
   "source": [
    "430-336"
   ]
  },
  {
   "cell_type": "markdown",
   "metadata": {},
   "source": [
    "## Case 1: trend = global "
   ]
  },
  {
   "cell_type": "code",
   "execution_count": 161,
   "metadata": {
    "execution": {
     "iopub.execute_input": "2023-02-20T16:50:20.473012Z",
     "iopub.status.busy": "2023-02-20T16:50:20.472761Z",
     "iopub.status.idle": "2023-02-20T16:50:20.478605Z",
     "shell.execute_reply": "2023-02-20T16:50:20.477361Z",
     "shell.execute_reply.started": "2023-02-20T16:50:20.472988Z"
    }
   },
   "outputs": [
    {
     "data": {
      "application/vnd.jupyter.widget-view+json": {
       "model_id": "37cf944553b64dd89046926a290d1f98",
       "version_major": 2,
       "version_minor": 0
      },
      "text/plain": [
       "Finding best initial lr:   0%|          | 0/276 [00:00<?, ?it/s]"
      ]
     },
     "metadata": {},
     "output_type": "display_data"
    },
    {
     "data": {
      "application/vnd.jupyter.widget-view+json": {
       "model_id": "5fc720bdc08b4d71880b47b4bc34dc62",
       "version_major": 2,
       "version_minor": 0
      },
      "text/plain": [
       "Training: 0it [00:00, ?it/s]"
      ]
     },
     "metadata": {},
     "output_type": "display_data"
    }
   ],
   "source": [
    "m = NeuralProphet(trend_global_local=\"global\", season_global_local=\"global\", n_lags=336)\n",
    "metrics = m.fit(df_train, freq='auto')\n"
   ]
  },
  {
   "cell_type": "code",
   "execution_count": 162,
   "metadata": {},
   "outputs": [
    {
     "data": {
      "application/vnd.jupyter.widget-view+json": {
       "model_id": "a266d4ee41f54980a2a7ccc5b782b582",
       "version_major": 2,
       "version_minor": 0
      },
      "text/plain": [
       "Predicting: 930it [00:00, ?it/s]"
      ]
     },
     "metadata": {},
     "output_type": "display_data"
    },
    {
     "data": {
      "application/vnd.jupyter.widget-view+json": {
       "model_id": "95895554d0f748f7bfaa6731434cab8f",
       "version_major": 2,
       "version_minor": 0
      },
      "text/plain": [
       "Predicting: 930it [00:00, ?it/s]"
      ]
     },
     "metadata": {},
     "output_type": "display_data"
    },
    {
     "data": {
      "application/vnd.jupyter.widget-view+json": {
       "model_id": "c3658e3184e24ebc832d579ce758a1bd",
       "version_major": 2,
       "version_minor": 0
      },
      "text/plain": [
       "Predicting: 930it [00:00, ?it/s]"
      ]
     },
     "metadata": {},
     "output_type": "display_data"
    },
    {
     "data": {
      "application/vnd.jupyter.widget-view+json": {
       "model_id": "609e6af6122d4313ba80d4dbdf855584",
       "version_major": 2,
       "version_minor": 0
      },
      "text/plain": [
       "Predicting: 930it [00:00, ?it/s]"
      ]
     },
     "metadata": {},
     "output_type": "display_data"
    },
    {
     "data": {
      "application/vnd.jupyter.widget-view+json": {
       "model_id": "98b5a424e804410c8dbb1355dd8957b1",
       "version_major": 2,
       "version_minor": 0
      },
      "text/plain": [
       "Predicting: 930it [00:00, ?it/s]"
      ]
     },
     "metadata": {},
     "output_type": "display_data"
    },
    {
     "data": {
      "application/vnd.jupyter.widget-view+json": {
       "model_id": "933d13b02662404794415bd58335b211",
       "version_major": 2,
       "version_minor": 0
      },
      "text/plain": [
       "Predicting: 930it [00:00, ?it/s]"
      ]
     },
     "metadata": {},
     "output_type": "display_data"
    },
    {
     "data": {
      "application/vnd.jupyter.widget-view+json": {
       "model_id": "5b3495babff84cfb9f48a9c730c90e5c",
       "version_major": 2,
       "version_minor": 0
      },
      "text/plain": [
       "Predicting: 930it [00:00, ?it/s]"
      ]
     },
     "metadata": {},
     "output_type": "display_data"
    }
   ],
   "source": [
    "future = m.make_future_dataframe(df_test, n_historic_predictions=True)\n",
    "forecast = m.predict(future)"
   ]
  },
  {
   "cell_type": "code",
   "execution_count": 163,
   "metadata": {},
   "outputs": [
    {
     "data": {
      "text/plain": [
       "(0.19139924184288307, 0.039036368771985276, 0.037714267825433787)"
      ]
     },
     "execution_count": 163,
     "metadata": {},
     "output_type": "execute_result"
    }
   ],
   "source": [
    "forecast_=forecast[(forecast.ID==\"OT\")].dropna()\n",
    "MSE(forecast_.y.to_numpy(), forecast_.yhat1.to_numpy()), MAPE(forecast_.y.to_numpy(), forecast_.yhat1.to_numpy()), wMAPE(forecast_.y.to_numpy(), forecast_.yhat1.to_numpy())"
   ]
  },
  {
   "cell_type": "code",
   "execution_count": 136,
   "metadata": {},
   "outputs": [
    {
     "name": "stderr",
     "output_type": "stream",
     "text": [
      "WARNING - (py.warnings._showwarnmsg) - /var/folders/y_/ckryxn657xd1sjqy61rgk5q80000gn/T/ipykernel_4734/3803420465.py:2: FutureWarning: The series.append method is deprecated and will be removed from pandas in a future version. Use pandas.concat instead.\n",
      "  s=s.append( pd.Series([5.909]), ignore_index=True)\n",
      "\n",
      "WARNING - (py.warnings._showwarnmsg) - /var/folders/y_/ckryxn657xd1sjqy61rgk5q80000gn/T/ipykernel_4734/3803420465.py:3: FutureWarning: The series.append method is deprecated and will be removed from pandas in a future version. Use pandas.concat instead.\n",
      "  s = s.iloc[-1:].append(s.iloc[:-1], ignore_index=True)\n",
      "\n"
     ]
    }
   ],
   "source": [
    "s=forecast_.yhat1\n",
    "s=s.append( pd.Series([5.909]), ignore_index=True)\n",
    "s = s.iloc[-1:].append(s.iloc[:-1], ignore_index=True)\n",
    "y_exp=s.cumsum()"
   ]
  },
  {
   "cell_type": "code",
   "execution_count": 137,
   "metadata": {},
   "outputs": [
    {
     "data": {
      "text/plain": [
       "(1    6.475523\n",
       " 2    6.614055\n",
       " 3    6.355759\n",
       " 4    5.865170\n",
       " 5    5.575357\n",
       " 6    5.612555\n",
       " 7    5.838531\n",
       " 8    5.977192\n",
       " 9    6.441994\n",
       " dtype: float64,\n",
       " 1    12.384523\n",
       " 2    18.998578\n",
       " 3    25.354336\n",
       " 4    31.219506\n",
       " 5    36.794863\n",
       " 6    42.407418\n",
       " 7    48.245949\n",
       " 8    54.223141\n",
       " 9    60.665135\n",
       " dtype: float64)"
      ]
     },
     "execution_count": 137,
     "metadata": {},
     "output_type": "execute_result"
    }
   ],
   "source": [
    "s[1:10], y_exp[1:10]"
   ]
  },
  {
   "cell_type": "code",
   "execution_count": 138,
   "metadata": {},
   "outputs": [],
   "source": [
    "y_true=df_ercot_copy[17324:-1].OT"
   ]
  },
  {
   "cell_type": "code",
   "execution_count": 139,
   "metadata": {},
   "outputs": [
    {
     "data": {
      "text/plain": [
       "17324     5.909\n",
       "17325     5.979\n",
       "17326     5.839\n",
       "17327     5.839\n",
       "17328     5.346\n",
       "          ...  \n",
       "17414    10.200\n",
       "17415    10.904\n",
       "17416    11.044\n",
       "17417    10.271\n",
       "17418     9.778\n",
       "Name: OT, Length: 95, dtype: float64"
      ]
     },
     "execution_count": 139,
     "metadata": {},
     "output_type": "execute_result"
    }
   ],
   "source": [
    "y_true"
   ]
  },
  {
   "cell_type": "code",
   "execution_count": 142,
   "metadata": {},
   "outputs": [
    {
     "data": {
      "text/plain": [
       "194508.810063608"
      ]
     },
     "execution_count": 142,
     "metadata": {},
     "output_type": "execute_result"
    }
   ],
   "source": [
    "MSE(y_exp.to_numpy(), y_true.to_numpy())"
   ]
  },
  {
   "cell_type": "code",
   "execution_count": 141,
   "metadata": {},
   "outputs": [
    {
     "data": {
      "text/html": [
       "<div>\n",
       "<style scoped>\n",
       "    .dataframe tbody tr th:only-of-type {\n",
       "        vertical-align: middle;\n",
       "    }\n",
       "\n",
       "    .dataframe tbody tr th {\n",
       "        vertical-align: top;\n",
       "    }\n",
       "\n",
       "    .dataframe thead th {\n",
       "        text-align: right;\n",
       "    }\n",
       "</style>\n",
       "<table border=\"1\" class=\"dataframe\">\n",
       "  <thead>\n",
       "    <tr style=\"text-align: right;\">\n",
       "      <th></th>\n",
       "      <th>ds</th>\n",
       "      <th>y</th>\n",
       "      <th>ID</th>\n",
       "      <th>yhat1</th>\n",
       "      <th>ar1</th>\n",
       "      <th>trend</th>\n",
       "      <th>season_weekly</th>\n",
       "      <th>season_daily</th>\n",
       "    </tr>\n",
       "  </thead>\n",
       "  <tbody>\n",
       "    <tr>\n",
       "      <th>2922</th>\n",
       "      <td>2018-06-22 22:00:00</td>\n",
       "      <td>5.839</td>\n",
       "      <td>OT</td>\n",
       "      <td>6.475523</td>\n",
       "      <td>10.260613</td>\n",
       "      <td>-3.904886</td>\n",
       "      <td>0.014639</td>\n",
       "      <td>0.105157</td>\n",
       "    </tr>\n",
       "    <tr>\n",
       "      <th>2923</th>\n",
       "      <td>2018-06-22 23:00:00</td>\n",
       "      <td>5.839</td>\n",
       "      <td>OT</td>\n",
       "      <td>6.614055</td>\n",
       "      <td>10.267546</td>\n",
       "      <td>-3.904879</td>\n",
       "      <td>0.014140</td>\n",
       "      <td>0.237249</td>\n",
       "    </tr>\n",
       "    <tr>\n",
       "      <th>2924</th>\n",
       "      <td>2018-06-23 00:00:00</td>\n",
       "      <td>5.346</td>\n",
       "      <td>OT</td>\n",
       "      <td>6.355759</td>\n",
       "      <td>10.127288</td>\n",
       "      <td>-3.904871</td>\n",
       "      <td>0.013572</td>\n",
       "      <td>0.119771</td>\n",
       "    </tr>\n",
       "    <tr>\n",
       "      <th>2925</th>\n",
       "      <td>2018-06-23 01:00:00</td>\n",
       "      <td>5.417</td>\n",
       "      <td>OT</td>\n",
       "      <td>5.865170</td>\n",
       "      <td>9.816777</td>\n",
       "      <td>-3.904864</td>\n",
       "      <td>0.012933</td>\n",
       "      <td>-0.059677</td>\n",
       "    </tr>\n",
       "    <tr>\n",
       "      <th>2926</th>\n",
       "      <td>2018-06-23 02:00:00</td>\n",
       "      <td>5.417</td>\n",
       "      <td>OT</td>\n",
       "      <td>5.575357</td>\n",
       "      <td>9.567251</td>\n",
       "      <td>-3.904856</td>\n",
       "      <td>0.012224</td>\n",
       "      <td>-0.099262</td>\n",
       "    </tr>\n",
       "    <tr>\n",
       "      <th>...</th>\n",
       "      <td>...</td>\n",
       "      <td>...</td>\n",
       "      <td>...</td>\n",
       "      <td>...</td>\n",
       "      <td>...</td>\n",
       "      <td>...</td>\n",
       "      <td>...</td>\n",
       "      <td>...</td>\n",
       "    </tr>\n",
       "    <tr>\n",
       "      <th>3011</th>\n",
       "      <td>2018-06-26 15:00:00</td>\n",
       "      <td>10.904</td>\n",
       "      <td>OT</td>\n",
       "      <td>10.560880</td>\n",
       "      <td>14.410122</td>\n",
       "      <td>-3.904205</td>\n",
       "      <td>-0.079911</td>\n",
       "      <td>0.134874</td>\n",
       "    </tr>\n",
       "    <tr>\n",
       "      <th>3012</th>\n",
       "      <td>2018-06-26 16:00:00</td>\n",
       "      <td>11.044</td>\n",
       "      <td>OT</td>\n",
       "      <td>10.949821</td>\n",
       "      <td>14.909025</td>\n",
       "      <td>-3.904198</td>\n",
       "      <td>-0.080114</td>\n",
       "      <td>0.025108</td>\n",
       "    </tr>\n",
       "    <tr>\n",
       "      <th>3013</th>\n",
       "      <td>2018-06-26 17:00:00</td>\n",
       "      <td>10.271</td>\n",
       "      <td>OT</td>\n",
       "      <td>10.712383</td>\n",
       "      <td>14.755246</td>\n",
       "      <td>-3.904190</td>\n",
       "      <td>-0.079870</td>\n",
       "      <td>-0.058803</td>\n",
       "    </tr>\n",
       "    <tr>\n",
       "      <th>3014</th>\n",
       "      <td>2018-06-26 18:00:00</td>\n",
       "      <td>9.778</td>\n",
       "      <td>OT</td>\n",
       "      <td>10.233411</td>\n",
       "      <td>14.232366</td>\n",
       "      <td>-3.904182</td>\n",
       "      <td>-0.079183</td>\n",
       "      <td>-0.015590</td>\n",
       "    </tr>\n",
       "    <tr>\n",
       "      <th>3015</th>\n",
       "      <td>2018-06-26 19:00:00</td>\n",
       "      <td>9.567</td>\n",
       "      <td>OT</td>\n",
       "      <td>9.643267</td>\n",
       "      <td>13.638296</td>\n",
       "      <td>-3.904175</td>\n",
       "      <td>-0.078061</td>\n",
       "      <td>-0.012795</td>\n",
       "    </tr>\n",
       "  </tbody>\n",
       "</table>\n",
       "<p>94 rows × 8 columns</p>\n",
       "</div>"
      ],
      "text/plain": [
       "                      ds       y  ID      yhat1        ar1     trend  \\\n",
       "2922 2018-06-22 22:00:00   5.839  OT   6.475523  10.260613 -3.904886   \n",
       "2923 2018-06-22 23:00:00   5.839  OT   6.614055  10.267546 -3.904879   \n",
       "2924 2018-06-23 00:00:00   5.346  OT   6.355759  10.127288 -3.904871   \n",
       "2925 2018-06-23 01:00:00   5.417  OT   5.865170   9.816777 -3.904864   \n",
       "2926 2018-06-23 02:00:00   5.417  OT   5.575357   9.567251 -3.904856   \n",
       "...                  ...     ...  ..        ...        ...       ...   \n",
       "3011 2018-06-26 15:00:00  10.904  OT  10.560880  14.410122 -3.904205   \n",
       "3012 2018-06-26 16:00:00  11.044  OT  10.949821  14.909025 -3.904198   \n",
       "3013 2018-06-26 17:00:00  10.271  OT  10.712383  14.755246 -3.904190   \n",
       "3014 2018-06-26 18:00:00   9.778  OT  10.233411  14.232366 -3.904182   \n",
       "3015 2018-06-26 19:00:00   9.567  OT   9.643267  13.638296 -3.904175   \n",
       "\n",
       "      season_weekly  season_daily  \n",
       "2922       0.014639      0.105157  \n",
       "2923       0.014140      0.237249  \n",
       "2924       0.013572      0.119771  \n",
       "2925       0.012933     -0.059677  \n",
       "2926       0.012224     -0.099262  \n",
       "...             ...           ...  \n",
       "3011      -0.079911      0.134874  \n",
       "3012      -0.080114      0.025108  \n",
       "3013      -0.079870     -0.058803  \n",
       "3014      -0.079183     -0.015590  \n",
       "3015      -0.078061     -0.012795  \n",
       "\n",
       "[94 rows x 8 columns]"
      ]
     },
     "execution_count": 141,
     "metadata": {},
     "output_type": "execute_result"
    }
   ],
   "source": [
    "forecast_"
   ]
  },
  {
   "cell_type": "markdown",
   "metadata": {},
   "source": [
    "## Case 1.1: same as 1 but removed trend and seasonality; only AR-net "
   ]
  },
  {
   "cell_type": "code",
   "execution_count": 143,
   "metadata": {},
   "outputs": [
    {
     "data": {
      "application/vnd.jupyter.widget-view+json": {
       "model_id": "2a8d43e717a5425ca6f2c2e272ea76ad",
       "version_major": 2,
       "version_minor": 0
      },
      "text/plain": [
       "Finding best initial lr:   0%|          | 0/276 [00:00<?, ?it/s]"
      ]
     },
     "metadata": {},
     "output_type": "display_data"
    },
    {
     "data": {
      "application/vnd.jupyter.widget-view+json": {
       "model_id": "343af61285ba41549210d9d01f010a7a",
       "version_major": 2,
       "version_minor": 0
      },
      "text/plain": [
       "Training: 0it [00:00, ?it/s]"
      ]
     },
     "metadata": {},
     "output_type": "display_data"
    },
    {
     "data": {
      "application/vnd.jupyter.widget-view+json": {
       "model_id": "55a77c9923764c60807570f9b2a9f2ee",
       "version_major": 2,
       "version_minor": 0
      },
      "text/plain": [
       "Predicting: 930it [00:00, ?it/s]"
      ]
     },
     "metadata": {},
     "output_type": "display_data"
    },
    {
     "data": {
      "application/vnd.jupyter.widget-view+json": {
       "model_id": "233518673b4d4e6bb806e3241e715232",
       "version_major": 2,
       "version_minor": 0
      },
      "text/plain": [
       "Predicting: 930it [00:00, ?it/s]"
      ]
     },
     "metadata": {},
     "output_type": "display_data"
    },
    {
     "data": {
      "application/vnd.jupyter.widget-view+json": {
       "model_id": "cd1df2b8c0f44559895b85a2430cc754",
       "version_major": 2,
       "version_minor": 0
      },
      "text/plain": [
       "Predicting: 930it [00:00, ?it/s]"
      ]
     },
     "metadata": {},
     "output_type": "display_data"
    },
    {
     "data": {
      "application/vnd.jupyter.widget-view+json": {
       "model_id": "150ad27c915546d88945fbdd4f882de1",
       "version_major": 2,
       "version_minor": 0
      },
      "text/plain": [
       "Predicting: 930it [00:00, ?it/s]"
      ]
     },
     "metadata": {},
     "output_type": "display_data"
    },
    {
     "data": {
      "application/vnd.jupyter.widget-view+json": {
       "model_id": "59a29bd808b94ebba5c4e6281a0d07ec",
       "version_major": 2,
       "version_minor": 0
      },
      "text/plain": [
       "Predicting: 930it [00:00, ?it/s]"
      ]
     },
     "metadata": {},
     "output_type": "display_data"
    },
    {
     "data": {
      "application/vnd.jupyter.widget-view+json": {
       "model_id": "21d43678546e41348437c32ae1a6f44c",
       "version_major": 2,
       "version_minor": 0
      },
      "text/plain": [
       "Predicting: 930it [00:00, ?it/s]"
      ]
     },
     "metadata": {},
     "output_type": "display_data"
    },
    {
     "data": {
      "application/vnd.jupyter.widget-view+json": {
       "model_id": "720ec489054348058f09c71e8b1b20de",
       "version_major": 2,
       "version_minor": 0
      },
      "text/plain": [
       "Predicting: 930it [00:00, ?it/s]"
      ]
     },
     "metadata": {},
     "output_type": "display_data"
    },
    {
     "data": {
      "text/plain": [
       "(0.27116900303786534, 0.04555656461889846, 0.04455179688759314)"
      ]
     },
     "execution_count": 143,
     "metadata": {},
     "output_type": "execute_result"
    }
   ],
   "source": [
    "#m = NeuralProphet(trend_global_local=\"global\", season_global_local=\"global\", n_lags=336)\n",
    "m = NeuralProphet(growth='off',\n",
    "                  yearly_seasonality=False,\n",
    "                  weekly_seasonality=False,\n",
    "                  daily_seasonality=False,\n",
    "                  n_lags=336) ## only AR-net \n",
    "\n",
    "metrics = m.fit(df_train, freq='auto')\n",
    "future = m.make_future_dataframe(df_test, n_historic_predictions=True)\n",
    "forecast = m.predict(future)\n",
    "forecast_=forecast[(forecast.ID==\"OT\")].dropna()\n",
    "MSE(forecast_.y.to_numpy(), forecast_.yhat1.to_numpy()), MAPE(forecast_.y.to_numpy(), forecast_.yhat1.to_numpy()), wMAPE(forecast_.y.to_numpy(), forecast_.yhat1.to_numpy())\n"
   ]
  },
  {
   "cell_type": "code",
   "execution_count": 113,
   "metadata": {},
   "outputs": [
    {
     "name": "stderr",
     "output_type": "stream",
     "text": [
      "WARNING - (py.warnings._showwarnmsg) - /var/folders/y_/ckryxn657xd1sjqy61rgk5q80000gn/T/ipykernel_4734/1148937045.py:2: FutureWarning: The series.append method is deprecated and will be removed from pandas in a future version. Use pandas.concat instead.\n",
      "  s=s.append( pd.Series([5.909]), ignore_index=True)\n",
      "\n",
      "WARNING - (py.warnings._showwarnmsg) - /var/folders/y_/ckryxn657xd1sjqy61rgk5q80000gn/T/ipykernel_4734/1148937045.py:3: FutureWarning: The series.append method is deprecated and will be removed from pandas in a future version. Use pandas.concat instead.\n",
      "  s = s.iloc[-1:].append(s.iloc[:-1], ignore_index=True)\n",
      "\n"
     ]
    },
    {
     "data": {
      "text/plain": [
       "(429.75706935185536,)"
      ]
     },
     "execution_count": 113,
     "metadata": {},
     "output_type": "execute_result"
    }
   ],
   "source": [
    "s=forecast_.yhat1\n",
    "s=s.append( pd.Series([5.909]), ignore_index=True)\n",
    "s = s.iloc[-1:].append(s.iloc[:-1], ignore_index=True)\n",
    "y_exp=s.cumsum()\n",
    "y_true=df_ercot_copy[17324:-1].OT\n",
    "MSE(y_exp.to_numpy(), y_true.to_numpy()),\n"
   ]
  },
  {
   "cell_type": "code",
   "execution_count": 114,
   "metadata": {},
   "outputs": [
    {
     "data": {
      "text/plain": [
       "0     5.909000\n",
       "1    -0.416388\n",
       "2    -0.117064\n",
       "3    -0.289711\n",
       "4    -0.285194\n",
       "        ...   \n",
       "90    0.110573\n",
       "91    0.060803\n",
       "92   -0.388416\n",
       "93   -0.262096\n",
       "94   -0.611604\n",
       "Length: 95, dtype: float64"
      ]
     },
     "execution_count": 114,
     "metadata": {},
     "output_type": "execute_result"
    }
   ],
   "source": [
    "s"
   ]
  },
  {
   "cell_type": "code",
   "execution_count": 115,
   "metadata": {},
   "outputs": [
    {
     "data": {
      "text/html": [
       "<div>\n",
       "<style scoped>\n",
       "    .dataframe tbody tr th:only-of-type {\n",
       "        vertical-align: middle;\n",
       "    }\n",
       "\n",
       "    .dataframe tbody tr th {\n",
       "        vertical-align: top;\n",
       "    }\n",
       "\n",
       "    .dataframe thead th {\n",
       "        text-align: right;\n",
       "    }\n",
       "</style>\n",
       "<table border=\"1\" class=\"dataframe\">\n",
       "  <thead>\n",
       "    <tr style=\"text-align: right;\">\n",
       "      <th></th>\n",
       "      <th>ds</th>\n",
       "      <th>y</th>\n",
       "      <th>ID</th>\n",
       "      <th>yhat1</th>\n",
       "      <th>ar1</th>\n",
       "      <th>trend</th>\n",
       "    </tr>\n",
       "  </thead>\n",
       "  <tbody>\n",
       "    <tr>\n",
       "      <th>2922</th>\n",
       "      <td>2018-06-22 22:00:00</td>\n",
       "      <td>-0.140000</td>\n",
       "      <td>OT</td>\n",
       "      <td>-0.416388</td>\n",
       "      <td>-2.973794</td>\n",
       "      <td>2.557406</td>\n",
       "    </tr>\n",
       "    <tr>\n",
       "      <th>2923</th>\n",
       "      <td>2018-06-22 23:00:00</td>\n",
       "      <td>0.000000</td>\n",
       "      <td>OT</td>\n",
       "      <td>-0.117064</td>\n",
       "      <td>-2.674471</td>\n",
       "      <td>2.557406</td>\n",
       "    </tr>\n",
       "    <tr>\n",
       "      <th>2924</th>\n",
       "      <td>2018-06-23 00:00:00</td>\n",
       "      <td>-0.493000</td>\n",
       "      <td>OT</td>\n",
       "      <td>-0.289711</td>\n",
       "      <td>-2.847118</td>\n",
       "      <td>2.557406</td>\n",
       "    </tr>\n",
       "    <tr>\n",
       "      <th>2925</th>\n",
       "      <td>2018-06-23 01:00:00</td>\n",
       "      <td>0.071000</td>\n",
       "      <td>OT</td>\n",
       "      <td>-0.285194</td>\n",
       "      <td>-2.842601</td>\n",
       "      <td>2.557406</td>\n",
       "    </tr>\n",
       "    <tr>\n",
       "      <th>2926</th>\n",
       "      <td>2018-06-23 02:00:00</td>\n",
       "      <td>0.000000</td>\n",
       "      <td>OT</td>\n",
       "      <td>-0.632612</td>\n",
       "      <td>-3.190018</td>\n",
       "      <td>2.557406</td>\n",
       "    </tr>\n",
       "    <tr>\n",
       "      <th>...</th>\n",
       "      <td>...</td>\n",
       "      <td>...</td>\n",
       "      <td>...</td>\n",
       "      <td>...</td>\n",
       "      <td>...</td>\n",
       "      <td>...</td>\n",
       "    </tr>\n",
       "    <tr>\n",
       "      <th>3011</th>\n",
       "      <td>2018-06-26 15:00:00</td>\n",
       "      <td>0.704000</td>\n",
       "      <td>OT</td>\n",
       "      <td>0.110573</td>\n",
       "      <td>-2.446833</td>\n",
       "      <td>2.557406</td>\n",
       "    </tr>\n",
       "    <tr>\n",
       "      <th>3012</th>\n",
       "      <td>2018-06-26 16:00:00</td>\n",
       "      <td>0.139999</td>\n",
       "      <td>OT</td>\n",
       "      <td>0.060803</td>\n",
       "      <td>-2.496602</td>\n",
       "      <td>2.557406</td>\n",
       "    </tr>\n",
       "    <tr>\n",
       "      <th>3013</th>\n",
       "      <td>2018-06-26 17:00:00</td>\n",
       "      <td>-0.773000</td>\n",
       "      <td>OT</td>\n",
       "      <td>-0.388416</td>\n",
       "      <td>-2.945823</td>\n",
       "      <td>2.557406</td>\n",
       "    </tr>\n",
       "    <tr>\n",
       "      <th>3014</th>\n",
       "      <td>2018-06-26 18:00:00</td>\n",
       "      <td>-0.493000</td>\n",
       "      <td>OT</td>\n",
       "      <td>-0.262096</td>\n",
       "      <td>-2.819503</td>\n",
       "      <td>2.557406</td>\n",
       "    </tr>\n",
       "    <tr>\n",
       "      <th>3015</th>\n",
       "      <td>2018-06-26 19:00:00</td>\n",
       "      <td>-0.210999</td>\n",
       "      <td>OT</td>\n",
       "      <td>-0.611604</td>\n",
       "      <td>-3.169011</td>\n",
       "      <td>2.557406</td>\n",
       "    </tr>\n",
       "  </tbody>\n",
       "</table>\n",
       "<p>94 rows × 6 columns</p>\n",
       "</div>"
      ],
      "text/plain": [
       "                      ds         y  ID     yhat1       ar1     trend\n",
       "2922 2018-06-22 22:00:00 -0.140000  OT -0.416388 -2.973794  2.557406\n",
       "2923 2018-06-22 23:00:00  0.000000  OT -0.117064 -2.674471  2.557406\n",
       "2924 2018-06-23 00:00:00 -0.493000  OT -0.289711 -2.847118  2.557406\n",
       "2925 2018-06-23 01:00:00  0.071000  OT -0.285194 -2.842601  2.557406\n",
       "2926 2018-06-23 02:00:00  0.000000  OT -0.632612 -3.190018  2.557406\n",
       "...                  ...       ...  ..       ...       ...       ...\n",
       "3011 2018-06-26 15:00:00  0.704000  OT  0.110573 -2.446833  2.557406\n",
       "3012 2018-06-26 16:00:00  0.139999  OT  0.060803 -2.496602  2.557406\n",
       "3013 2018-06-26 17:00:00 -0.773000  OT -0.388416 -2.945823  2.557406\n",
       "3014 2018-06-26 18:00:00 -0.493000  OT -0.262096 -2.819503  2.557406\n",
       "3015 2018-06-26 19:00:00 -0.210999  OT -0.611604 -3.169011  2.557406\n",
       "\n",
       "[94 rows x 6 columns]"
      ]
     },
     "execution_count": 115,
     "metadata": {},
     "output_type": "execute_result"
    }
   ],
   "source": [
    "forecast_"
   ]
  },
  {
   "cell_type": "code",
   "execution_count": 116,
   "metadata": {},
   "outputs": [
    {
     "data": {
      "text/plain": [
       "(2.6738902037095786, 47723582143866.15, 0.8425857460969356)"
      ]
     },
     "execution_count": 116,
     "metadata": {},
     "output_type": "execute_result"
    }
   ],
   "source": [
    "forecast_=forecast.dropna()\n",
    "MSE(forecast_.y.to_numpy(), forecast_.yhat1.to_numpy()), MAPE(forecast_.y.to_numpy(), forecast_.yhat1.to_numpy()), wMAPE(forecast_.y.to_numpy(), forecast_.yhat1.to_numpy())"
   ]
  },
  {
   "cell_type": "code",
   "execution_count": 117,
   "metadata": {},
   "outputs": [
    {
     "ename": "AttributeError",
     "evalue": "'NoneType' object has no attribute 'global_local'",
     "output_type": "error",
     "traceback": [
      "\u001b[0;31m---------------------------------------------------------------------------\u001b[0m",
      "\u001b[0;31mAttributeError\u001b[0m                            Traceback (most recent call last)",
      "Cell \u001b[0;32mIn[117], line 1\u001b[0m\n\u001b[0;32m----> 1\u001b[0m fig_param \u001b[38;5;241m=\u001b[39m \u001b[43mm\u001b[49m\u001b[38;5;241;43m.\u001b[39;49m\u001b[43mplot_parameters\u001b[49m\u001b[43m(\u001b[49m\u001b[43m)\u001b[49m\n",
      "File \u001b[0;32m/Library/Frameworks/Python.framework/Versions/3.9/lib/python3.9/site-packages/neuralprophet/forecaster.py:2124\u001b[0m, in \u001b[0;36mNeuralProphet.plot_parameters\u001b[0;34m(self, weekly_start, yearly_start, figsize, forecast_in_focus, df_name, plotting_backend, quantile, components)\u001b[0m\n\u001b[1;32m   2114\u001b[0m \u001b[38;5;66;03m# Validate components to be plotted\u001b[39;00m\n\u001b[1;32m   2115\u001b[0m valid_parameters_set \u001b[38;5;241m=\u001b[39m [\n\u001b[1;32m   2116\u001b[0m     \u001b[38;5;124m\"\u001b[39m\u001b[38;5;124mtrend\u001b[39m\u001b[38;5;124m\"\u001b[39m,\n\u001b[1;32m   2117\u001b[0m     \u001b[38;5;124m\"\u001b[39m\u001b[38;5;124mtrend_rate_change\u001b[39m\u001b[38;5;124m\"\u001b[39m,\n\u001b[0;32m   (...)\u001b[0m\n\u001b[1;32m   2122\u001b[0m     \u001b[38;5;124m\"\u001b[39m\u001b[38;5;124mfuture_regressors\u001b[39m\u001b[38;5;124m\"\u001b[39m,\n\u001b[1;32m   2123\u001b[0m ]\n\u001b[0;32m-> 2124\u001b[0m valid_plot_configuration \u001b[38;5;241m=\u001b[39m \u001b[43mget_valid_configuration\u001b[49m\u001b[43m(\u001b[49m\n\u001b[1;32m   2125\u001b[0m \u001b[43m    \u001b[49m\u001b[43mm\u001b[49m\u001b[38;5;241;43m=\u001b[39;49m\u001b[38;5;28;43mself\u001b[39;49m\u001b[43m,\u001b[49m\n\u001b[1;32m   2126\u001b[0m \u001b[43m    \u001b[49m\u001b[43mcomponents\u001b[49m\u001b[38;5;241;43m=\u001b[39;49m\u001b[43mcomponents\u001b[49m\u001b[43m,\u001b[49m\n\u001b[1;32m   2127\u001b[0m \u001b[43m    \u001b[49m\u001b[43mdf_name\u001b[49m\u001b[38;5;241;43m=\u001b[39;49m\u001b[43mdf_name\u001b[49m\u001b[43m,\u001b[49m\n\u001b[1;32m   2128\u001b[0m \u001b[43m    \u001b[49m\u001b[43mforecast_in_focus\u001b[49m\u001b[38;5;241;43m=\u001b[39;49m\u001b[43mforecast_in_focus\u001b[49m\u001b[43m,\u001b[49m\n\u001b[1;32m   2129\u001b[0m \u001b[43m    \u001b[49m\u001b[43mvalid_set\u001b[49m\u001b[38;5;241;43m=\u001b[39;49m\u001b[43mvalid_parameters_set\u001b[49m\u001b[43m,\u001b[49m\n\u001b[1;32m   2130\u001b[0m \u001b[43m    \u001b[49m\u001b[43mvalidator\u001b[49m\u001b[38;5;241;43m=\u001b[39;49m\u001b[38;5;124;43m\"\u001b[39;49m\u001b[38;5;124;43mplot_parameters\u001b[39;49m\u001b[38;5;124;43m\"\u001b[39;49m\u001b[43m,\u001b[49m\n\u001b[1;32m   2131\u001b[0m \u001b[43m    \u001b[49m\u001b[43mquantile\u001b[49m\u001b[38;5;241;43m=\u001b[39;49m\u001b[43mquantile\u001b[49m\u001b[43m,\u001b[49m\n\u001b[1;32m   2132\u001b[0m \u001b[43m\u001b[49m\u001b[43m)\u001b[49m\n\u001b[1;32m   2134\u001b[0m \u001b[38;5;66;03m# Check whether the default plotting backend is overwritten\u001b[39;00m\n\u001b[1;32m   2135\u001b[0m plotting_backend \u001b[38;5;241m=\u001b[39m (\n\u001b[1;32m   2136\u001b[0m     plotting_backend\n\u001b[1;32m   2137\u001b[0m     \u001b[38;5;28;01mif\u001b[39;00m plotting_backend \u001b[38;5;241m!=\u001b[39m \u001b[38;5;124m\"\u001b[39m\u001b[38;5;124mdefault\u001b[39m\u001b[38;5;124m\"\u001b[39m\n\u001b[1;32m   2138\u001b[0m     \u001b[38;5;28;01melse\u001b[39;00m (\u001b[38;5;28mself\u001b[39m\u001b[38;5;241m.\u001b[39mplotting_backend \u001b[38;5;28;01mif\u001b[39;00m \u001b[38;5;28mhasattr\u001b[39m(\u001b[38;5;28mself\u001b[39m, \u001b[38;5;124m\"\u001b[39m\u001b[38;5;124mplotting_backend\u001b[39m\u001b[38;5;124m\"\u001b[39m) \u001b[38;5;28;01melse\u001b[39;00m \u001b[38;5;124m\"\u001b[39m\u001b[38;5;124mmatplotlib\u001b[39m\u001b[38;5;124m\"\u001b[39m)\n\u001b[1;32m   2139\u001b[0m )\n",
      "File \u001b[0;32m/Library/Frameworks/Python.framework/Versions/3.9/lib/python3.9/site-packages/neuralprophet/plot_utils.py:278\u001b[0m, in \u001b[0;36mget_valid_configuration\u001b[0;34m(m, components, df_name, valid_set, validator, forecast_in_focus, quantile)\u001b[0m\n\u001b[1;32m    275\u001b[0m \u001b[38;5;28;01mif\u001b[39;00m df_name \u001b[38;5;129;01mis\u001b[39;00m \u001b[38;5;28;01mNone\u001b[39;00m:\n\u001b[1;32m    276\u001b[0m     \u001b[38;5;28;01mif\u001b[39;00m m\u001b[38;5;241m.\u001b[39mid_list\u001b[38;5;241m.\u001b[39m\u001b[38;5;21m__len__\u001b[39m() \u001b[38;5;241m>\u001b[39m \u001b[38;5;241m1\u001b[39m:\n\u001b[1;32m    277\u001b[0m         \u001b[38;5;28;01mif\u001b[39;00m (\n\u001b[0;32m--> 278\u001b[0m             \u001b[43mm\u001b[49m\u001b[38;5;241;43m.\u001b[39;49m\u001b[43mmodel\u001b[49m\u001b[38;5;241;43m.\u001b[39;49m\u001b[43mconfig_seasonality\u001b[49m\u001b[38;5;241;43m.\u001b[39;49m\u001b[43mglobal_local\u001b[49m \u001b[38;5;241m==\u001b[39m \u001b[38;5;124m\"\u001b[39m\u001b[38;5;124mlocal\u001b[39m\u001b[38;5;124m\"\u001b[39m\n\u001b[1;32m    279\u001b[0m             \u001b[38;5;129;01mor\u001b[39;00m m\u001b[38;5;241m.\u001b[39mmodel\u001b[38;5;241m.\u001b[39mconfig_trend\u001b[38;5;241m.\u001b[39mtrend_global_local \u001b[38;5;241m==\u001b[39m \u001b[38;5;124m\"\u001b[39m\u001b[38;5;124mlocal\u001b[39m\u001b[38;5;124m\"\u001b[39m\n\u001b[1;32m    280\u001b[0m         ):\n\u001b[1;32m    281\u001b[0m             df_name \u001b[38;5;241m=\u001b[39m m\u001b[38;5;241m.\u001b[39mid_list\n\u001b[1;32m    282\u001b[0m             log\u001b[38;5;241m.\u001b[39mwarning(\n\u001b[1;32m    283\u001b[0m                 \u001b[38;5;124m\"\u001b[39m\u001b[38;5;124mGlocal model set with > 1 time series in the pd.DataFrame. Plotting components of mean time series and quants. \u001b[39m\u001b[38;5;124m\"\u001b[39m\n\u001b[1;32m    284\u001b[0m             )\n",
      "\u001b[0;31mAttributeError\u001b[0m: 'NoneType' object has no attribute 'global_local'"
     ]
    }
   ],
   "source": [
    "fig_param = m.plot_parameters()\n"
   ]
  },
  {
   "cell_type": "code",
   "execution_count": null,
   "metadata": {},
   "outputs": [],
   "source": []
  },
  {
   "cell_type": "markdown",
   "metadata": {},
   "source": [
    "## Case 2: when trend is independent \n"
   ]
  },
  {
   "cell_type": "code",
   "execution_count": 60,
   "metadata": {
    "scrolled": false
   },
   "outputs": [
    {
     "data": {
      "application/vnd.jupyter.widget-view+json": {
       "model_id": "17526e72f5f24eb2a587658ad0ca3ae3",
       "version_major": 2,
       "version_minor": 0
      },
      "text/plain": [
       "Finding best initial lr:   0%|          | 0/277 [00:00<?, ?it/s]"
      ]
     },
     "metadata": {},
     "output_type": "display_data"
    },
    {
     "data": {
      "application/vnd.jupyter.widget-view+json": {
       "model_id": "bc19f16005464feb81efc4537210ab4c",
       "version_major": 2,
       "version_minor": 0
      },
      "text/plain": [
       "Training: 0it [00:00, ?it/s]"
      ]
     },
     "metadata": {},
     "output_type": "display_data"
    }
   ],
   "source": [
    "m = NeuralProphet(trend_global_local=\"local\", season_global_local=\"global\", n_lags=24)\n",
    "metrics = m.fit(df_train, freq='auto')\n",
    "\n"
   ]
  },
  {
   "cell_type": "code",
   "execution_count": null,
   "metadata": {
    "execution": {
     "iopub.execute_input": "2023-02-20T16:55:54.721967Z",
     "iopub.status.busy": "2023-02-20T16:55:54.721189Z",
     "iopub.status.idle": "2023-02-20T16:55:54.737213Z",
     "shell.execute_reply": "2023-02-20T16:55:54.736120Z",
     "shell.execute_reply.started": "2023-02-20T16:55:54.721937Z"
    },
    "scrolled": true
   },
   "outputs": [],
   "source": [
    "future = m.make_future_dataframe(df_test, n_historic_predictions=True)\n",
    "forecast = m.predict(future)\n"
   ]
  },
  {
   "cell_type": "code",
   "execution_count": null,
   "metadata": {},
   "outputs": [],
   "source": [
    "print (\"trend unique values, unique number of trend values, shape of the forecast dataframe\")\n",
    "print (forecast[(forecast.ID==\"OT\")].dropna().trend.unique())\n",
    "print (forecast[(forecast.ID==\"OT\")].dropna().trend.nunique())\n",
    "print (forecast[(forecast.ID==\"OT\")].dropna().shape)"
   ]
  },
  {
   "cell_type": "code",
   "execution_count": null,
   "metadata": {
    "execution": {
     "iopub.execute_input": "2023-02-20T16:55:54.738515Z",
     "iopub.status.busy": "2023-02-20T16:55:54.738258Z",
     "iopub.status.idle": "2023-02-20T16:55:54.758312Z",
     "shell.execute_reply": "2023-02-20T16:55:54.757076Z",
     "shell.execute_reply.started": "2023-02-20T16:55:54.738491Z"
    }
   },
   "outputs": [],
   "source": [
    "forecast_=forecast[(forecast.ID==\"OT\")].dropna()\n",
    "MSE(forecast_.y.to_numpy(), forecast_.yhat1.to_numpy())\n"
   ]
  },
  {
   "cell_type": "code",
   "execution_count": null,
   "metadata": {},
   "outputs": [],
   "source": [
    "forecast_.trend.plot()"
   ]
  },
  {
   "cell_type": "markdown",
   "metadata": {},
   "source": []
  },
  {
   "cell_type": "code",
   "execution_count": null,
   "metadata": {
    "execution": {
     "iopub.status.busy": "2023-02-20T17:01:30.369518Z",
     "iopub.status.idle": "2023-02-20T17:01:30.369955Z",
     "shell.execute_reply": "2023-02-20T17:01:30.369763Z",
     "shell.execute_reply.started": "2023-02-20T17:01:30.369741Z"
    },
    "scrolled": false
   },
   "outputs": [],
   "source": [
    "fig_param = m.plot_parameters()\n"
   ]
  },
  {
   "cell_type": "markdown",
   "metadata": {},
   "source": [
    "### Case 3: Local seasonality \n"
   ]
  },
  {
   "cell_type": "code",
   "execution_count": null,
   "metadata": {
    "scrolled": true
   },
   "outputs": [],
   "source": [
    "m = NeuralProphet(trend_global_local=\"local\", season_global_local=\"local\", n_lags=24)\n",
    "metrics = m.fit(df_train, freq='auto')\n",
    "future = m.make_future_dataframe(df_test, n_historic_predictions=True)\n",
    "forecast = m.predict(future)\n",
    "forecast_=forecast[(forecast.ID==\"OT\")].dropna()\n",
    "MSE(forecast_.y.to_numpy(), forecast_.yhat1.to_numpy())"
   ]
  },
  {
   "cell_type": "markdown",
   "metadata": {},
   "source": [
    "## Case 4: Use only Oil temperature, no load features as input. "
   ]
  },
  {
   "cell_type": "code",
   "execution_count": null,
   "metadata": {},
   "outputs": [],
   "source": [
    "df_ercot.drop(columns=['HUFL','HULL','MUFL','MULL','LUFL','LULL'],\n",
    "             inplace=True)"
   ]
  },
  {
   "cell_type": "code",
   "execution_count": null,
   "metadata": {},
   "outputs": [],
   "source": [
    "df_ercot.head()"
   ]
  },
  {
   "cell_type": "code",
   "execution_count": null,
   "metadata": {},
   "outputs": [],
   "source": [
    "m_ot = NeuralProphet(n_lags=24)\n",
    "df_ercot.rename({\"date\":\"ds\",\n",
    "                \"OT\":\"y\"},\n",
    "                 inplace=True,\n",
    "                axis=1)\n",
    "df_train_ot, df_test_ot = m_ot.split_df(df_ercot, valid_p=0.33)#, local_split=True)"
   ]
  },
  {
   "cell_type": "code",
   "execution_count": null,
   "metadata": {},
   "outputs": [],
   "source": []
  },
  {
   "cell_type": "code",
   "execution_count": null,
   "metadata": {},
   "outputs": [],
   "source": [
    "\n",
    "m_ot = NeuralProphet(n_lags=24)\n",
    "metrics = m_ot.fit(df_train_ot, freq='auto')\n"
   ]
  },
  {
   "cell_type": "code",
   "execution_count": null,
   "metadata": {},
   "outputs": [],
   "source": [
    "future = m_ot.make_future_dataframe(df_test_ot, n_historic_predictions=True)\n",
    "forecast = m_ot.predict(future)\n",
    "#forecast_=forecast[(forecast.ID==\"OT\")].dropna()\n",
    "MSE(forecast_.y.to_numpy(), forecast_.yhat1.to_numpy())"
   ]
  },
  {
   "cell_type": "markdown",
   "metadata": {},
   "source": [
    "## Case 5: use data for 2 transformer (only OT as time series) \n",
    "### prepare dataset for multiple transformers \n"
   ]
  },
  {
   "cell_type": "code",
   "execution_count": null,
   "metadata": {},
   "outputs": [],
   "source": [
    "df_all = pd.DataFrame()\n",
    "df_ercot[\"ID\"] = \"T1\"\n",
    "df_ercot_2[\"ID\"] = \"T2\"\n",
    "df_all = pd.concat((df_all, df_ercot))\n",
    "df_all = pd.concat((df_all, df_ercot_2))\n",
    "df_all.head()\n"
   ]
  },
  {
   "cell_type": "code",
   "execution_count": null,
   "metadata": {},
   "outputs": [],
   "source": [
    "df_all.shape, df_ercot.shape, df_ercot_2.shape"
   ]
  },
  {
   "cell_type": "code",
   "execution_count": null,
   "metadata": {},
   "outputs": [],
   "source": [
    "m_2t = NeuralProphet(trend_global_local=\"global\", season_global_local=\"global\", n_lags=24)\n",
    "df_train_2t, df_test_2t = m_2t.split_df(df_all, valid_p=0.33, local_split=True)"
   ]
  },
  {
   "cell_type": "code",
   "execution_count": null,
   "metadata": {},
   "outputs": [],
   "source": [
    "metrics = m_2t.fit(df_train_2t, freq='auto')\n",
    "future_2t = m_2t.make_future_dataframe(df_test_2t, n_historic_predictions=True)\n",
    "forecast = m_2t.predict(future_2t)\n",
    "forecast_t1 = forecast[(forecast.ID==\"T1\")].dropna()\n",
    "forecast_t2 = forecast[(forecast.ID==\"T2\")].dropna()\n",
    "forecast_ = forecast.dropna()\n",
    "MSE(forecast_.y.to_numpy(), forecast_.yhat1.to_numpy()), MSE(forecast_t1.y.to_numpy(), forecast_t1.yhat1.to_numpy()) , MSE(forecast_t2.y.to_numpy(), forecast_t2.yhat1.to_numpy())\n"
   ]
  },
  {
   "cell_type": "markdown",
   "metadata": {},
   "source": [
    "### Case 6: using load as external variables "
   ]
  },
  {
   "cell_type": "code",
   "execution_count": null,
   "metadata": {},
   "outputs": [],
   "source": [
    "def preparedatacase6(df1, df2):\n",
    "    df = pd.DataFrame()\n",
    "    \n",
    "    df1[\"ID\"] = \"T1\"\n",
    "    df2[\"ID\"] = \"T2\"\n",
    "    df = pd.concat((df, df1))\n",
    "    df = pd.concat((df, df2))\n",
    "    df.head()\n",
    "    return df\n",
    "\n"
   ]
  },
  {
   "cell_type": "code",
   "execution_count": null,
   "metadata": {},
   "outputs": [],
   "source": [
    "df_ercot = pd.read_csv('ETTh1.csv' )\n",
    "df_ercot_2 = pd.read_csv('ETTh2.csv')\n",
    "df = preparedatacase6(df_ercot,df_ercot_2 )\n",
    "df.rename({\"date\":\"ds\", \"OT\":\"y\"},\n",
    "                 inplace=True,\n",
    "                axis=1)\n",
    "df\n",
    "\n"
   ]
  },
  {
   "cell_type": "code",
   "execution_count": null,
   "metadata": {},
   "outputs": [],
   "source": [
    "m_2t_lr = NeuralProphet(trend_global_local=\"global\", season_global_local=\"global\", n_lags=24)\n",
    "## 2 time series with lagged regressors \n",
    "df_train_2t_lr, df_test_2t_lr = m_2t_lr.split_df(df, valid_p=0.33, local_split=True)\n"
   ]
  },
  {
   "cell_type": "code",
   "execution_count": null,
   "metadata": {},
   "outputs": [],
   "source": [
    "m_2t_lr = m_2t_lr.add_lagged_regressor(names=['HUFL', 'HULL', 'MUFL', 'MULL', 'LUFL', 'LULL'])\n"
   ]
  },
  {
   "cell_type": "code",
   "execution_count": null,
   "metadata": {},
   "outputs": [],
   "source": [
    "metrics = m_2t_lr.fit(df_train_2t_lr, freq='auto')\n"
   ]
  },
  {
   "cell_type": "code",
   "execution_count": null,
   "metadata": {},
   "outputs": [],
   "source": [
    "future_2t_lr = m_2t_lr.make_future_dataframe(df_test_2t_lr, n_historic_predictions=True)\n",
    "forecast = m_2t_lr.predict(future_2t_lr)\n",
    "forecast_t1 = forecast[(forecast.ID==\"T1\")].dropna()\n",
    "forecast_t2 = forecast[(forecast.ID==\"T2\")].dropna()\n",
    "forecast_ = forecast.dropna()\n",
    "MSE(forecast_.y.to_numpy(), forecast_.yhat1.to_numpy()), MSE(forecast_t1.y.to_numpy(), forecast_t1.yhat1.to_numpy()) , MSE(forecast_t2.y.to_numpy(), forecast_t2.yhat1.to_numpy())\n",
    "\n"
   ]
  },
  {
   "cell_type": "markdown",
   "metadata": {},
   "source": [
    "## Result \n",
    "| Case #| Case | MSE |  Commment|\n",
    "|----|--|-----|---------|\n",
    "|**NeuralProphet based**|\n",
    "| 1.| Global trend & Global seasonal | 0.661704 |  |\n",
    "| 2.| local trend & Global seasonal | 0.799272 | recomended to keep same type for trend and seasonal  |\n",
    "| 3.| local trend & local seasonal | 0.650489| Not much difference w.r.t case 1 |\n",
    "| 4.| without using Load features, line univariate TS | 0.650489  |Expected, if AR is not in the picture, but AR is activated, so these two should ideally be different  |\n",
    "| 5.| add all transformers, Multivariate TS |0.55468 | using both transformer to MSE calculation, individual MSE: 0.438, 0.670| \n",
    "| 6.| using load features as external variables | 0.59020  | individual MSE: 0.463149, 0.717256 | \n",
    "|**Vector Auto Regression**|\n",
    "| 7.1| Vector Auto Regression (VAR) default dataset | 243 | Forecasted all the TS but MSE calculated using OT only   |  \n",
    "| 7.2| Vector Auto Regression (VAR) with  d =1  | 1.7 | Forecasted all the TS but MSE calculated using OT only   | \n",
    "| 7.3| Vector Auto Regression (VAR) with  d =2  | 1.16 | VAR, require pre-processing   |\n",
    "| 7.4| Vector Auto Regression (VAR) with  d =3  | 2.60 | VAR, require pre-processing   |\n",
    "| 7.5| VAR for two transformers, with d = 2,lag=24 (as in NP)  | (0.8316063751104331, 0.62725996261246) | works better when using only OT as input, Load variable are dropped. slighly poor than Neural prophet, not very difficult to use. | \n",
    "| 7.6| VAR for two transformers, with d = 2, lag = 168 (as in other VAR cases)  | (0.8298342386285907, 0.5931356355054012) | works better when using only OT as input, Load variable are dropped. slighly poor than Neural prophet, not very difficult to use. | \n",
    "| **ARIMA** | \n",
    "| 8.| Auto ARIMA  | N/A ; very poor for univariate| only for univariate TS, computing instensive and super slow on first go. |  \n",
    "|**Vanilla models**|\n",
    "| 9.| Vanilla Transformer Model  |   |  Driven by Student's implementation  | \n",
    "| 10.| Vanilla LSTM Model |   | Driven by Student's implementation | \n",
    "|**Linear/DLinear variants** |\n",
    "| 11.| DLinear | | Conda issues fixed, MSE by running their code is: 0.3840945363 for same dataset |\n",
    "|**Transformer variants**|\n",
    "| 12.| FedFormer Model (?)  |   | Driven by 11  | \n",
    "| 13.| AutoFormer Model (?)  |   | Driven by 11  | \n",
    "| 14.| Informer Model (?)  |   | Driven by 11  | \n",
    "| 15.| PyraFormer Model (?)  |   | Driven by 11  | \n",
    "| 16.| LogTrans Model (?)  |   | Driven by 11  | \n",
    "| 17.| Repeat Model (?)  |   | Driven by 11  | \n",
    "| 18.| HFformer (trading)? | | https://arxiv.org/pdf/2302.13850.pdf | \n",
    "\n",
    "\n"
   ]
  },
  {
   "cell_type": "markdown",
   "metadata": {},
   "source": [
    "#### To do next: \n",
    "0. Try VAR using higher value of d, and also try to do it using only OT (for two ETTs). **Done**\n",
    "1. Add all Transformer variant models \n",
    "2. Make DLinear work \n",
    "3. Identify more datasets, variety in dataset is needed \n",
    "4. Find the talk video and read that paper as well. \n",
    "5. Read more about informer and DLinear models. "
   ]
  },
  {
   "cell_type": "markdown",
   "metadata": {},
   "source": [
    "## March 7 \n",
    "\n",
    "1. <font color='darkgreen'> Added 7.5 and 7.6 for Vector Auto regression. </font>\n",
    "   - <font color='green'> In general, so far Neural prophet is better than VAR. </font>\n",
    "   - <font color='green'> partially expected because NP has trend + seasonality + AR and VAR have only AR. </font>\n",
    "   - <font color='green'> Will be worth switching off the trend and seasonality in NP and compare with AR. </font>\n",
    "   \n",
    "2. <font color='darkgreen'> installation of DLinear framework. </font>\n",
    "   - <font color='green'> very little detail about the code, no documentation other than **ONE** command to run the code. </font>\n",
    "   - <font color='green'> Ran for one dataset and output is saved. At the moment work only for one dataset, In debugging phase. </font>\n",
    "   - <font color='green'> Partially understood the output but still figuring out how to calculate metric (MSE) etc. </font>\n",
    "\n",
    "\n",
    "#### Next steps (aggresive timeline) \n",
    "1. <font color='orange'> Add remaining Transformer models in the table. </font>\n",
    "2. <font color='orange'> Complete the table with other multivariate datasets.  </font>\n",
    "3. <font color='orange'> Find optimal hyperparameters for NP and VAR, and may be for other models. [21 March] </font>\n",
    "4. <font color='orange'> March end: Start thinking about the computational paper.  </font>\n",
    "    - <font color= 'darkorange'> collect more datasets which can compliment the dataset pool. </font>\n",
    "    - <font color='darkorange'> add any other existing model which might be interesting.  </font>\n",
    "    - <font color='darkorange'> Brainstrom about the content of the paper, graphs/plots/tables,</font>\n",
    "    \n",
    "#### Uniqueness \n",
    "<font color='blue'> What is new in this paper: </font> \n",
    "1. <font color='blue'> Extending the comparison with existing paper. </font> \n",
    "2. <font color='blue'> Added NP and VAR. </font> \n",
    "3. <font color='blue'> Anything else we find new in the mean time</font> "
   ]
  },
  {
   "cell_type": "code",
   "execution_count": null,
   "metadata": {},
   "outputs": [],
   "source": []
  },
  {
   "cell_type": "markdown",
   "metadata": {},
   "source": []
  },
  {
   "cell_type": "markdown",
   "metadata": {},
   "source": []
  },
  {
   "cell_type": "markdown",
   "metadata": {},
   "source": [
    "* create a table: easy to see the characteristics of each dataset,e.g.  # of each TS, heavy seasonal / trend effect or see more datures, and collect a pool of dataset.  \n",
    "* add more datasets in addition to this, identify and add varaity of datasets. \n",
    "* strongly coorelated to low coorelated time series\n",
    "* short and long and very long horizion forecasting performance \n",
    "* in addition to values predict something else XXX. [take truck repair as example]\n",
    "\n",
    "-- Possible datasets\n",
    "* large dataset from transfusion process from hospital, \n",
    "  - label: IV is programmed wrongly \n",
    "  - doeses have mistake or not\n",
    "  - not very useful due to highly imbalance dataset, not many mistakes. \n",
    "* incubadors of infants: propritery data can not be shared. \n",
    "* HDD dataset: consider this \n",
    "  - MSiA: not predicting for each HDD \n",
    "  - e.g. in 24 hrs, will there  be >1/2/5 HDD failures. \n",
    "  - they have reading for biometric data, and they predict the human motion [check this dataset with students], [conference paper on Diego web page, time series data and make pred about XXX depression not peer reviewed]: see if this is labelled or not. \n",
    "\n",
    "\n",
    "\n",
    "\n",
    "* Arrange code so that is can be run for each of the dataset easily, and can be scaled without any issues. \n",
    "\n",
    "* UCI dataset: UC Irvine dataset [ check website] might have few multivariate TS datasets which might be of use, to predict something XXX not next values. \n",
    "  \n",
    "    \n",
    "* Read and implement Augmented Dickey-Fuller stationary test. \n",
    "* New paper on transformers for high frequency trading https://arxiv.org/pdf/2302.13850.pdf\n"
   ]
  },
  {
   "cell_type": "markdown",
   "metadata": {},
   "source": [
    "### Dataset characteristics \n",
    "\n",
    "* each of the dataset have two common columns: \n",
    "  1. date, can be used as index \n",
    "  2. OT, final observable. \n",
    "\n",
    "|Dataset| # rows | # columns |characteristics| Duration | Trend | Seasonality | Others|\n",
    "|----|--|--|--|--|--|--|-- |\n",
    "|electricity |26304 |322 | Hourly electricity consumption data for 321 clients| July 2016-July 2019, 1 hour| || |\n",
    "|exchange |7588 |9  | exchange rate data for 8 countries| Jan 1990 - Sept 2010, 1 day| || |\n",
    "|traffic| 17544 |863 |road occupancy data from sensors in San Francisco  | July 2016-July 2018, 1 hour || | | \n",
    "|National Illness| 966| 8 | influenza-like illness patients | Jan 2002-June 2020, 7 days | || |\n",
    "|ETTh1 |17420 | 8 | 1 electrical transormer temperature, 6 load and 1 oil temperature | July 2016-July 2018, 1 hour | || |\n",
    "|ETTh2 |17420 | 8 | 1 electrical transormer temperature,6 load and 1 oil temperature | July 2016-July 2018, 1 hour| || |\n",
    "|ETTm1 |69680 | 8 | 1 electrical transormer temperature,6 load and 1 oil temperature | July 2016-July 2018, 15 minutes| || |\n",
    "|ETTm2 |69680 | 8 | 1 electrical transormer temperature,6 load and 1 oil temperature | July 2016-July 2018, 15 minutes| || |\n",
    "|weather | 52696|22 |21 indicators of weather, like humidity, wind speed etc | Jan 2020 - Jan 2021, 10 mins | | | | \n",
    "| HDD https://www.backblaze.com/b2/hard-drive-test-data.html | |  | | | || |\n",
    "| Motion Sense https://github.com/mmalekzadeh/motion-sense | |  | | | || |\n",
    "| NASA TurboFan https://www.kaggle.com/datasets/behrad3d/nasa-cmaps  | |  | || | | |\n"
   ]
  },
  {
   "cell_type": "code",
   "execution_count": null,
   "metadata": {},
   "outputs": [],
   "source": []
  },
  {
   "cell_type": "code",
   "execution_count": null,
   "metadata": {},
   "outputs": [],
   "source": []
  },
  {
   "cell_type": "code",
   "execution_count": null,
   "metadata": {},
   "outputs": [],
   "source": []
  },
  {
   "cell_type": "code",
   "execution_count": null,
   "metadata": {},
   "outputs": [],
   "source": []
  },
  {
   "cell_type": "code",
   "execution_count": null,
   "metadata": {},
   "outputs": [],
   "source": []
  },
  {
   "cell_type": "code",
   "execution_count": null,
   "metadata": {},
   "outputs": [],
   "source": []
  },
  {
   "cell_type": "code",
   "execution_count": null,
   "metadata": {},
   "outputs": [],
   "source": []
  }
 ],
 "metadata": {
  "kernelspec": {
   "display_name": "Python 3",
   "language": "python",
   "name": "python3"
  },
  "language_info": {
   "codemirror_mode": {
    "name": "ipython",
    "version": 3
   },
   "file_extension": ".py",
   "mimetype": "text/x-python",
   "name": "python",
   "nbconvert_exporter": "python",
   "pygments_lexer": "ipython3",
   "version": "3.6.9"
  }
 },
 "nbformat": 4,
 "nbformat_minor": 4
}
