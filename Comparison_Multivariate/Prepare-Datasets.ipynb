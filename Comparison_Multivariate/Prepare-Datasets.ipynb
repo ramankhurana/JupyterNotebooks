{
 "cells": [
  {
   "cell_type": "markdown",
   "id": "270a6149",
   "metadata": {},
   "source": [
    "## Divvy Bikes"
   ]
  },
  {
   "cell_type": "code",
   "execution_count": 12,
   "id": "85ff8178",
   "metadata": {},
   "outputs": [],
   "source": [
    "import pandas as pd\n",
    "import numpy as np\n",
    "import matplotlib.pyplot as plt\n",
    "import statsmodels.api as sm\n",
    "from statsmodels.tsa.api import VAR\n",
    "\n"
   ]
  },
  {
   "cell_type": "markdown",
   "id": "825b5580",
   "metadata": {},
   "source": [
    "## Divvy Bikes VAR"
   ]
  },
  {
   "cell_type": "code",
   "execution_count": 9,
   "id": "44cdcad4",
   "metadata": {},
   "outputs": [],
   "source": [
    "mdata = pd.read_csv('dataset/DivvyBikes/df2021-8-9-10.csv')\n",
    "hourly_checkout = [ic for ic in mdata.columns if \"_checkout\" in ic]\n",
    "hourly_checkout.insert(0,\"checkouthour\") ## this will be replaced with date at the end\n",
    "hourly_checkout=hourly_checkout[:-1]\n",
    "mdata = mdata[hourly_checkout[:201]]\n",
    "mdata.rename(columns={\"checkouthour\":\"date\"},inplace=True)\n",
    "mdata.set_index('date', inplace = True)\n",
    "mdata.to_csv(\"dataset/DivvyBikes/df2021-8-9-10_VAR.csv\")"
   ]
  },
  {
   "cell_type": "markdown",
   "id": "74eea28e",
   "metadata": {},
   "source": [
    "## Kaggle VAR"
   ]
  },
  {
   "cell_type": "code",
   "execution_count": 54,
   "id": "909be29b",
   "metadata": {},
   "outputs": [],
   "source": [
    "kaggledata = pd.read_csv(\"dataset/KaggleStoreSales/train.csv\")\n",
    "regions = list(kaggledata)[1:]\n",
    "kaggledata['category'] = kaggledata['country'] + '_' + kaggledata['store'] + '_' + kaggledata['product']\n",
    "\n",
    "df_tmp = kaggledata.set_index(\"category\")\n",
    "df_new = pd.DataFrame(df_tmp[df_tmp.index == \"Spain_Kagglazon_Using LLMs to Write Better\"].date)\n",
    "df_new = df_new.reset_index().drop(\"category\",axis=1)\n",
    "\n",
    "for idx in df_tmp.index.unique():\n",
    "    df_part = df_tmp[df_tmp.index == idx]\n",
    "    df_new[idx] = df_part.num_sold.values\n",
    "\n",
    "\n",
    "\n",
    "## logic for the diff \n",
    "#for icol in list(df_new)[1:]:\n",
    "#    df_new[icol] = df_new[icol].diff(1).fillna(0)\n",
    "    \n",
    "#df_new\n",
    "df_new.set_index(\"date\",inplace=True)\n",
    "df_new.to_csv('dataset/KaggleStoreSales/train_VAR.csv')"
   ]
  },
  {
   "cell_type": "code",
   "execution_count": 56,
   "id": "bd5ab3cc",
   "metadata": {},
   "outputs": [
    {
     "name": "stdout",
     "output_type": "stream",
     "text": [
      "date,Argentina_Kaggle Learn_Using LLMs to Improve Your Coding,Argentina_Kaggle Learn_Using LLMs to Train More LLMs,Argentina_Kaggle Learn_Using LLMs to Win Friends and Influence People,Argentina_Kaggle Learn_Using LLMs to Win More Kaggle Competitions,Argentina_Kaggle Learn_Using LLMs to Write Better,Argentina_Kaggle Store_Using LLMs to Improve Your Coding,Argentina_Kaggle Store_Using LLMs to Train More LLMs,Argentina_Kaggle Store_Using LLMs to Win Friends and Influence People,Argentina_Kaggle Store_Using LLMs to Win More Kaggle Competitions,Argentina_Kaggle Store_Using LLMs to Write Better,Argentina_Kagglazon_Using LLMs to Improve Your Coding,Argentina_Kagglazon_Using LLMs to Train More LLMs,Argentina_Kagglazon_Using LLMs to Win Friends and Influence People,Argentina_Kagglazon_Using LLMs to Win More Kaggle Competitions,Argentina_Kagglazon_Using LLMs to Write Better,Canada_Kaggle Learn_Using LLMs to Improve Your Coding,Canada_Kaggle Learn_Using LLMs to Train More LLMs,Canada_Kaggle Learn_Using LLMs to Win Friends and Influence People,Canada_Kaggle Learn_Using LLMs to Win More Kaggle Competitions,Canada_Kaggle Learn_Using LLMs to Write Better,Canada_Kaggle Store_Using LLMs to Improve Your Coding,Canada_Kaggle Store_Using LLMs to Train More LLMs,Canada_Kaggle Store_Using LLMs to Win Friends and Influence People,Canada_Kaggle Store_Using LLMs to Win More Kaggle Competitions,Canada_Kaggle Store_Using LLMs to Write Better,Canada_Kagglazon_Using LLMs to Improve Your Coding,Canada_Kagglazon_Using LLMs to Train More LLMs,Canada_Kagglazon_Using LLMs to Win Friends and Influence People,Canada_Kagglazon_Using LLMs to Win More Kaggle Competitions,Canada_Kagglazon_Using LLMs to Write Better,Estonia_Kaggle Learn_Using LLMs to Improve Your Coding,Estonia_Kaggle Learn_Using LLMs to Train More LLMs,Estonia_Kaggle Learn_Using LLMs to Win Friends and Influence People,Estonia_Kaggle Learn_Using LLMs to Win More Kaggle Competitions,Estonia_Kaggle Learn_Using LLMs to Write Better,Estonia_Kaggle Store_Using LLMs to Improve Your Coding,Estonia_Kaggle Store_Using LLMs to Train More LLMs,Estonia_Kaggle Store_Using LLMs to Win Friends and Influence People,Estonia_Kaggle Store_Using LLMs to Win More Kaggle Competitions,Estonia_Kaggle Store_Using LLMs to Write Better,Estonia_Kagglazon_Using LLMs to Improve Your Coding,Estonia_Kagglazon_Using LLMs to Train More LLMs,Estonia_Kagglazon_Using LLMs to Win Friends and Influence People,Estonia_Kagglazon_Using LLMs to Win More Kaggle Competitions,Estonia_Kagglazon_Using LLMs to Write Better,Japan_Kaggle Learn_Using LLMs to Improve Your Coding,Japan_Kaggle Learn_Using LLMs to Train More LLMs,Japan_Kaggle Learn_Using LLMs to Win Friends and Influence People,Japan_Kaggle Learn_Using LLMs to Win More Kaggle Competitions,Japan_Kaggle Learn_Using LLMs to Write Better,Japan_Kaggle Store_Using LLMs to Improve Your Coding,Japan_Kaggle Store_Using LLMs to Train More LLMs,Japan_Kaggle Store_Using LLMs to Win Friends and Influence People,Japan_Kaggle Store_Using LLMs to Win More Kaggle Competitions,Japan_Kaggle Store_Using LLMs to Write Better,Japan_Kagglazon_Using LLMs to Improve Your Coding,Japan_Kagglazon_Using LLMs to Train More LLMs,Japan_Kagglazon_Using LLMs to Win Friends and Influence People,Japan_Kagglazon_Using LLMs to Win More Kaggle Competitions,Japan_Kagglazon_Using LLMs to Write Better,Spain_Kaggle Learn_Using LLMs to Improve Your Coding,Spain_Kaggle Learn_Using LLMs to Train More LLMs,Spain_Kaggle Learn_Using LLMs to Win Friends and Influence People,Spain_Kaggle Learn_Using LLMs to Win More Kaggle Competitions,Spain_Kaggle Learn_Using LLMs to Write Better,Spain_Kaggle Store_Using LLMs to Improve Your Coding,Spain_Kaggle Store_Using LLMs to Train More LLMs,Spain_Kaggle Store_Using LLMs to Win Friends and Influence People,Spain_Kaggle Store_Using LLMs to Win More Kaggle Competitions,Spain_Kaggle Store_Using LLMs to Write Better,Spain_Kagglazon_Using LLMs to Improve Your Coding,Spain_Kagglazon_Using LLMs to Train More LLMs,Spain_Kagglazon_Using LLMs to Win Friends and Influence People,Spain_Kagglazon_Using LLMs to Win More Kaggle Competitions,Spain_Kagglazon_Using LLMs to Write Better\r\n",
      "2017-01-01,63,66,9,59,49,88,98,14,83,69,340,371,53,364,285,202,199,31,202,138,274,288,47,268,249,1041,1101,166,1062,866,92,89,14,81,70,132,129,19,137,106,501,481,70,468,383,167,162,26,163,119,270,246,39,266,191,938,869,147,970,701,122,125,20,106,90,177,198,29,184,139,724,681,107,673,520\r\n",
      "2017-01-02,51,47,7,43,35,74,77,11,70,55,250,273,52,236,206,156,150,26,158,123,253,240,46,252,205,870,930,141,814,717,63,65,10,64,50,109,102,15,88,80,353,347,64,366,286,142,146,19,121,93,210,192,30,180,146,728,703,105,621,547,106,100,13,94,68,145,140,22,125,110,541,546,78,481,381\r\n",
      "2017-01-03,44,45,7,41,37,64,68,11,67,56,267,253,35,252,201,147,155,26,149,123,235,240,38,222,187,875,967,135,830,720,64,63,10,60,50,105,92,15,89,72,354,355,56,310,289,123,118,18,120,98,191,176,31,164,150,673,631,115,640,494,85,90,14,80,60,161,133,20,118,106,499,489,80,509,372\r\n",
      "2017-01-04,44,42,7,40,32,72,66,10,64,49,236,243,34,224,194,158,169,24,137,113,236,244,40,224,179,799,895,122,751,619,64,61,9,58,49,93,99,15,94,75,376,369,57,315,251,124,122,18,108,97,176,186,29,159,141,719,688,93,635,489,79,76,13,69,69,128,121,19,126,99,524,485,70,435,367\r\n",
      "2017-01-05,40,46,6,39,32,66,61,10,64,50,247,231,38,207,179,140,139,24,138,117,239,253,35,214,185,837,817,134,762,595,60,62,9,54,45,97,90,13,80,78,360,342,52,324,254,116,113,17,104,90,160,186,30,163,138,616,672,101,592,511,80,83,12,77,60,122,129,20,118,104,469,478,69,444,344\r\n",
      "2017-01-06,42,41,6,39,34,67,64,9,61,57,235,262,36,228,187,141,152,22,142,116,249,210,37,221,191,757,755,142,761,704,60,57,9,58,43,99,95,15,90,76,361,377,60,318,259,122,120,18,111,93,183,175,28,158,143,661,670,100,626,508,80,83,12,73,70,121,124,21,125,101,450,534,67,452,346\r\n",
      "2017-01-07,40,42,6,39,33,68,66,11,67,50,239,260,35,204,205,154,148,24,137,116,233,218,33,200,198,872,850,121,785,662,60,59,8,57,48,93,89,13,89,74,337,321,50,293,267,125,116,17,115,90,175,180,28,156,142,665,612,99,619,508,85,88,12,75,62,135,131,20,141,103,429,484,74,495,392\r\n",
      "2017-01-08,43,46,7,42,35,62,66,10,62,58,256,264,40,243,180,153,133,24,149,108,220,238,36,215,175,802,796,134,765,674,62,59,10,59,49,96,101,14,89,74,338,325,54,331,291,121,122,19,113,90,180,191,27,175,151,638,680,111,572,541,80,91,13,87,69,136,126,21,139,116,527,529,81,478,399\r\n",
      "2017-01-09,35,37,5,35,28,57,56,9,53,43,193,218,31,193,166,114,124,18,100,99,187,185,28,170,152,746,687,103,645,473,50,48,8,45,39,82,77,12,74,63,296,290,46,260,209,104,89,14,91,78,148,165,22,140,126,547,619,77,561,401,71,86,12,68,58,104,112,18,109,86,410,420,66,393,330\r\n"
     ]
    }
   ],
   "source": [
    "!head dataset/KaggleStoreSales/train_VAR.csv"
   ]
  },
  {
   "cell_type": "code",
   "execution_count": null,
   "id": "706d51cf",
   "metadata": {},
   "outputs": [],
   "source": [
    "regions = list(df_new)[1:]\n",
    "df_global = pd.DataFrame()\n",
    "for col in regions:\n",
    "    #print (col)\n",
    "    aux = df_new[[\"date\", col]].copy(deep=True)  # select column associated with region\n",
    "    aux = aux.iloc[:, :].copy(deep=True)  # selects data up to 26301 row (2004 to 2007 time stamps)\n",
    "    aux = aux.rename(columns={col: \"num_sold_diff\"})  # rename column of data to 'y' which is compatible with Neural Prophet\n",
    "    aux[\"category\"] = col\n",
    "    df_global = pd.concat((df_global, aux))\n",
    "df = df_global.merge(df,on=[\"date\",\"category\"],how='inner').drop('category',axis=1)"
   ]
  }
 ],
 "metadata": {
  "kernelspec": {
   "display_name": "NeuralPropherEnv",
   "language": "python",
   "name": "neuralpropherenv"
  },
  "language_info": {
   "codemirror_mode": {
    "name": "ipython",
    "version": 3
   },
   "file_extension": ".py",
   "mimetype": "text/x-python",
   "name": "python",
   "nbconvert_exporter": "python",
   "pygments_lexer": "ipython3",
   "version": "3.9.13"
  }
 },
 "nbformat": 4,
 "nbformat_minor": 5
}
