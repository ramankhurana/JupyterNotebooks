{
 "cells": [
  {
   "cell_type": "markdown",
   "metadata": {},
   "source": [
    "### Install dependencies "
   ]
  },
  {
   "cell_type": "code",
   "execution_count": 180,
   "metadata": {
    "_kg_hide-input": false,
    "_kg_hide-output": true,
    "execution": {
     "iopub.execute_input": "2023-02-20T16:48:57.748570Z",
     "iopub.status.busy": "2023-02-20T16:48:57.748233Z",
     "iopub.status.idle": "2023-02-20T16:50:13.423716Z",
     "shell.execute_reply": "2023-02-20T16:50:13.422766Z",
     "shell.execute_reply.started": "2023-02-20T16:48:57.748542Z"
    },
    "jupyter": {
     "source_hidden": true
    },
    "scrolled": true
   },
   "outputs": [
    {
     "name": "stdout",
     "output_type": "stream",
     "text": [
      "installing NP\n",
      "installed\n"
     ]
    }
   ],
   "source": [
    "#!pip install neuralprophet\n",
    "print (\"installing NP\")\n",
    "#!pip install git+https://github.com/ourownstory/neural_prophet.git # may take a while\n",
    "print (\"installed\")"
   ]
  },
  {
   "cell_type": "markdown",
   "metadata": {},
   "source": [
    "### Import packages"
   ]
  },
  {
   "cell_type": "code",
   "execution_count": 181,
   "metadata": {
    "execution": {
     "iopub.execute_input": "2023-02-20T16:50:13.427269Z",
     "iopub.status.busy": "2023-02-20T16:50:13.426656Z",
     "iopub.status.idle": "2023-02-20T16:50:18.818828Z",
     "shell.execute_reply": "2023-02-20T16:50:18.817358Z",
     "shell.execute_reply.started": "2023-02-20T16:50:13.427235Z"
    },
    "jupyter": {
     "source_hidden": true
    }
   },
   "outputs": [],
   "source": [
    "from neuralprophet import NeuralProphet\n",
    "from neuralprophet import set_random_seed \n",
    "import numpy as np\n",
    "set_random_seed(0)\n"
   ]
  },
  {
   "cell_type": "markdown",
   "metadata": {},
   "source": [
    "### Get dataset "
   ]
  },
  {
   "cell_type": "code",
   "execution_count": 211,
   "metadata": {
    "execution": {
     "iopub.execute_input": "2023-02-20T16:50:18.820682Z",
     "iopub.status.busy": "2023-02-20T16:50:18.820376Z",
     "iopub.status.idle": "2023-02-20T16:50:19.414736Z",
     "shell.execute_reply": "2023-02-20T16:50:19.413604Z",
     "shell.execute_reply.started": "2023-02-20T16:50:18.820650Z"
    },
    "jupyter": {
     "source_hidden": true
    }
   },
   "outputs": [
    {
     "name": "stdout",
     "output_type": "stream",
     "text": [
      "  % Total    % Received % Xferd  Average Speed   Time    Time     Time  Current\n",
      "                                 Dload  Upload   Total   Spent    Left  Speed\n",
      "100 2528k  100 2528k    0     0   563k      0  0:00:04  0:00:04 --:--:--  593k\n",
      "  % Total    % Received % Xferd  Average Speed   Time    Time     Time  Current\n",
      "                                 Dload  Upload   Total   Spent    Left  Speed\n",
      "100 2361k  100 2361k    0     0   390k      0  0:00:06  0:00:06 --:--:--  454k\n"
     ]
    }
   ],
   "source": [
    "!curl https://raw.githubusercontent.com/zhouhaoyi/ETDataset/main/ETT-small/ETTh1.csv > ETTh1.csv\n",
    "!curl https://raw.githubusercontent.com/zhouhaoyi/ETDataset/main/ETT-small/ETTh2.csv > ETTh2.csv"
   ]
  },
  {
   "cell_type": "code",
   "execution_count": 212,
   "metadata": {
    "execution": {
     "iopub.execute_input": "2023-02-20T16:50:19.416878Z",
     "iopub.status.busy": "2023-02-20T16:50:19.416192Z",
     "iopub.status.idle": "2023-02-20T16:50:19.685302Z",
     "shell.execute_reply": "2023-02-20T16:50:19.684450Z",
     "shell.execute_reply.started": "2023-02-20T16:50:19.416847Z"
    }
   },
   "outputs": [
    {
     "name": "stdout",
     "output_type": "stream",
     "text": [
      "ETTh1.csv                            etth1-forecastingneuralprophet.ipynb\r\n",
      "ETTh2.csv                            \u001b[34mlightning_logs\u001b[m\u001b[m\r\n"
     ]
    }
   ],
   "source": [
    "!ls"
   ]
  },
  {
   "cell_type": "markdown",
   "metadata": {},
   "source": [
    "### Read dataset "
   ]
  },
  {
   "cell_type": "code",
   "execution_count": 238,
   "metadata": {
    "execution": {
     "iopub.execute_input": "2023-02-20T16:50:19.688604Z",
     "iopub.status.busy": "2023-02-20T16:50:19.687609Z",
     "iopub.status.idle": "2023-02-20T16:50:19.740983Z",
     "shell.execute_reply": "2023-02-20T16:50:19.740147Z",
     "shell.execute_reply.started": "2023-02-20T16:50:19.688572Z"
    },
    "jupyter": {
     "source_hidden": true
    },
    "scrolled": true
   },
   "outputs": [
    {
     "data": {
      "text/html": [
       "<div>\n",
       "<style scoped>\n",
       "    .dataframe tbody tr th:only-of-type {\n",
       "        vertical-align: middle;\n",
       "    }\n",
       "\n",
       "    .dataframe tbody tr th {\n",
       "        vertical-align: top;\n",
       "    }\n",
       "\n",
       "    .dataframe thead th {\n",
       "        text-align: right;\n",
       "    }\n",
       "</style>\n",
       "<table border=\"1\" class=\"dataframe\">\n",
       "  <thead>\n",
       "    <tr style=\"text-align: right;\">\n",
       "      <th></th>\n",
       "      <th>date</th>\n",
       "      <th>HUFL</th>\n",
       "      <th>HULL</th>\n",
       "      <th>MUFL</th>\n",
       "      <th>MULL</th>\n",
       "      <th>LUFL</th>\n",
       "      <th>LULL</th>\n",
       "      <th>OT</th>\n",
       "    </tr>\n",
       "  </thead>\n",
       "  <tbody>\n",
       "    <tr>\n",
       "      <th>0</th>\n",
       "      <td>2016-07-01 00:00:00</td>\n",
       "      <td>5.827</td>\n",
       "      <td>2.009</td>\n",
       "      <td>1.599</td>\n",
       "      <td>0.462</td>\n",
       "      <td>4.203</td>\n",
       "      <td>1.340</td>\n",
       "      <td>30.531000</td>\n",
       "    </tr>\n",
       "    <tr>\n",
       "      <th>1</th>\n",
       "      <td>2016-07-01 01:00:00</td>\n",
       "      <td>5.693</td>\n",
       "      <td>2.076</td>\n",
       "      <td>1.492</td>\n",
       "      <td>0.426</td>\n",
       "      <td>4.142</td>\n",
       "      <td>1.371</td>\n",
       "      <td>27.787001</td>\n",
       "    </tr>\n",
       "    <tr>\n",
       "      <th>2</th>\n",
       "      <td>2016-07-01 02:00:00</td>\n",
       "      <td>5.157</td>\n",
       "      <td>1.741</td>\n",
       "      <td>1.279</td>\n",
       "      <td>0.355</td>\n",
       "      <td>3.777</td>\n",
       "      <td>1.218</td>\n",
       "      <td>27.787001</td>\n",
       "    </tr>\n",
       "    <tr>\n",
       "      <th>3</th>\n",
       "      <td>2016-07-01 03:00:00</td>\n",
       "      <td>5.090</td>\n",
       "      <td>1.942</td>\n",
       "      <td>1.279</td>\n",
       "      <td>0.391</td>\n",
       "      <td>3.807</td>\n",
       "      <td>1.279</td>\n",
       "      <td>25.044001</td>\n",
       "    </tr>\n",
       "    <tr>\n",
       "      <th>4</th>\n",
       "      <td>2016-07-01 04:00:00</td>\n",
       "      <td>5.358</td>\n",
       "      <td>1.942</td>\n",
       "      <td>1.492</td>\n",
       "      <td>0.462</td>\n",
       "      <td>3.868</td>\n",
       "      <td>1.279</td>\n",
       "      <td>21.948000</td>\n",
       "    </tr>\n",
       "  </tbody>\n",
       "</table>\n",
       "</div>"
      ],
      "text/plain": [
       "                  date   HUFL   HULL   MUFL   MULL   LUFL   LULL         OT\n",
       "0  2016-07-01 00:00:00  5.827  2.009  1.599  0.462  4.203  1.340  30.531000\n",
       "1  2016-07-01 01:00:00  5.693  2.076  1.492  0.426  4.142  1.371  27.787001\n",
       "2  2016-07-01 02:00:00  5.157  1.741  1.279  0.355  3.777  1.218  27.787001\n",
       "3  2016-07-01 03:00:00  5.090  1.942  1.279  0.391  3.807  1.279  25.044001\n",
       "4  2016-07-01 04:00:00  5.358  1.942  1.492  0.462  3.868  1.279  21.948000"
      ]
     },
     "execution_count": 238,
     "metadata": {},
     "output_type": "execute_result"
    }
   ],
   "source": [
    "import pandas as pd\n",
    "\n",
    "data_location = \"ETTh1.csv\"\n",
    "#\"https://raw.githubusercontent.com/ourownstory/neuralprophet-data/main/datasets/\"\n",
    "df_ercot = pd.read_csv(data_location )#+ \"multivariate/load_ercot_regions.csv\")\n",
    "df_ercot_2 = pd.read_csv('ETTh2.csv')\n",
    "df_ercot.head()\n",
    "\n"
   ]
  },
  {
   "cell_type": "code",
   "execution_count": 239,
   "metadata": {},
   "outputs": [
    {
     "data": {
      "text/html": [
       "<div>\n",
       "<style scoped>\n",
       "    .dataframe tbody tr th:only-of-type {\n",
       "        vertical-align: middle;\n",
       "    }\n",
       "\n",
       "    .dataframe tbody tr th {\n",
       "        vertical-align: top;\n",
       "    }\n",
       "\n",
       "    .dataframe thead th {\n",
       "        text-align: right;\n",
       "    }\n",
       "</style>\n",
       "<table border=\"1\" class=\"dataframe\">\n",
       "  <thead>\n",
       "    <tr style=\"text-align: right;\">\n",
       "      <th></th>\n",
       "      <th>date</th>\n",
       "      <th>HUFL</th>\n",
       "      <th>HULL</th>\n",
       "      <th>MUFL</th>\n",
       "      <th>MULL</th>\n",
       "      <th>LUFL</th>\n",
       "      <th>LULL</th>\n",
       "      <th>OT</th>\n",
       "    </tr>\n",
       "  </thead>\n",
       "  <tbody>\n",
       "    <tr>\n",
       "      <th>0</th>\n",
       "      <td>2016-07-01 00:00:00</td>\n",
       "      <td>41.130001</td>\n",
       "      <td>12.481</td>\n",
       "      <td>36.535999</td>\n",
       "      <td>9.355</td>\n",
       "      <td>4.424</td>\n",
       "      <td>1.311</td>\n",
       "      <td>38.661999</td>\n",
       "    </tr>\n",
       "    <tr>\n",
       "      <th>1</th>\n",
       "      <td>2016-07-01 01:00:00</td>\n",
       "      <td>37.528000</td>\n",
       "      <td>10.136</td>\n",
       "      <td>33.936001</td>\n",
       "      <td>7.532</td>\n",
       "      <td>4.435</td>\n",
       "      <td>1.215</td>\n",
       "      <td>37.124001</td>\n",
       "    </tr>\n",
       "    <tr>\n",
       "      <th>2</th>\n",
       "      <td>2016-07-01 02:00:00</td>\n",
       "      <td>37.946999</td>\n",
       "      <td>11.309</td>\n",
       "      <td>35.330002</td>\n",
       "      <td>9.007</td>\n",
       "      <td>2.100</td>\n",
       "      <td>0.000</td>\n",
       "      <td>36.465000</td>\n",
       "    </tr>\n",
       "    <tr>\n",
       "      <th>3</th>\n",
       "      <td>2016-07-01 03:00:00</td>\n",
       "      <td>38.952000</td>\n",
       "      <td>11.895</td>\n",
       "      <td>35.543999</td>\n",
       "      <td>9.436</td>\n",
       "      <td>3.380</td>\n",
       "      <td>1.215</td>\n",
       "      <td>33.608501</td>\n",
       "    </tr>\n",
       "    <tr>\n",
       "      <th>4</th>\n",
       "      <td>2016-07-01 04:00:00</td>\n",
       "      <td>38.113998</td>\n",
       "      <td>11.476</td>\n",
       "      <td>35.410000</td>\n",
       "      <td>9.623</td>\n",
       "      <td>2.036</td>\n",
       "      <td>0.000</td>\n",
       "      <td>31.850500</td>\n",
       "    </tr>\n",
       "  </tbody>\n",
       "</table>\n",
       "</div>"
      ],
      "text/plain": [
       "                  date       HUFL    HULL       MUFL   MULL   LUFL   LULL  \\\n",
       "0  2016-07-01 00:00:00  41.130001  12.481  36.535999  9.355  4.424  1.311   \n",
       "1  2016-07-01 01:00:00  37.528000  10.136  33.936001  7.532  4.435  1.215   \n",
       "2  2016-07-01 02:00:00  37.946999  11.309  35.330002  9.007  2.100  0.000   \n",
       "3  2016-07-01 03:00:00  38.952000  11.895  35.543999  9.436  3.380  1.215   \n",
       "4  2016-07-01 04:00:00  38.113998  11.476  35.410000  9.623  2.036  0.000   \n",
       "\n",
       "          OT  \n",
       "0  38.661999  \n",
       "1  37.124001  \n",
       "2  36.465000  \n",
       "3  33.608501  \n",
       "4  31.850500  "
      ]
     },
     "execution_count": 239,
     "metadata": {},
     "output_type": "execute_result"
    }
   ],
   "source": [
    "df_ercot_2.head()"
   ]
  },
  {
   "cell_type": "code",
   "execution_count": 240,
   "metadata": {},
   "outputs": [
    {
     "data": {
      "text/html": [
       "<div>\n",
       "<style scoped>\n",
       "    .dataframe tbody tr th:only-of-type {\n",
       "        vertical-align: middle;\n",
       "    }\n",
       "\n",
       "    .dataframe tbody tr th {\n",
       "        vertical-align: top;\n",
       "    }\n",
       "\n",
       "    .dataframe thead th {\n",
       "        text-align: right;\n",
       "    }\n",
       "</style>\n",
       "<table border=\"1\" class=\"dataframe\">\n",
       "  <thead>\n",
       "    <tr style=\"text-align: right;\">\n",
       "      <th></th>\n",
       "      <th>ds</th>\n",
       "      <th>HUFL</th>\n",
       "      <th>HULL</th>\n",
       "      <th>MUFL</th>\n",
       "      <th>MULL</th>\n",
       "      <th>LUFL</th>\n",
       "      <th>LULL</th>\n",
       "      <th>y</th>\n",
       "    </tr>\n",
       "  </thead>\n",
       "  <tbody>\n",
       "    <tr>\n",
       "      <th>0</th>\n",
       "      <td>2016-07-01 00:00:00</td>\n",
       "      <td>41.130001</td>\n",
       "      <td>12.481</td>\n",
       "      <td>36.535999</td>\n",
       "      <td>9.355</td>\n",
       "      <td>4.424</td>\n",
       "      <td>1.311</td>\n",
       "      <td>38.661999</td>\n",
       "    </tr>\n",
       "    <tr>\n",
       "      <th>1</th>\n",
       "      <td>2016-07-01 01:00:00</td>\n",
       "      <td>37.528000</td>\n",
       "      <td>10.136</td>\n",
       "      <td>33.936001</td>\n",
       "      <td>7.532</td>\n",
       "      <td>4.435</td>\n",
       "      <td>1.215</td>\n",
       "      <td>37.124001</td>\n",
       "    </tr>\n",
       "    <tr>\n",
       "      <th>2</th>\n",
       "      <td>2016-07-01 02:00:00</td>\n",
       "      <td>37.946999</td>\n",
       "      <td>11.309</td>\n",
       "      <td>35.330002</td>\n",
       "      <td>9.007</td>\n",
       "      <td>2.100</td>\n",
       "      <td>0.000</td>\n",
       "      <td>36.465000</td>\n",
       "    </tr>\n",
       "    <tr>\n",
       "      <th>3</th>\n",
       "      <td>2016-07-01 03:00:00</td>\n",
       "      <td>38.952000</td>\n",
       "      <td>11.895</td>\n",
       "      <td>35.543999</td>\n",
       "      <td>9.436</td>\n",
       "      <td>3.380</td>\n",
       "      <td>1.215</td>\n",
       "      <td>33.608501</td>\n",
       "    </tr>\n",
       "    <tr>\n",
       "      <th>4</th>\n",
       "      <td>2016-07-01 04:00:00</td>\n",
       "      <td>38.113998</td>\n",
       "      <td>11.476</td>\n",
       "      <td>35.410000</td>\n",
       "      <td>9.623</td>\n",
       "      <td>2.036</td>\n",
       "      <td>0.000</td>\n",
       "      <td>31.850500</td>\n",
       "    </tr>\n",
       "    <tr>\n",
       "      <th>...</th>\n",
       "      <td>...</td>\n",
       "      <td>...</td>\n",
       "      <td>...</td>\n",
       "      <td>...</td>\n",
       "      <td>...</td>\n",
       "      <td>...</td>\n",
       "      <td>...</td>\n",
       "      <td>...</td>\n",
       "    </tr>\n",
       "    <tr>\n",
       "      <th>17415</th>\n",
       "      <td>2018-06-26 15:00:00</td>\n",
       "      <td>39.202999</td>\n",
       "      <td>11.392</td>\n",
       "      <td>49.644001</td>\n",
       "      <td>11.929</td>\n",
       "      <td>-10.331</td>\n",
       "      <td>-1.258</td>\n",
       "      <td>47.084999</td>\n",
       "    </tr>\n",
       "    <tr>\n",
       "      <th>17416</th>\n",
       "      <td>2018-06-26 16:00:00</td>\n",
       "      <td>38.113998</td>\n",
       "      <td>10.974</td>\n",
       "      <td>48.759998</td>\n",
       "      <td>11.366</td>\n",
       "      <td>-10.331</td>\n",
       "      <td>-1.290</td>\n",
       "      <td>48.183498</td>\n",
       "    </tr>\n",
       "    <tr>\n",
       "      <th>17417</th>\n",
       "      <td>2018-06-26 17:00:00</td>\n",
       "      <td>39.622002</td>\n",
       "      <td>10.974</td>\n",
       "      <td>50.609001</td>\n",
       "      <td>11.661</td>\n",
       "      <td>-11.557</td>\n",
       "      <td>-1.418</td>\n",
       "      <td>48.183498</td>\n",
       "    </tr>\n",
       "    <tr>\n",
       "      <th>17418</th>\n",
       "      <td>2018-06-26 18:00:00</td>\n",
       "      <td>43.643002</td>\n",
       "      <td>13.403</td>\n",
       "      <td>54.737000</td>\n",
       "      <td>13.778</td>\n",
       "      <td>-10.299</td>\n",
       "      <td>-1.418</td>\n",
       "      <td>46.865501</td>\n",
       "    </tr>\n",
       "    <tr>\n",
       "      <th>17419</th>\n",
       "      <td>2018-06-26 19:00:00</td>\n",
       "      <td>38.868000</td>\n",
       "      <td>10.052</td>\n",
       "      <td>49.859001</td>\n",
       "      <td>10.669</td>\n",
       "      <td>-11.525</td>\n",
       "      <td>-1.418</td>\n",
       "      <td>45.986500</td>\n",
       "    </tr>\n",
       "  </tbody>\n",
       "</table>\n",
       "<p>17420 rows × 8 columns</p>\n",
       "</div>"
      ],
      "text/plain": [
       "                        ds       HUFL    HULL       MUFL    MULL    LUFL  \\\n",
       "0      2016-07-01 00:00:00  41.130001  12.481  36.535999   9.355   4.424   \n",
       "1      2016-07-01 01:00:00  37.528000  10.136  33.936001   7.532   4.435   \n",
       "2      2016-07-01 02:00:00  37.946999  11.309  35.330002   9.007   2.100   \n",
       "3      2016-07-01 03:00:00  38.952000  11.895  35.543999   9.436   3.380   \n",
       "4      2016-07-01 04:00:00  38.113998  11.476  35.410000   9.623   2.036   \n",
       "...                    ...        ...     ...        ...     ...     ...   \n",
       "17415  2018-06-26 15:00:00  39.202999  11.392  49.644001  11.929 -10.331   \n",
       "17416  2018-06-26 16:00:00  38.113998  10.974  48.759998  11.366 -10.331   \n",
       "17417  2018-06-26 17:00:00  39.622002  10.974  50.609001  11.661 -11.557   \n",
       "17418  2018-06-26 18:00:00  43.643002  13.403  54.737000  13.778 -10.299   \n",
       "17419  2018-06-26 19:00:00  38.868000  10.052  49.859001  10.669 -11.525   \n",
       "\n",
       "        LULL          y  \n",
       "0      1.311  38.661999  \n",
       "1      1.215  37.124001  \n",
       "2      0.000  36.465000  \n",
       "3      1.215  33.608501  \n",
       "4      0.000  31.850500  \n",
       "...      ...        ...  \n",
       "17415 -1.258  47.084999  \n",
       "17416 -1.290  48.183498  \n",
       "17417 -1.418  48.183498  \n",
       "17418 -1.418  46.865501  \n",
       "17419 -1.418  45.986500  \n",
       "\n",
       "[17420 rows x 8 columns]"
      ]
     },
     "execution_count": 240,
     "metadata": {},
     "output_type": "execute_result"
    }
   ],
   "source": [
    "df_ercot_2.rename({\"date\":\"ds\", \"OT\":\"y\"},\n",
    "                 inplace=True,\n",
    "                axis=1)\n",
    "df_ercot_2"
   ]
  },
  {
   "cell_type": "code",
   "execution_count": 241,
   "metadata": {},
   "outputs": [],
   "source": [
    "df_ercot_2.drop(columns=['HUFL','HULL','MUFL','MULL','LUFL','LULL'],\n",
    "               inplace=True)\n"
   ]
  },
  {
   "cell_type": "code",
   "execution_count": 242,
   "metadata": {},
   "outputs": [
    {
     "data": {
      "text/html": [
       "<div>\n",
       "<style scoped>\n",
       "    .dataframe tbody tr th:only-of-type {\n",
       "        vertical-align: middle;\n",
       "    }\n",
       "\n",
       "    .dataframe tbody tr th {\n",
       "        vertical-align: top;\n",
       "    }\n",
       "\n",
       "    .dataframe thead th {\n",
       "        text-align: right;\n",
       "    }\n",
       "</style>\n",
       "<table border=\"1\" class=\"dataframe\">\n",
       "  <thead>\n",
       "    <tr style=\"text-align: right;\">\n",
       "      <th></th>\n",
       "      <th>ds</th>\n",
       "      <th>y</th>\n",
       "    </tr>\n",
       "  </thead>\n",
       "  <tbody>\n",
       "    <tr>\n",
       "      <th>0</th>\n",
       "      <td>2016-07-01 00:00:00</td>\n",
       "      <td>38.661999</td>\n",
       "    </tr>\n",
       "    <tr>\n",
       "      <th>1</th>\n",
       "      <td>2016-07-01 01:00:00</td>\n",
       "      <td>37.124001</td>\n",
       "    </tr>\n",
       "    <tr>\n",
       "      <th>2</th>\n",
       "      <td>2016-07-01 02:00:00</td>\n",
       "      <td>36.465000</td>\n",
       "    </tr>\n",
       "    <tr>\n",
       "      <th>3</th>\n",
       "      <td>2016-07-01 03:00:00</td>\n",
       "      <td>33.608501</td>\n",
       "    </tr>\n",
       "    <tr>\n",
       "      <th>4</th>\n",
       "      <td>2016-07-01 04:00:00</td>\n",
       "      <td>31.850500</td>\n",
       "    </tr>\n",
       "  </tbody>\n",
       "</table>\n",
       "</div>"
      ],
      "text/plain": [
       "                    ds          y\n",
       "0  2016-07-01 00:00:00  38.661999\n",
       "1  2016-07-01 01:00:00  37.124001\n",
       "2  2016-07-01 02:00:00  36.465000\n",
       "3  2016-07-01 03:00:00  33.608501\n",
       "4  2016-07-01 04:00:00  31.850500"
      ]
     },
     "execution_count": 242,
     "metadata": {},
     "output_type": "execute_result"
    }
   ],
   "source": [
    "df_ercot_2.head()"
   ]
  },
  {
   "cell_type": "markdown",
   "metadata": {},
   "source": [
    "## ETTh1 Dataset \n",
    "\n",
    "date: timestamp \n",
    "\n",
    "* OT: Oil temperature \"Predictive value \"\n",
    "* Following are six different types of external load features, \n",
    "* HUFL: High Use Full Load \n",
    "* HULL: High Use Less Load \n",
    "* MUFL: Medium Use Full Load  \n",
    "* MULL: Medium Use Less Load \n",
    "* LUFL: Low Use Less Load\n",
    "* LULL: Low Use Less Load \n"
   ]
  },
  {
   "cell_type": "code",
   "execution_count": 243,
   "metadata": {
    "execution": {
     "iopub.execute_input": "2023-02-20T16:50:19.762032Z",
     "iopub.status.busy": "2023-02-20T16:50:19.761620Z",
     "iopub.status.idle": "2023-02-20T16:50:19.770643Z",
     "shell.execute_reply": "2023-02-20T16:50:19.769797Z",
     "shell.execute_reply.started": "2023-02-20T16:50:19.762000Z"
    }
   },
   "outputs": [
    {
     "data": {
      "text/plain": [
       "['HUFL', 'HULL', 'MUFL', 'MULL', 'LUFL', 'LULL', 'OT']"
      ]
     },
     "execution_count": 243,
     "metadata": {},
     "output_type": "execute_result"
    }
   ],
   "source": [
    "regions = list(df_ercot)[1:]\n",
    "regions"
   ]
  },
  {
   "cell_type": "code",
   "execution_count": 244,
   "metadata": {
    "execution": {
     "iopub.execute_input": "2023-02-20T16:50:19.772053Z",
     "iopub.status.busy": "2023-02-20T16:50:19.771748Z",
     "iopub.status.idle": "2023-02-20T16:50:19.789171Z",
     "shell.execute_reply": "2023-02-20T16:50:19.788288Z",
     "shell.execute_reply.started": "2023-02-20T16:50:19.772023Z"
    }
   },
   "outputs": [
    {
     "data": {
      "text/plain": [
       "(17420, 17420)"
      ]
     },
     "execution_count": 244,
     "metadata": {},
     "output_type": "execute_result"
    }
   ],
   "source": [
    "len(df_ercot.date), len(df_ercot.date.unique())"
   ]
  },
  {
   "cell_type": "markdown",
   "metadata": {},
   "source": [
    "### ETTh1: Electricity Transformer dataset, hourly, E Transformer # 1. \n",
    "\n",
    "Each E transformer dataset is considered as one TS and 6 Load features are affecting the final predictable “Oil temperature”. \n",
    "\n",
    "The dataset is called multivariate but may be not exactly the one we want to look at. It has 6 time series which can impact the target time series. A few cases arise: \n",
    "1. each of the 7 TS have to be forecasted. (done for one E transformer)\n",
    "2. Forecast only 6 TS and use those 6 to predict the Oil temperature. Require development of the model which can be integrated in NP to predict OT using 6 Load features. Not considered for now. \n",
    "3. Use OT as the only TS and forecast it, use other 6 TS as exogeneous variables. \n",
    "\n",
    "Let's test these in cronological order. \n"
   ]
  },
  {
   "cell_type": "code",
   "execution_count": 245,
   "metadata": {
    "execution": {
     "iopub.execute_input": "2023-02-20T16:50:19.790753Z",
     "iopub.status.busy": "2023-02-20T16:50:19.790359Z",
     "iopub.status.idle": "2023-02-20T16:50:19.827985Z",
     "shell.execute_reply": "2023-02-20T16:50:19.827148Z",
     "shell.execute_reply.started": "2023-02-20T16:50:19.790728Z"
    }
   },
   "outputs": [
    {
     "name": "stdout",
     "output_type": "stream",
     "text": [
      "HUFL\n",
      "HULL\n",
      "MUFL\n",
      "MULL\n",
      "LUFL\n",
      "LULL\n",
      "OT\n"
     ]
    }
   ],
   "source": [
    "df_global = pd.DataFrame()\n",
    "for col in regions:\n",
    "    print (col)\n",
    "    aux = df_ercot[[\"date\", col]].copy(deep=True)  # select column associated with region\n",
    "    aux = aux.iloc[:26301, :].copy(deep=True)  # selects data up to 26301 row (2004 to 2007 time stamps)\n",
    "    aux = aux.rename(columns={col: \"y\"})  # rename column of data to 'y' which is compatible with Neural Prophet\n",
    "    aux[\"ID\"] = col\n",
    "    df_global = pd.concat((df_global, aux))\n"
   ]
  },
  {
   "cell_type": "code",
   "execution_count": 258,
   "metadata": {
    "execution": {
     "iopub.execute_input": "2023-02-20T16:50:19.829129Z",
     "iopub.status.busy": "2023-02-20T16:50:19.828857Z",
     "iopub.status.idle": "2023-02-20T16:50:19.840963Z",
     "shell.execute_reply": "2023-02-20T16:50:19.839862Z",
     "shell.execute_reply.started": "2023-02-20T16:50:19.829091Z"
    },
    "scrolled": true
   },
   "outputs": [
    {
     "data": {
      "text/html": [
       "<div>\n",
       "<style scoped>\n",
       "    .dataframe tbody tr th:only-of-type {\n",
       "        vertical-align: middle;\n",
       "    }\n",
       "\n",
       "    .dataframe tbody tr th {\n",
       "        vertical-align: top;\n",
       "    }\n",
       "\n",
       "    .dataframe thead th {\n",
       "        text-align: right;\n",
       "    }\n",
       "</style>\n",
       "<table border=\"1\" class=\"dataframe\">\n",
       "  <thead>\n",
       "    <tr style=\"text-align: right;\">\n",
       "      <th></th>\n",
       "      <th>ds</th>\n",
       "      <th>y</th>\n",
       "      <th>ID</th>\n",
       "    </tr>\n",
       "  </thead>\n",
       "  <tbody>\n",
       "    <tr>\n",
       "      <th>0</th>\n",
       "      <td>2016-07-01 00:00:00</td>\n",
       "      <td>5.827</td>\n",
       "      <td>HUFL</td>\n",
       "    </tr>\n",
       "    <tr>\n",
       "      <th>1</th>\n",
       "      <td>2016-07-01 01:00:00</td>\n",
       "      <td>5.693</td>\n",
       "      <td>HUFL</td>\n",
       "    </tr>\n",
       "    <tr>\n",
       "      <th>2</th>\n",
       "      <td>2016-07-01 02:00:00</td>\n",
       "      <td>5.157</td>\n",
       "      <td>HUFL</td>\n",
       "    </tr>\n",
       "    <tr>\n",
       "      <th>3</th>\n",
       "      <td>2016-07-01 03:00:00</td>\n",
       "      <td>5.090</td>\n",
       "      <td>HUFL</td>\n",
       "    </tr>\n",
       "    <tr>\n",
       "      <th>4</th>\n",
       "      <td>2016-07-01 04:00:00</td>\n",
       "      <td>5.358</td>\n",
       "      <td>HUFL</td>\n",
       "    </tr>\n",
       "    <tr>\n",
       "      <th>...</th>\n",
       "      <td>...</td>\n",
       "      <td>...</td>\n",
       "      <td>...</td>\n",
       "    </tr>\n",
       "    <tr>\n",
       "      <th>17415</th>\n",
       "      <td>2018-06-26 15:00:00</td>\n",
       "      <td>10.904</td>\n",
       "      <td>OT</td>\n",
       "    </tr>\n",
       "    <tr>\n",
       "      <th>17416</th>\n",
       "      <td>2018-06-26 16:00:00</td>\n",
       "      <td>11.044</td>\n",
       "      <td>OT</td>\n",
       "    </tr>\n",
       "    <tr>\n",
       "      <th>17417</th>\n",
       "      <td>2018-06-26 17:00:00</td>\n",
       "      <td>10.271</td>\n",
       "      <td>OT</td>\n",
       "    </tr>\n",
       "    <tr>\n",
       "      <th>17418</th>\n",
       "      <td>2018-06-26 18:00:00</td>\n",
       "      <td>9.778</td>\n",
       "      <td>OT</td>\n",
       "    </tr>\n",
       "    <tr>\n",
       "      <th>17419</th>\n",
       "      <td>2018-06-26 19:00:00</td>\n",
       "      <td>9.567</td>\n",
       "      <td>OT</td>\n",
       "    </tr>\n",
       "  </tbody>\n",
       "</table>\n",
       "<p>121940 rows × 3 columns</p>\n",
       "</div>"
      ],
      "text/plain": [
       "                        ds       y    ID\n",
       "0      2016-07-01 00:00:00   5.827  HUFL\n",
       "1      2016-07-01 01:00:00   5.693  HUFL\n",
       "2      2016-07-01 02:00:00   5.157  HUFL\n",
       "3      2016-07-01 03:00:00   5.090  HUFL\n",
       "4      2016-07-01 04:00:00   5.358  HUFL\n",
       "...                    ...     ...   ...\n",
       "17415  2018-06-26 15:00:00  10.904    OT\n",
       "17416  2018-06-26 16:00:00  11.044    OT\n",
       "17417  2018-06-26 17:00:00  10.271    OT\n",
       "17418  2018-06-26 18:00:00   9.778    OT\n",
       "17419  2018-06-26 19:00:00   9.567    OT\n",
       "\n",
       "[121940 rows x 3 columns]"
      ]
     },
     "execution_count": 258,
     "metadata": {},
     "output_type": "execute_result"
    }
   ],
   "source": [
    "df_global.rename({\"date\":\"ds\"},\n",
    "                 inplace=True,\n",
    "                axis=1)\n",
    "df_global"
   ]
  },
  {
   "cell_type": "code",
   "execution_count": 190,
   "metadata": {
    "execution": {
     "iopub.execute_input": "2023-02-20T16:50:19.842278Z",
     "iopub.status.busy": "2023-02-20T16:50:19.841966Z",
     "iopub.status.idle": "2023-02-20T16:50:20.470450Z",
     "shell.execute_reply": "2023-02-20T16:50:20.469481Z",
     "shell.execute_reply.started": "2023-02-20T16:50:19.842248Z"
    },
    "scrolled": true
   },
   "outputs": [
    {
     "name": "stderr",
     "output_type": "stream",
     "text": [
      "INFO - (NP.df_utils._infer_frequency) - Major frequency H corresponds to 99.994% of the data.\n",
      "INFO - (NP.df_utils._infer_frequency) - Dataframe freq automatically defined as H\n",
      "INFO - (NP.df_utils._infer_frequency) - Major frequency H corresponds to 99.994% of the data.\n",
      "INFO - (NP.df_utils._infer_frequency) - Dataframe freq automatically defined as H\n",
      "INFO - (NP.df_utils._infer_frequency) - Major frequency H corresponds to 99.994% of the data.\n",
      "INFO - (NP.df_utils._infer_frequency) - Dataframe freq automatically defined as H\n",
      "INFO - (NP.df_utils._infer_frequency) - Major frequency H corresponds to 99.994% of the data.\n",
      "INFO - (NP.df_utils._infer_frequency) - Dataframe freq automatically defined as H\n",
      "INFO - (NP.df_utils._infer_frequency) - Major frequency H corresponds to 99.994% of the data.\n",
      "INFO - (NP.df_utils._infer_frequency) - Dataframe freq automatically defined as H\n",
      "INFO - (NP.df_utils._infer_frequency) - Major frequency H corresponds to 99.994% of the data.\n",
      "INFO - (NP.df_utils._infer_frequency) - Dataframe freq automatically defined as H\n",
      "INFO - (NP.df_utils._infer_frequency) - Major frequency H corresponds to 99.994% of the data.\n",
      "INFO - (NP.df_utils._infer_frequency) - Dataframe freq automatically defined as H\n"
     ]
    }
   ],
   "source": [
    "m = NeuralProphet(n_lags=24)\n",
    "df_train, df_test = m.split_df(df_global, valid_p=0.33, local_split=True)\n"
   ]
  },
  {
   "cell_type": "markdown",
   "metadata": {},
   "source": [
    "## Case 1: trend = global "
   ]
  },
  {
   "cell_type": "code",
   "execution_count": 191,
   "metadata": {
    "execution": {
     "iopub.execute_input": "2023-02-20T16:50:20.473012Z",
     "iopub.status.busy": "2023-02-20T16:50:20.472761Z",
     "iopub.status.idle": "2023-02-20T16:50:20.478605Z",
     "shell.execute_reply": "2023-02-20T16:50:20.477361Z",
     "shell.execute_reply.started": "2023-02-20T16:50:20.472988Z"
    }
   },
   "outputs": [],
   "source": [
    "m = NeuralProphet(trend_global_local=\"global\", season_global_local=\"global\", n_lags=24)\n"
   ]
  },
  {
   "cell_type": "code",
   "execution_count": 192,
   "metadata": {
    "execution": {
     "iopub.execute_input": "2023-02-20T16:50:20.480935Z",
     "iopub.status.busy": "2023-02-20T16:50:20.480266Z",
     "iopub.status.idle": "2023-02-20T16:55:50.622641Z",
     "shell.execute_reply": "2023-02-20T16:55:50.621593Z",
     "shell.execute_reply.started": "2023-02-20T16:50:20.480895Z"
    },
    "scrolled": true
   },
   "outputs": [
    {
     "name": "stderr",
     "output_type": "stream",
     "text": [
      "WARNING - (NP.forecaster.fit) - When Global modeling with local normalization, metrics are displayed in normalized scale.\n",
      "INFO - (NP.df_utils._infer_frequency) - Major frequency H corresponds to 99.991% of the data.\n",
      "INFO - (NP.df_utils._infer_frequency) - Dataframe freq automatically defined as H\n",
      "INFO - (NP.df_utils._infer_frequency) - Major frequency H corresponds to 99.991% of the data.\n",
      "INFO - (NP.df_utils._infer_frequency) - Dataframe freq automatically defined as H\n",
      "INFO - (NP.df_utils._infer_frequency) - Major frequency H corresponds to 99.991% of the data.\n",
      "INFO - (NP.df_utils._infer_frequency) - Dataframe freq automatically defined as H\n",
      "INFO - (NP.df_utils._infer_frequency) - Major frequency H corresponds to 99.991% of the data.\n",
      "INFO - (NP.df_utils._infer_frequency) - Dataframe freq automatically defined as H\n",
      "INFO - (NP.df_utils._infer_frequency) - Major frequency H corresponds to 99.991% of the data.\n",
      "INFO - (NP.df_utils._infer_frequency) - Dataframe freq automatically defined as H\n",
      "INFO - (NP.df_utils._infer_frequency) - Major frequency H corresponds to 99.991% of the data.\n",
      "INFO - (NP.df_utils._infer_frequency) - Dataframe freq automatically defined as H\n",
      "INFO - (NP.df_utils._infer_frequency) - Major frequency H corresponds to 99.991% of the data.\n",
      "INFO - (NP.df_utils._infer_frequency) - Dataframe freq automatically defined as H\n",
      "INFO - (NP.utils.set_auto_seasonalities) - Disabling yearly seasonality. Run NeuralProphet with yearly_seasonality=True to override this.\n",
      "INFO - (NP.config.set_auto_batch_epoch) - Auto-set batch_size to 64\n",
      "INFO - (NP.config.set_auto_batch_epoch) - Auto-set epochs to 60\n"
     ]
    },
    {
     "data": {
      "application/vnd.jupyter.widget-view+json": {
       "model_id": "4745a5f755a54684b2ed3bdb539e08d7",
       "version_major": 2,
       "version_minor": 0
      },
      "text/plain": [
       "Finding best initial lr:   0%|          | 0/272 [00:00<?, ?it/s]"
      ]
     },
     "metadata": {},
     "output_type": "display_data"
    },
    {
     "data": {
      "application/vnd.jupyter.widget-view+json": {
       "model_id": "4e38b44a72d74758810ad507f82a6b0b",
       "version_major": 2,
       "version_minor": 0
      },
      "text/plain": [
       "Training: 0it [00:00, ?it/s]"
      ]
     },
     "metadata": {},
     "output_type": "display_data"
    },
    {
     "name": "stdout",
     "output_type": "stream",
     "text": [
      "model fitting done\n"
     ]
    }
   ],
   "source": [
    "metrics = m.fit(df_train, freq='auto')\n",
    "print (\"model fitting done\")"
   ]
  },
  {
   "cell_type": "code",
   "execution_count": 193,
   "metadata": {
    "execution": {
     "iopub.execute_input": "2023-02-20T17:05:58.733055Z",
     "iopub.status.busy": "2023-02-20T17:05:58.732674Z",
     "iopub.status.idle": "2023-02-20T17:05:58.755578Z",
     "shell.execute_reply": "2023-02-20T17:05:58.754621Z",
     "shell.execute_reply.started": "2023-02-20T17:05:58.733024Z"
    },
    "scrolled": true
   },
   "outputs": [],
   "source": [
    "#metrics"
   ]
  },
  {
   "cell_type": "code",
   "execution_count": 194,
   "metadata": {
    "execution": {
     "iopub.execute_input": "2023-02-20T17:06:04.367788Z",
     "iopub.status.busy": "2023-02-20T17:06:04.367446Z",
     "iopub.status.idle": "2023-02-20T17:06:08.442900Z",
     "shell.execute_reply": "2023-02-20T17:06:08.441815Z",
     "shell.execute_reply.started": "2023-02-20T17:06:04.367759Z"
    },
    "scrolled": true
   },
   "outputs": [
    {
     "name": "stderr",
     "output_type": "stream",
     "text": [
      "INFO - (NP.df_utils._infer_frequency) - Major frequency H corresponds to 99.983% of the data.\n",
      "INFO - (NP.df_utils._infer_frequency) - Defined frequency is equal to major frequency - H\n",
      "INFO - (NP.df_utils._infer_frequency) - Major frequency H corresponds to 99.983% of the data.\n",
      "INFO - (NP.df_utils._infer_frequency) - Defined frequency is equal to major frequency - H\n",
      "INFO - (NP.df_utils._infer_frequency) - Major frequency H corresponds to 99.983% of the data.\n",
      "INFO - (NP.df_utils._infer_frequency) - Defined frequency is equal to major frequency - H\n",
      "INFO - (NP.df_utils._infer_frequency) - Major frequency H corresponds to 99.983% of the data.\n",
      "INFO - (NP.df_utils._infer_frequency) - Defined frequency is equal to major frequency - H\n",
      "INFO - (NP.df_utils._infer_frequency) - Major frequency H corresponds to 99.983% of the data.\n",
      "INFO - (NP.df_utils._infer_frequency) - Defined frequency is equal to major frequency - H\n",
      "INFO - (NP.df_utils._infer_frequency) - Major frequency H corresponds to 99.983% of the data.\n",
      "INFO - (NP.df_utils._infer_frequency) - Defined frequency is equal to major frequency - H\n",
      "INFO - (NP.df_utils._infer_frequency) - Major frequency H corresponds to 99.983% of the data.\n",
      "INFO - (NP.df_utils._infer_frequency) - Defined frequency is equal to major frequency - H\n",
      "INFO - (NP.df_utils._infer_frequency) - Major frequency H corresponds to 99.983% of the data.\n",
      "INFO - (NP.df_utils._infer_frequency) - Defined frequency is equal to major frequency - H\n",
      "INFO - (NP.df_utils._infer_frequency) - Major frequency H corresponds to 99.983% of the data.\n",
      "INFO - (NP.df_utils._infer_frequency) - Defined frequency is equal to major frequency - H\n",
      "INFO - (NP.df_utils._infer_frequency) - Major frequency H corresponds to 99.983% of the data.\n",
      "INFO - (NP.df_utils._infer_frequency) - Defined frequency is equal to major frequency - H\n",
      "INFO - (NP.df_utils._infer_frequency) - Major frequency H corresponds to 99.983% of the data.\n",
      "INFO - (NP.df_utils._infer_frequency) - Defined frequency is equal to major frequency - H\n",
      "INFO - (NP.df_utils._infer_frequency) - Major frequency H corresponds to 99.983% of the data.\n",
      "INFO - (NP.df_utils._infer_frequency) - Defined frequency is equal to major frequency - H\n",
      "INFO - (NP.df_utils._infer_frequency) - Major frequency H corresponds to 99.983% of the data.\n",
      "INFO - (NP.df_utils._infer_frequency) - Defined frequency is equal to major frequency - H\n",
      "INFO - (NP.df_utils._infer_frequency) - Major frequency H corresponds to 99.983% of the data.\n",
      "INFO - (NP.df_utils._infer_frequency) - Defined frequency is equal to major frequency - H\n",
      "INFO - (NP.df_utils._infer_frequency) - Major frequency H corresponds to 99.983% of the data.\n",
      "INFO - (NP.df_utils._infer_frequency) - Defined frequency is equal to major frequency - H\n",
      "INFO - (NP.df_utils._infer_frequency) - Major frequency H corresponds to 99.983% of the data.\n",
      "INFO - (NP.df_utils._infer_frequency) - Defined frequency is equal to major frequency - H\n",
      "INFO - (NP.df_utils._infer_frequency) - Major frequency H corresponds to 99.983% of the data.\n",
      "INFO - (NP.df_utils._infer_frequency) - Defined frequency is equal to major frequency - H\n",
      "INFO - (NP.df_utils._infer_frequency) - Major frequency H corresponds to 99.983% of the data.\n",
      "INFO - (NP.df_utils._infer_frequency) - Defined frequency is equal to major frequency - H\n",
      "INFO - (NP.df_utils._infer_frequency) - Major frequency H corresponds to 99.983% of the data.\n",
      "INFO - (NP.df_utils._infer_frequency) - Defined frequency is equal to major frequency - H\n",
      "INFO - (NP.df_utils._infer_frequency) - Major frequency H corresponds to 99.983% of the data.\n",
      "INFO - (NP.df_utils._infer_frequency) - Defined frequency is equal to major frequency - H\n",
      "INFO - (NP.df_utils._infer_frequency) - Major frequency H corresponds to 99.983% of the data.\n",
      "INFO - (NP.df_utils._infer_frequency) - Defined frequency is equal to major frequency - H\n"
     ]
    },
    {
     "data": {
      "application/vnd.jupyter.widget-view+json": {
       "model_id": "ea2e1dc5b42a4ad4a3ab6621d2c5fdb2",
       "version_major": 2,
       "version_minor": 0
      },
      "text/plain": [
       "Predicting: 1275it [00:00, ?it/s]"
      ]
     },
     "metadata": {},
     "output_type": "display_data"
    },
    {
     "data": {
      "application/vnd.jupyter.widget-view+json": {
       "model_id": "207f2195cabc40f3bb843715f9b5927d",
       "version_major": 2,
       "version_minor": 0
      },
      "text/plain": [
       "Predicting: 1275it [00:00, ?it/s]"
      ]
     },
     "metadata": {},
     "output_type": "display_data"
    },
    {
     "data": {
      "application/vnd.jupyter.widget-view+json": {
       "model_id": "574cce9d48f14d39b1883992182d8247",
       "version_major": 2,
       "version_minor": 0
      },
      "text/plain": [
       "Predicting: 1275it [00:00, ?it/s]"
      ]
     },
     "metadata": {},
     "output_type": "display_data"
    },
    {
     "data": {
      "application/vnd.jupyter.widget-view+json": {
       "model_id": "67a4d2cd14a5420ba2460060f9f9694a",
       "version_major": 2,
       "version_minor": 0
      },
      "text/plain": [
       "Predicting: 1275it [00:00, ?it/s]"
      ]
     },
     "metadata": {},
     "output_type": "display_data"
    },
    {
     "data": {
      "application/vnd.jupyter.widget-view+json": {
       "model_id": "f50e2a4daf2b47dbafcf70b4b0580495",
       "version_major": 2,
       "version_minor": 0
      },
      "text/plain": [
       "Predicting: 1275it [00:00, ?it/s]"
      ]
     },
     "metadata": {},
     "output_type": "display_data"
    },
    {
     "data": {
      "application/vnd.jupyter.widget-view+json": {
       "model_id": "a61c89e35d7246b3b65a9d54fa445b88",
       "version_major": 2,
       "version_minor": 0
      },
      "text/plain": [
       "Predicting: 1275it [00:00, ?it/s]"
      ]
     },
     "metadata": {},
     "output_type": "display_data"
    },
    {
     "data": {
      "application/vnd.jupyter.widget-view+json": {
       "model_id": "f84b8fa11f094f6c95793b98dcda5c44",
       "version_major": 2,
       "version_minor": 0
      },
      "text/plain": [
       "Predicting: 1275it [00:00, ?it/s]"
      ]
     },
     "metadata": {},
     "output_type": "display_data"
    }
   ],
   "source": [
    "future = m.make_future_dataframe(df_test, n_historic_predictions=True)\n",
    "forecast = m.predict(future)"
   ]
  },
  {
   "cell_type": "code",
   "execution_count": 195,
   "metadata": {
    "execution": {
     "iopub.execute_input": "2023-02-20T17:14:47.551134Z",
     "iopub.status.busy": "2023-02-20T17:14:47.550752Z",
     "iopub.status.idle": "2023-02-20T17:14:47.569040Z",
     "shell.execute_reply": "2023-02-20T17:14:47.568302Z",
     "shell.execute_reply.started": "2023-02-20T17:14:47.551086Z"
    },
    "scrolled": true
   },
   "outputs": [],
   "source": [
    "#forecast[24:48] "
   ]
  },
  {
   "attachments": {
    "c48c4f03-2b21-4da4-99aa-61f35f85cafb.png": {
     "image/png": "[encoded data removed]"
    }
   },
   "cell_type": "markdown",
   "metadata": {},
   "source": [
    "### Metric for comparison \n",
    "I am using MSE for comparison here, but MAE or other metric can be used instead of MSE. \n",
    "\n",
    "![image.png](attachment:c48c4f03-2b21-4da4-99aa-61f35f85cafb.png)\n",
    "\n",
    "### Conclusions \n",
    "#### When considering all the features in the dataset needs to be used for fitting the model. \n",
    "1. A set of 7 features are used for fitting the model simultaneous, i.e. they will have same trend, seasonality and AR coefficients. \n",
    "2. The fitted value when compared to ground truth (a few values by eye) seems to be a good fit (conclusion last week)\n",
    "3. However, when using MSE as metric, it is found to be \n",
    "### MSE=0.6617\n",
    "\n",
    "4. Also, the trend is changing for almost each of the value, i.e. size of the input vector and trend is similar. \n",
    "5. Trend changing at each timestamp [by definination, monotonically increasing or decreasing] because NP use the last value of the trend from fit and extrapolate it. \n",
    "  - This changing trend in the future can be useless for the cases where point of inflection is observed in the forecasting horizion. \n",
    "6. However, NP allows each TS to have independent trend (and seasonality), but in that case, only corrrelation between the TS will be using the AR coefficients, \n",
    "\n",
    "Let's try that"
   ]
  },
  {
   "cell_type": "code",
   "execution_count": 196,
   "metadata": {
    "execution": {
     "iopub.execute_input": "2023-02-20T17:22:51.288770Z",
     "iopub.status.busy": "2023-02-20T17:22:51.288406Z",
     "iopub.status.idle": "2023-02-20T17:22:51.294025Z",
     "shell.execute_reply": "2023-02-20T17:22:51.292830Z",
     "shell.execute_reply.started": "2023-02-20T17:22:51.288741Z"
    }
   },
   "outputs": [],
   "source": [
    "def MSE(g_truth, measured):\n",
    "    n=len(g_truth)\n",
    "    diff=g_truth-measured\n",
    "    return np.sum(np.square(diff)) / n \n",
    "    "
   ]
  },
  {
   "cell_type": "code",
   "execution_count": 197,
   "metadata": {
    "execution": {
     "iopub.execute_input": "2023-02-20T17:37:51.347304Z",
     "iopub.status.busy": "2023-02-20T17:37:51.346953Z",
     "iopub.status.idle": "2023-02-20T17:37:51.355706Z",
     "shell.execute_reply": "2023-02-20T17:37:51.355045Z",
     "shell.execute_reply.started": "2023-02-20T17:37:51.347277Z"
    }
   },
   "outputs": [
    {
     "data": {
      "text/plain": [
       "(40187, (40355, 8))"
      ]
     },
     "execution_count": 197,
     "metadata": {},
     "output_type": "execute_result"
    }
   ],
   "source": [
    "forecast.trend.nunique(), forecast.shape"
   ]
  },
  {
   "cell_type": "code",
   "execution_count": 198,
   "metadata": {},
   "outputs": [
    {
     "data": {
      "text/plain": [
       "0.661770496344214"
      ]
     },
     "execution_count": 198,
     "metadata": {},
     "output_type": "execute_result"
    }
   ],
   "source": [
    "\n",
    "forecast_=forecast[(forecast.ID==\"OT\")].dropna()\n",
    "MSE(forecast_.y.to_numpy(), forecast_.yhat1.to_numpy())"
   ]
  },
  {
   "cell_type": "markdown",
   "metadata": {},
   "source": [
    "## Case 2: when trend is independent \n"
   ]
  },
  {
   "cell_type": "code",
   "execution_count": 199,
   "metadata": {
    "scrolled": false
   },
   "outputs": [
    {
     "name": "stderr",
     "output_type": "stream",
     "text": [
      "WARNING - (NP.forecaster.fit) - When Global modeling with local normalization, metrics are displayed in normalized scale.\n",
      "INFO - (NP.df_utils._infer_frequency) - Major frequency H corresponds to 99.991% of the data.\n",
      "INFO - (NP.df_utils._infer_frequency) - Dataframe freq automatically defined as H\n",
      "INFO - (NP.df_utils._infer_frequency) - Major frequency H corresponds to 99.991% of the data.\n",
      "INFO - (NP.df_utils._infer_frequency) - Dataframe freq automatically defined as H\n",
      "INFO - (NP.df_utils._infer_frequency) - Major frequency H corresponds to 99.991% of the data.\n",
      "INFO - (NP.df_utils._infer_frequency) - Dataframe freq automatically defined as H\n",
      "INFO - (NP.df_utils._infer_frequency) - Major frequency H corresponds to 99.991% of the data.\n",
      "INFO - (NP.df_utils._infer_frequency) - Dataframe freq automatically defined as H\n",
      "INFO - (NP.df_utils._infer_frequency) - Major frequency H corresponds to 99.991% of the data.\n",
      "INFO - (NP.df_utils._infer_frequency) - Dataframe freq automatically defined as H\n",
      "INFO - (NP.df_utils._infer_frequency) - Major frequency H corresponds to 99.991% of the data.\n",
      "INFO - (NP.df_utils._infer_frequency) - Dataframe freq automatically defined as H\n",
      "INFO - (NP.df_utils._infer_frequency) - Major frequency H corresponds to 99.991% of the data.\n",
      "INFO - (NP.df_utils._infer_frequency) - Dataframe freq automatically defined as H\n",
      "INFO - (NP.utils.set_auto_seasonalities) - Disabling yearly seasonality. Run NeuralProphet with yearly_seasonality=True to override this.\n",
      "INFO - (NP.config.set_auto_batch_epoch) - Auto-set batch_size to 64\n",
      "INFO - (NP.config.set_auto_batch_epoch) - Auto-set epochs to 60\n"
     ]
    },
    {
     "data": {
      "application/vnd.jupyter.widget-view+json": {
       "model_id": "63a288f8ad0d447dba8372b874c3ec78",
       "version_major": 2,
       "version_minor": 0
      },
      "text/plain": [
       "Finding best initial lr:   0%|          | 0/272 [00:00<?, ?it/s]"
      ]
     },
     "metadata": {},
     "output_type": "display_data"
    },
    {
     "data": {
      "application/vnd.jupyter.widget-view+json": {
       "model_id": "74f8c36e67d140fc816bf9c27bc40d02",
       "version_major": 2,
       "version_minor": 0
      },
      "text/plain": [
       "Training: 0it [00:00, ?it/s]"
      ]
     },
     "metadata": {},
     "output_type": "display_data"
    }
   ],
   "source": [
    "m = NeuralProphet(trend_global_local=\"local\", season_global_local=\"global\", n_lags=24)\n",
    "metrics = m.fit(df_train, freq='auto')\n",
    "\n"
   ]
  },
  {
   "cell_type": "code",
   "execution_count": 200,
   "metadata": {
    "execution": {
     "iopub.execute_input": "2023-02-20T16:55:54.721967Z",
     "iopub.status.busy": "2023-02-20T16:55:54.721189Z",
     "iopub.status.idle": "2023-02-20T16:55:54.737213Z",
     "shell.execute_reply": "2023-02-20T16:55:54.736120Z",
     "shell.execute_reply.started": "2023-02-20T16:55:54.721937Z"
    },
    "scrolled": true
   },
   "outputs": [
    {
     "name": "stderr",
     "output_type": "stream",
     "text": [
      "INFO - (NP.df_utils._infer_frequency) - Major frequency H corresponds to 99.983% of the data.\n",
      "INFO - (NP.df_utils._infer_frequency) - Defined frequency is equal to major frequency - H\n",
      "INFO - (NP.df_utils._infer_frequency) - Major frequency H corresponds to 99.983% of the data.\n",
      "INFO - (NP.df_utils._infer_frequency) - Defined frequency is equal to major frequency - H\n",
      "INFO - (NP.df_utils._infer_frequency) - Major frequency H corresponds to 99.983% of the data.\n",
      "INFO - (NP.df_utils._infer_frequency) - Defined frequency is equal to major frequency - H\n",
      "INFO - (NP.df_utils._infer_frequency) - Major frequency H corresponds to 99.983% of the data.\n",
      "INFO - (NP.df_utils._infer_frequency) - Defined frequency is equal to major frequency - H\n",
      "INFO - (NP.df_utils._infer_frequency) - Major frequency H corresponds to 99.983% of the data.\n",
      "INFO - (NP.df_utils._infer_frequency) - Defined frequency is equal to major frequency - H\n",
      "INFO - (NP.df_utils._infer_frequency) - Major frequency H corresponds to 99.983% of the data.\n",
      "INFO - (NP.df_utils._infer_frequency) - Defined frequency is equal to major frequency - H\n",
      "INFO - (NP.df_utils._infer_frequency) - Major frequency H corresponds to 99.983% of the data.\n",
      "INFO - (NP.df_utils._infer_frequency) - Defined frequency is equal to major frequency - H\n",
      "INFO - (NP.df_utils._infer_frequency) - Major frequency H corresponds to 99.983% of the data.\n",
      "INFO - (NP.df_utils._infer_frequency) - Defined frequency is equal to major frequency - H\n",
      "INFO - (NP.df_utils._infer_frequency) - Major frequency H corresponds to 99.983% of the data.\n",
      "INFO - (NP.df_utils._infer_frequency) - Defined frequency is equal to major frequency - H\n",
      "INFO - (NP.df_utils._infer_frequency) - Major frequency H corresponds to 99.983% of the data.\n",
      "INFO - (NP.df_utils._infer_frequency) - Defined frequency is equal to major frequency - H\n",
      "INFO - (NP.df_utils._infer_frequency) - Major frequency H corresponds to 99.983% of the data.\n",
      "INFO - (NP.df_utils._infer_frequency) - Defined frequency is equal to major frequency - H\n",
      "INFO - (NP.df_utils._infer_frequency) - Major frequency H corresponds to 99.983% of the data.\n",
      "INFO - (NP.df_utils._infer_frequency) - Defined frequency is equal to major frequency - H\n",
      "INFO - (NP.df_utils._infer_frequency) - Major frequency H corresponds to 99.983% of the data.\n",
      "INFO - (NP.df_utils._infer_frequency) - Defined frequency is equal to major frequency - H\n",
      "INFO - (NP.df_utils._infer_frequency) - Major frequency H corresponds to 99.983% of the data.\n",
      "INFO - (NP.df_utils._infer_frequency) - Defined frequency is equal to major frequency - H\n",
      "INFO - (NP.df_utils._infer_frequency) - Major frequency H corresponds to 99.983% of the data.\n",
      "INFO - (NP.df_utils._infer_frequency) - Defined frequency is equal to major frequency - H\n",
      "INFO - (NP.df_utils._infer_frequency) - Major frequency H corresponds to 99.983% of the data.\n",
      "INFO - (NP.df_utils._infer_frequency) - Defined frequency is equal to major frequency - H\n",
      "INFO - (NP.df_utils._infer_frequency) - Major frequency H corresponds to 99.983% of the data.\n",
      "INFO - (NP.df_utils._infer_frequency) - Defined frequency is equal to major frequency - H\n",
      "INFO - (NP.df_utils._infer_frequency) - Major frequency H corresponds to 99.983% of the data.\n",
      "INFO - (NP.df_utils._infer_frequency) - Defined frequency is equal to major frequency - H\n",
      "INFO - (NP.df_utils._infer_frequency) - Major frequency H corresponds to 99.983% of the data.\n",
      "INFO - (NP.df_utils._infer_frequency) - Defined frequency is equal to major frequency - H\n",
      "INFO - (NP.df_utils._infer_frequency) - Major frequency H corresponds to 99.983% of the data.\n",
      "INFO - (NP.df_utils._infer_frequency) - Defined frequency is equal to major frequency - H\n",
      "INFO - (NP.df_utils._infer_frequency) - Major frequency H corresponds to 99.983% of the data.\n",
      "INFO - (NP.df_utils._infer_frequency) - Defined frequency is equal to major frequency - H\n"
     ]
    },
    {
     "data": {
      "application/vnd.jupyter.widget-view+json": {
       "model_id": "72deb96006b7471e8c37e1c67dbb574e",
       "version_major": 2,
       "version_minor": 0
      },
      "text/plain": [
       "Predicting: 1275it [00:00, ?it/s]"
      ]
     },
     "metadata": {},
     "output_type": "display_data"
    },
    {
     "data": {
      "application/vnd.jupyter.widget-view+json": {
       "model_id": "e005a397494e4321b543d8c6e95ef8c4",
       "version_major": 2,
       "version_minor": 0
      },
      "text/plain": [
       "Predicting: 1275it [00:00, ?it/s]"
      ]
     },
     "metadata": {},
     "output_type": "display_data"
    },
    {
     "data": {
      "application/vnd.jupyter.widget-view+json": {
       "model_id": "055dc8ce18c34b7fa220057a370f7de5",
       "version_major": 2,
       "version_minor": 0
      },
      "text/plain": [
       "Predicting: 1275it [00:00, ?it/s]"
      ]
     },
     "metadata": {},
     "output_type": "display_data"
    },
    {
     "data": {
      "application/vnd.jupyter.widget-view+json": {
       "model_id": "2bb828a3ea8946dca0da0286e137947c",
       "version_major": 2,
       "version_minor": 0
      },
      "text/plain": [
       "Predicting: 1275it [00:00, ?it/s]"
      ]
     },
     "metadata": {},
     "output_type": "display_data"
    },
    {
     "data": {
      "application/vnd.jupyter.widget-view+json": {
       "model_id": "83e90f51e80f4d63b0fc24493e96f943",
       "version_major": 2,
       "version_minor": 0
      },
      "text/plain": [
       "Predicting: 1275it [00:00, ?it/s]"
      ]
     },
     "metadata": {},
     "output_type": "display_data"
    },
    {
     "data": {
      "application/vnd.jupyter.widget-view+json": {
       "model_id": "16c8ada8b22140a6be8ab8f597b8d8b8",
       "version_major": 2,
       "version_minor": 0
      },
      "text/plain": [
       "Predicting: 1275it [00:00, ?it/s]"
      ]
     },
     "metadata": {},
     "output_type": "display_data"
    },
    {
     "data": {
      "application/vnd.jupyter.widget-view+json": {
       "model_id": "6da197e2de16442ea1345e39003efe8f",
       "version_major": 2,
       "version_minor": 0
      },
      "text/plain": [
       "Predicting: 1275it [00:00, ?it/s]"
      ]
     },
     "metadata": {},
     "output_type": "display_data"
    }
   ],
   "source": [
    "future = m.make_future_dataframe(df_test, n_historic_predictions=True)\n",
    "forecast = m.predict(future)\n"
   ]
  },
  {
   "cell_type": "code",
   "execution_count": 201,
   "metadata": {},
   "outputs": [
    {
     "name": "stdout",
     "output_type": "stream",
     "text": [
      "trend unique values, unique number of trend values, shape of the forecast dataframe\n",
      "[-3.70658708 -3.70670962 -3.70683169 ... -4.40756559 -4.40768766\n",
      " -4.40780973]\n",
      "5740\n",
      "(5740, 8)\n"
     ]
    }
   ],
   "source": [
    "print (\"trend unique values, unique number of trend values, shape of the forecast dataframe\")\n",
    "print (forecast[(forecast.ID==\"OT\")].dropna().trend.unique())\n",
    "print (forecast[(forecast.ID==\"OT\")].dropna().trend.nunique())\n",
    "print (forecast[(forecast.ID==\"OT\")].dropna().shape)"
   ]
  },
  {
   "cell_type": "code",
   "execution_count": 202,
   "metadata": {
    "execution": {
     "iopub.execute_input": "2023-02-20T16:55:54.738515Z",
     "iopub.status.busy": "2023-02-20T16:55:54.738258Z",
     "iopub.status.idle": "2023-02-20T16:55:54.758312Z",
     "shell.execute_reply": "2023-02-20T16:55:54.757076Z",
     "shell.execute_reply.started": "2023-02-20T16:55:54.738491Z"
    }
   },
   "outputs": [
    {
     "data": {
      "text/plain": [
       "0.7992723955070896"
      ]
     },
     "execution_count": 202,
     "metadata": {},
     "output_type": "execute_result"
    }
   ],
   "source": [
    "forecast_=forecast[(forecast.ID==\"OT\")].dropna()\n",
    "MSE(forecast_.y.to_numpy(), forecast_.yhat1.to_numpy())\n"
   ]
  },
  {
   "cell_type": "code",
   "execution_count": 203,
   "metadata": {},
   "outputs": [
    {
     "data": {
      "text/plain": [
       "<Axes: >"
      ]
     },
     "execution_count": 203,
     "metadata": {},
     "output_type": "execute_result"
    },
    {
     "data": {
      "image/png": "[encoded data removed]",
      "text/plain": [
       "<Figure size 640x480 with 1 Axes>"
      ]
     },
     "metadata": {},
     "output_type": "display_data"
    }
   ],
   "source": [
    "forecast_.trend.plot()"
   ]
  },
  {
   "cell_type": "markdown",
   "metadata": {},
   "source": []
  },
  {
   "cell_type": "code",
   "execution_count": 204,
   "metadata": {
    "execution": {
     "iopub.status.busy": "2023-02-20T17:01:30.369518Z",
     "iopub.status.idle": "2023-02-20T17:01:30.369955Z",
     "shell.execute_reply": "2023-02-20T17:01:30.369763Z",
     "shell.execute_reply.started": "2023-02-20T17:01:30.369741Z"
    },
    "scrolled": false
   },
   "outputs": [
    {
     "name": "stderr",
     "output_type": "stream",
     "text": [
      "WARNING - (NP.plotting.get_valid_configuration) - Glocal model set with > 1 time series in the pd.DataFrame. Plotting components of mean time series and quants. \n",
      "WARNING - (NP.plotting.log_warning_deprecation_plotly) - DeprecationWarning: default plotting_backend will be changed to plotly in a future version. Switch to plotly by calling `m.set_plotting_backend('plotly')`.\n"
     ]
    },
    {
     "data": {
      "image/png": "[encoded data removed]",
      "text/plain": [
       "<Figure size 1000x1500 with 5 Axes>"
      ]
     },
     "metadata": {},
     "output_type": "display_data"
    }
   ],
   "source": [
    "fig_param = m.plot_parameters()\n"
   ]
  },
  {
   "cell_type": "markdown",
   "metadata": {},
   "source": [
    "### Case 3: Local seasonality \n"
   ]
  },
  {
   "cell_type": "code",
   "execution_count": 205,
   "metadata": {
    "scrolled": true
   },
   "outputs": [
    {
     "name": "stderr",
     "output_type": "stream",
     "text": [
      "WARNING - (NP.forecaster.fit) - When Global modeling with local normalization, metrics are displayed in normalized scale.\n",
      "INFO - (NP.df_utils._infer_frequency) - Major frequency H corresponds to 99.991% of the data.\n",
      "INFO - (NP.df_utils._infer_frequency) - Dataframe freq automatically defined as H\n",
      "INFO - (NP.df_utils._infer_frequency) - Major frequency H corresponds to 99.991% of the data.\n",
      "INFO - (NP.df_utils._infer_frequency) - Dataframe freq automatically defined as H\n",
      "INFO - (NP.df_utils._infer_frequency) - Major frequency H corresponds to 99.991% of the data.\n",
      "INFO - (NP.df_utils._infer_frequency) - Dataframe freq automatically defined as H\n",
      "INFO - (NP.df_utils._infer_frequency) - Major frequency H corresponds to 99.991% of the data.\n",
      "INFO - (NP.df_utils._infer_frequency) - Dataframe freq automatically defined as H\n",
      "INFO - (NP.df_utils._infer_frequency) - Major frequency H corresponds to 99.991% of the data.\n",
      "INFO - (NP.df_utils._infer_frequency) - Dataframe freq automatically defined as H\n",
      "INFO - (NP.df_utils._infer_frequency) - Major frequency H corresponds to 99.991% of the data.\n",
      "INFO - (NP.df_utils._infer_frequency) - Dataframe freq automatically defined as H\n",
      "INFO - (NP.df_utils._infer_frequency) - Major frequency H corresponds to 99.991% of the data.\n",
      "INFO - (NP.df_utils._infer_frequency) - Dataframe freq automatically defined as H\n",
      "INFO - (NP.utils.set_auto_seasonalities) - Disabling yearly seasonality. Run NeuralProphet with yearly_seasonality=True to override this.\n",
      "INFO - (NP.config.set_auto_batch_epoch) - Auto-set batch_size to 64\n",
      "INFO - (NP.config.set_auto_batch_epoch) - Auto-set epochs to 60\n"
     ]
    },
    {
     "data": {
      "application/vnd.jupyter.widget-view+json": {
       "model_id": "d8353ce56a5047549bbf788e804c5e85",
       "version_major": 2,
       "version_minor": 0
      },
      "text/plain": [
       "Finding best initial lr:   0%|          | 0/272 [00:00<?, ?it/s]"
      ]
     },
     "metadata": {},
     "output_type": "display_data"
    },
    {
     "data": {
      "application/vnd.jupyter.widget-view+json": {
       "model_id": "06100e02a7f5402096933703bcfd5f4e",
       "version_major": 2,
       "version_minor": 0
      },
      "text/plain": [
       "Training: 0it [00:00, ?it/s]"
      ]
     },
     "metadata": {},
     "output_type": "display_data"
    },
    {
     "name": "stderr",
     "output_type": "stream",
     "text": [
      "INFO - (NP.df_utils._infer_frequency) - Major frequency H corresponds to 99.983% of the data.\n",
      "INFO - (NP.df_utils._infer_frequency) - Defined frequency is equal to major frequency - H\n",
      "INFO - (NP.df_utils._infer_frequency) - Major frequency H corresponds to 99.983% of the data.\n",
      "INFO - (NP.df_utils._infer_frequency) - Defined frequency is equal to major frequency - H\n",
      "INFO - (NP.df_utils._infer_frequency) - Major frequency H corresponds to 99.983% of the data.\n",
      "INFO - (NP.df_utils._infer_frequency) - Defined frequency is equal to major frequency - H\n",
      "INFO - (NP.df_utils._infer_frequency) - Major frequency H corresponds to 99.983% of the data.\n",
      "INFO - (NP.df_utils._infer_frequency) - Defined frequency is equal to major frequency - H\n",
      "INFO - (NP.df_utils._infer_frequency) - Major frequency H corresponds to 99.983% of the data.\n",
      "INFO - (NP.df_utils._infer_frequency) - Defined frequency is equal to major frequency - H\n",
      "INFO - (NP.df_utils._infer_frequency) - Major frequency H corresponds to 99.983% of the data.\n",
      "INFO - (NP.df_utils._infer_frequency) - Defined frequency is equal to major frequency - H\n",
      "INFO - (NP.df_utils._infer_frequency) - Major frequency H corresponds to 99.983% of the data.\n",
      "INFO - (NP.df_utils._infer_frequency) - Defined frequency is equal to major frequency - H\n",
      "INFO - (NP.df_utils._infer_frequency) - Major frequency H corresponds to 99.983% of the data.\n",
      "INFO - (NP.df_utils._infer_frequency) - Defined frequency is equal to major frequency - H\n",
      "INFO - (NP.df_utils._infer_frequency) - Major frequency H corresponds to 99.983% of the data.\n",
      "INFO - (NP.df_utils._infer_frequency) - Defined frequency is equal to major frequency - H\n",
      "INFO - (NP.df_utils._infer_frequency) - Major frequency H corresponds to 99.983% of the data.\n",
      "INFO - (NP.df_utils._infer_frequency) - Defined frequency is equal to major frequency - H\n",
      "INFO - (NP.df_utils._infer_frequency) - Major frequency H corresponds to 99.983% of the data.\n",
      "INFO - (NP.df_utils._infer_frequency) - Defined frequency is equal to major frequency - H\n",
      "INFO - (NP.df_utils._infer_frequency) - Major frequency H corresponds to 99.983% of the data.\n",
      "INFO - (NP.df_utils._infer_frequency) - Defined frequency is equal to major frequency - H\n",
      "INFO - (NP.df_utils._infer_frequency) - Major frequency H corresponds to 99.983% of the data.\n",
      "INFO - (NP.df_utils._infer_frequency) - Defined frequency is equal to major frequency - H\n",
      "INFO - (NP.df_utils._infer_frequency) - Major frequency H corresponds to 99.983% of the data.\n",
      "INFO - (NP.df_utils._infer_frequency) - Defined frequency is equal to major frequency - H\n",
      "INFO - (NP.df_utils._infer_frequency) - Major frequency H corresponds to 99.983% of the data.\n",
      "INFO - (NP.df_utils._infer_frequency) - Defined frequency is equal to major frequency - H\n",
      "INFO - (NP.df_utils._infer_frequency) - Major frequency H corresponds to 99.983% of the data.\n",
      "INFO - (NP.df_utils._infer_frequency) - Defined frequency is equal to major frequency - H\n",
      "INFO - (NP.df_utils._infer_frequency) - Major frequency H corresponds to 99.983% of the data.\n",
      "INFO - (NP.df_utils._infer_frequency) - Defined frequency is equal to major frequency - H\n",
      "INFO - (NP.df_utils._infer_frequency) - Major frequency H corresponds to 99.983% of the data.\n",
      "INFO - (NP.df_utils._infer_frequency) - Defined frequency is equal to major frequency - H\n",
      "INFO - (NP.df_utils._infer_frequency) - Major frequency H corresponds to 99.983% of the data.\n",
      "INFO - (NP.df_utils._infer_frequency) - Defined frequency is equal to major frequency - H\n",
      "INFO - (NP.df_utils._infer_frequency) - Major frequency H corresponds to 99.983% of the data.\n",
      "INFO - (NP.df_utils._infer_frequency) - Defined frequency is equal to major frequency - H\n",
      "INFO - (NP.df_utils._infer_frequency) - Major frequency H corresponds to 99.983% of the data.\n",
      "INFO - (NP.df_utils._infer_frequency) - Defined frequency is equal to major frequency - H\n"
     ]
    },
    {
     "data": {
      "application/vnd.jupyter.widget-view+json": {
       "model_id": "5e85f11b8c594e0f9405a8de75f56e6a",
       "version_major": 2,
       "version_minor": 0
      },
      "text/plain": [
       "Predicting: 1275it [00:00, ?it/s]"
      ]
     },
     "metadata": {},
     "output_type": "display_data"
    },
    {
     "data": {
      "application/vnd.jupyter.widget-view+json": {
       "model_id": "3757b44874714f9fbc4d2844ba1077bc",
       "version_major": 2,
       "version_minor": 0
      },
      "text/plain": [
       "Predicting: 1275it [00:00, ?it/s]"
      ]
     },
     "metadata": {},
     "output_type": "display_data"
    },
    {
     "data": {
      "application/vnd.jupyter.widget-view+json": {
       "model_id": "f892417a762b4581b88a640d03bf112a",
       "version_major": 2,
       "version_minor": 0
      },
      "text/plain": [
       "Predicting: 1275it [00:00, ?it/s]"
      ]
     },
     "metadata": {},
     "output_type": "display_data"
    },
    {
     "data": {
      "application/vnd.jupyter.widget-view+json": {
       "model_id": "b1200434764c42a581cf7d5b8012c966",
       "version_major": 2,
       "version_minor": 0
      },
      "text/plain": [
       "Predicting: 1275it [00:00, ?it/s]"
      ]
     },
     "metadata": {},
     "output_type": "display_data"
    },
    {
     "data": {
      "application/vnd.jupyter.widget-view+json": {
       "model_id": "9253198a5c79482188780afeda145cee",
       "version_major": 2,
       "version_minor": 0
      },
      "text/plain": [
       "Predicting: 1275it [00:00, ?it/s]"
      ]
     },
     "metadata": {},
     "output_type": "display_data"
    },
    {
     "data": {
      "application/vnd.jupyter.widget-view+json": {
       "model_id": "7507405050784fb587ca4ab979513175",
       "version_major": 2,
       "version_minor": 0
      },
      "text/plain": [
       "Predicting: 1275it [00:00, ?it/s]"
      ]
     },
     "metadata": {},
     "output_type": "display_data"
    },
    {
     "data": {
      "application/vnd.jupyter.widget-view+json": {
       "model_id": "9f782eda104045c7869ab22366d1b561",
       "version_major": 2,
       "version_minor": 0
      },
      "text/plain": [
       "Predicting: 1275it [00:00, ?it/s]"
      ]
     },
     "metadata": {},
     "output_type": "display_data"
    },
    {
     "data": {
      "text/plain": [
       "0.6504890171867804"
      ]
     },
     "execution_count": 205,
     "metadata": {},
     "output_type": "execute_result"
    }
   ],
   "source": [
    "m = NeuralProphet(trend_global_local=\"local\", season_global_local=\"local\", n_lags=24)\n",
    "metrics = m.fit(df_train, freq='auto')\n",
    "future = m.make_future_dataframe(df_test, n_historic_predictions=True)\n",
    "forecast = m.predict(future)\n",
    "forecast_=forecast[(forecast.ID==\"OT\")].dropna()\n",
    "MSE(forecast_.y.to_numpy(), forecast_.yhat1.to_numpy())"
   ]
  },
  {
   "cell_type": "markdown",
   "metadata": {},
   "source": [
    "## Case 4: Use only Oil temperature, no load features as input. "
   ]
  },
  {
   "cell_type": "code",
   "execution_count": 247,
   "metadata": {},
   "outputs": [],
   "source": [
    "df_ercot.drop(columns=['HUFL','HULL','MUFL','MULL','LUFL','LULL'],\n",
    "             inplace=True)"
   ]
  },
  {
   "cell_type": "code",
   "execution_count": 248,
   "metadata": {},
   "outputs": [
    {
     "data": {
      "text/html": [
       "<div>\n",
       "<style scoped>\n",
       "    .dataframe tbody tr th:only-of-type {\n",
       "        vertical-align: middle;\n",
       "    }\n",
       "\n",
       "    .dataframe tbody tr th {\n",
       "        vertical-align: top;\n",
       "    }\n",
       "\n",
       "    .dataframe thead th {\n",
       "        text-align: right;\n",
       "    }\n",
       "</style>\n",
       "<table border=\"1\" class=\"dataframe\">\n",
       "  <thead>\n",
       "    <tr style=\"text-align: right;\">\n",
       "      <th></th>\n",
       "      <th>date</th>\n",
       "      <th>OT</th>\n",
       "    </tr>\n",
       "  </thead>\n",
       "  <tbody>\n",
       "    <tr>\n",
       "      <th>0</th>\n",
       "      <td>2016-07-01 00:00:00</td>\n",
       "      <td>30.531000</td>\n",
       "    </tr>\n",
       "    <tr>\n",
       "      <th>1</th>\n",
       "      <td>2016-07-01 01:00:00</td>\n",
       "      <td>27.787001</td>\n",
       "    </tr>\n",
       "    <tr>\n",
       "      <th>2</th>\n",
       "      <td>2016-07-01 02:00:00</td>\n",
       "      <td>27.787001</td>\n",
       "    </tr>\n",
       "    <tr>\n",
       "      <th>3</th>\n",
       "      <td>2016-07-01 03:00:00</td>\n",
       "      <td>25.044001</td>\n",
       "    </tr>\n",
       "    <tr>\n",
       "      <th>4</th>\n",
       "      <td>2016-07-01 04:00:00</td>\n",
       "      <td>21.948000</td>\n",
       "    </tr>\n",
       "  </tbody>\n",
       "</table>\n",
       "</div>"
      ],
      "text/plain": [
       "                  date         OT\n",
       "0  2016-07-01 00:00:00  30.531000\n",
       "1  2016-07-01 01:00:00  27.787001\n",
       "2  2016-07-01 02:00:00  27.787001\n",
       "3  2016-07-01 03:00:00  25.044001\n",
       "4  2016-07-01 04:00:00  21.948000"
      ]
     },
     "execution_count": 248,
     "metadata": {},
     "output_type": "execute_result"
    }
   ],
   "source": [
    "df_ercot.head()"
   ]
  },
  {
   "cell_type": "code",
   "execution_count": 249,
   "metadata": {},
   "outputs": [
    {
     "name": "stderr",
     "output_type": "stream",
     "text": [
      "INFO - (NP.df_utils._infer_frequency) - Major frequency H corresponds to 99.994% of the data.\n",
      "INFO - (NP.df_utils._infer_frequency) - Dataframe freq automatically defined as H\n",
      "INFO - (NP.df_utils.return_df_in_original_format) - Returning df with no ID column\n",
      "INFO - (NP.df_utils.return_df_in_original_format) - Returning df with no ID column\n"
     ]
    }
   ],
   "source": [
    "m_ot = NeuralProphet(n_lags=24)\n",
    "df_ercot.rename({\"date\":\"ds\",\n",
    "                \"OT\":\"y\"},\n",
    "                 inplace=True,\n",
    "                axis=1)\n",
    "df_train_ot, df_test_ot = m_ot.split_df(df_ercot, valid_p=0.33)#, local_split=True)"
   ]
  },
  {
   "cell_type": "code",
   "execution_count": null,
   "metadata": {},
   "outputs": [],
   "source": []
  },
  {
   "cell_type": "code",
   "execution_count": 209,
   "metadata": {},
   "outputs": [
    {
     "name": "stderr",
     "output_type": "stream",
     "text": [
      "WARNING - (NP.forecaster.fit) - When Global modeling with local normalization, metrics are displayed in normalized scale.\n",
      "INFO - (NP.df_utils._infer_frequency) - Major frequency H corresponds to 99.991% of the data.\n",
      "INFO - (NP.df_utils._infer_frequency) - Dataframe freq automatically defined as H\n",
      "INFO - (NP.config.init_data_params) - Setting normalization to global as only one dataframe provided for training.\n",
      "INFO - (NP.utils.set_auto_seasonalities) - Disabling yearly seasonality. Run NeuralProphet with yearly_seasonality=True to override this.\n",
      "INFO - (NP.config.set_auto_batch_epoch) - Auto-set batch_size to 64\n",
      "INFO - (NP.config.set_auto_batch_epoch) - Auto-set epochs to 99\n",
      "WARNING - (NP.config.set_lr_finder_args) - Learning rate finder: The number of batches (183) is too small than the required number for the learning rate finder (251). The results might not be optimal.\n"
     ]
    },
    {
     "data": {
      "application/vnd.jupyter.widget-view+json": {
       "model_id": "ea255ae6df2b4ea680bcb61adfceb935",
       "version_major": 2,
       "version_minor": 0
      },
      "text/plain": [
       "Finding best initial lr:   0%|          | 0/251 [00:00<?, ?it/s]"
      ]
     },
     "metadata": {},
     "output_type": "display_data"
    },
    {
     "data": {
      "application/vnd.jupyter.widget-view+json": {
       "model_id": "2c1de08688a442b7b3afb8879d8f4466",
       "version_major": 2,
       "version_minor": 0
      },
      "text/plain": [
       "Training: 0it [00:00, ?it/s]"
      ]
     },
     "metadata": {},
     "output_type": "display_data"
    }
   ],
   "source": [
    "\n",
    "m_ot = NeuralProphet(n_lags=24)\n",
    "metrics = m_ot.fit(df_train_ot, freq='auto')\n"
   ]
  },
  {
   "cell_type": "code",
   "execution_count": 210,
   "metadata": {},
   "outputs": [
    {
     "name": "stderr",
     "output_type": "stream",
     "text": [
      "INFO - (NP.df_utils._infer_frequency) - Major frequency H corresponds to 99.983% of the data.\n",
      "INFO - (NP.df_utils._infer_frequency) - Defined frequency is equal to major frequency - H\n",
      "INFO - (NP.df_utils.return_df_in_original_format) - Returning df with no ID column\n",
      "INFO - (NP.df_utils._infer_frequency) - Major frequency H corresponds to 99.983% of the data.\n",
      "INFO - (NP.df_utils._infer_frequency) - Defined frequency is equal to major frequency - H\n",
      "INFO - (NP.df_utils._infer_frequency) - Major frequency H corresponds to 99.983% of the data.\n",
      "INFO - (NP.df_utils._infer_frequency) - Defined frequency is equal to major frequency - H\n"
     ]
    },
    {
     "data": {
      "application/vnd.jupyter.widget-view+json": {
       "model_id": "7e6692bf500c483b982fda8bae3b4372",
       "version_major": 2,
       "version_minor": 0
      },
      "text/plain": [
       "Predicting: 183it [00:00, ?it/s]"
      ]
     },
     "metadata": {},
     "output_type": "display_data"
    },
    {
     "name": "stderr",
     "output_type": "stream",
     "text": [
      "INFO - (NP.df_utils.return_df_in_original_format) - Returning df with no ID column\n"
     ]
    },
    {
     "data": {
      "text/plain": [
       "0.6504890171867804"
      ]
     },
     "execution_count": 210,
     "metadata": {},
     "output_type": "execute_result"
    }
   ],
   "source": [
    "future = m_ot.make_future_dataframe(df_test_ot, n_historic_predictions=True)\n",
    "forecast = m_ot.predict(future)\n",
    "#forecast_=forecast[(forecast.ID==\"OT\")].dropna()\n",
    "MSE(forecast_.y.to_numpy(), forecast_.yhat1.to_numpy())"
   ]
  },
  {
   "cell_type": "markdown",
   "metadata": {},
   "source": [
    "## Case 5: use data for 2 transformer (only OT as time series) \n",
    "### prepare dataset for multiple transformers \n"
   ]
  },
  {
   "cell_type": "code",
   "execution_count": 285,
   "metadata": {},
   "outputs": [
    {
     "data": {
      "text/html": [
       "<div>\n",
       "<style scoped>\n",
       "    .dataframe tbody tr th:only-of-type {\n",
       "        vertical-align: middle;\n",
       "    }\n",
       "\n",
       "    .dataframe tbody tr th {\n",
       "        vertical-align: top;\n",
       "    }\n",
       "\n",
       "    .dataframe thead th {\n",
       "        text-align: right;\n",
       "    }\n",
       "</style>\n",
       "<table border=\"1\" class=\"dataframe\">\n",
       "  <thead>\n",
       "    <tr style=\"text-align: right;\">\n",
       "      <th></th>\n",
       "      <th>ds</th>\n",
       "      <th>y</th>\n",
       "      <th>ID</th>\n",
       "    </tr>\n",
       "  </thead>\n",
       "  <tbody>\n",
       "    <tr>\n",
       "      <th>0</th>\n",
       "      <td>2016-07-01 00:00:00</td>\n",
       "      <td>30.531000</td>\n",
       "      <td>T1</td>\n",
       "    </tr>\n",
       "    <tr>\n",
       "      <th>1</th>\n",
       "      <td>2016-07-01 01:00:00</td>\n",
       "      <td>27.787001</td>\n",
       "      <td>T1</td>\n",
       "    </tr>\n",
       "    <tr>\n",
       "      <th>2</th>\n",
       "      <td>2016-07-01 02:00:00</td>\n",
       "      <td>27.787001</td>\n",
       "      <td>T1</td>\n",
       "    </tr>\n",
       "    <tr>\n",
       "      <th>3</th>\n",
       "      <td>2016-07-01 03:00:00</td>\n",
       "      <td>25.044001</td>\n",
       "      <td>T1</td>\n",
       "    </tr>\n",
       "    <tr>\n",
       "      <th>4</th>\n",
       "      <td>2016-07-01 04:00:00</td>\n",
       "      <td>21.948000</td>\n",
       "      <td>T1</td>\n",
       "    </tr>\n",
       "  </tbody>\n",
       "</table>\n",
       "</div>"
      ],
      "text/plain": [
       "                    ds          y  ID\n",
       "0  2016-07-01 00:00:00  30.531000  T1\n",
       "1  2016-07-01 01:00:00  27.787001  T1\n",
       "2  2016-07-01 02:00:00  27.787001  T1\n",
       "3  2016-07-01 03:00:00  25.044001  T1\n",
       "4  2016-07-01 04:00:00  21.948000  T1"
      ]
     },
     "execution_count": 285,
     "metadata": {},
     "output_type": "execute_result"
    }
   ],
   "source": [
    "df_all = pd.DataFrame()\n",
    "df_ercot[\"ID\"] = \"T1\"\n",
    "df_ercot_2[\"ID\"] = \"T2\"\n",
    "df_all = pd.concat((df_all, df_ercot))\n",
    "df_all = pd.concat((df_all, df_ercot_2))\n",
    "df_all.head()\n"
   ]
  },
  {
   "cell_type": "code",
   "execution_count": 299,
   "metadata": {},
   "outputs": [
    {
     "data": {
      "text/plain": [
       "((34840, 3), (17420, 3), (17420, 3))"
      ]
     },
     "execution_count": 299,
     "metadata": {},
     "output_type": "execute_result"
    }
   ],
   "source": [
    "df_all.shape, df_ercot.shape, df_ercot_2.shape"
   ]
  },
  {
   "cell_type": "code",
   "execution_count": 300,
   "metadata": {},
   "outputs": [
    {
     "name": "stderr",
     "output_type": "stream",
     "text": [
      "INFO - (NP.df_utils._infer_frequency) - Major frequency H corresponds to 99.994% of the data.\n",
      "INFO - (NP.df_utils._infer_frequency) - Dataframe freq automatically defined as H\n",
      "INFO - (NP.df_utils._infer_frequency) - Major frequency H corresponds to 99.994% of the data.\n",
      "INFO - (NP.df_utils._infer_frequency) - Dataframe freq automatically defined as H\n"
     ]
    }
   ],
   "source": [
    "m_2t = NeuralProphet(trend_global_local=\"global\", season_global_local=\"global\", n_lags=24)\n",
    "df_train_2t, df_test_2t = m_2t.split_df(df_all, valid_p=0.33, local_split=True)"
   ]
  },
  {
   "cell_type": "code",
   "execution_count": 301,
   "metadata": {},
   "outputs": [
    {
     "name": "stderr",
     "output_type": "stream",
     "text": [
      "WARNING - (NP.forecaster.fit) - When Global modeling with local normalization, metrics are displayed in normalized scale.\n",
      "INFO - (NP.df_utils._infer_frequency) - Major frequency H corresponds to 99.991% of the data.\n",
      "INFO - (NP.df_utils._infer_frequency) - Dataframe freq automatically defined as H\n",
      "INFO - (NP.df_utils._infer_frequency) - Major frequency H corresponds to 99.991% of the data.\n",
      "INFO - (NP.df_utils._infer_frequency) - Dataframe freq automatically defined as H\n",
      "INFO - (NP.utils.set_auto_seasonalities) - Disabling yearly seasonality. Run NeuralProphet with yearly_seasonality=True to override this.\n",
      "INFO - (NP.config.set_auto_batch_epoch) - Auto-set batch_size to 64\n",
      "INFO - (NP.config.set_auto_batch_epoch) - Auto-set epochs to 83\n"
     ]
    },
    {
     "data": {
      "application/vnd.jupyter.widget-view+json": {
       "model_id": "6209e39dd00a4a3280a74401e87ea5c1",
       "version_major": 2,
       "version_minor": 0
      },
      "text/plain": [
       "Finding best initial lr:   0%|          | 0/259 [00:00<?, ?it/s]"
      ]
     },
     "metadata": {},
     "output_type": "display_data"
    },
    {
     "data": {
      "application/vnd.jupyter.widget-view+json": {
       "model_id": "6fc500379c924dbbb6b942c7a3d5d646",
       "version_major": 2,
       "version_minor": 0
      },
      "text/plain": [
       "Training: 0it [00:00, ?it/s]"
      ]
     },
     "metadata": {},
     "output_type": "display_data"
    },
    {
     "name": "stderr",
     "output_type": "stream",
     "text": [
      "INFO - (NP.df_utils._infer_frequency) - Major frequency H corresponds to 99.983% of the data.\n",
      "INFO - (NP.df_utils._infer_frequency) - Defined frequency is equal to major frequency - H\n",
      "INFO - (NP.df_utils._infer_frequency) - Major frequency H corresponds to 99.983% of the data.\n",
      "INFO - (NP.df_utils._infer_frequency) - Defined frequency is equal to major frequency - H\n",
      "INFO - (NP.df_utils._infer_frequency) - Major frequency H corresponds to 99.983% of the data.\n",
      "INFO - (NP.df_utils._infer_frequency) - Defined frequency is equal to major frequency - H\n",
      "INFO - (NP.df_utils._infer_frequency) - Major frequency H corresponds to 99.983% of the data.\n",
      "INFO - (NP.df_utils._infer_frequency) - Defined frequency is equal to major frequency - H\n",
      "INFO - (NP.df_utils._infer_frequency) - Major frequency H corresponds to 99.983% of the data.\n",
      "INFO - (NP.df_utils._infer_frequency) - Defined frequency is equal to major frequency - H\n",
      "INFO - (NP.df_utils._infer_frequency) - Major frequency H corresponds to 99.983% of the data.\n",
      "INFO - (NP.df_utils._infer_frequency) - Defined frequency is equal to major frequency - H\n"
     ]
    },
    {
     "data": {
      "application/vnd.jupyter.widget-view+json": {
       "model_id": "942efdf1a3af4aff89b8dee25760c4a6",
       "version_major": 2,
       "version_minor": 0
      },
      "text/plain": [
       "Predicting: 365it [00:00, ?it/s]"
      ]
     },
     "metadata": {},
     "output_type": "display_data"
    },
    {
     "data": {
      "application/vnd.jupyter.widget-view+json": {
       "model_id": "e58a7f6fe60b455c9125ac3174a48a5f",
       "version_major": 2,
       "version_minor": 0
      },
      "text/plain": [
       "Predicting: 365it [00:00, ?it/s]"
      ]
     },
     "metadata": {},
     "output_type": "display_data"
    },
    {
     "data": {
      "text/plain": [
       "(0.5483378128022945, 0.432393229963199, 0.66428239564139)"
      ]
     },
     "execution_count": 301,
     "metadata": {},
     "output_type": "execute_result"
    }
   ],
   "source": [
    "metrics = m_2t.fit(df_train_2t, freq='auto')\n",
    "future_2t = m_2t.make_future_dataframe(df_test_2t, n_historic_predictions=True)\n",
    "forecast = m_2t.predict(future_2t)\n",
    "forecast_t1 = forecast[(forecast.ID==\"T1\")].dropna()\n",
    "forecast_t2 = forecast[(forecast.ID==\"T2\")].dropna()\n",
    "forecast_ = forecast.dropna()\n",
    "MSE(forecast_.y.to_numpy(), forecast_.yhat1.to_numpy()), MSE(forecast_t1.y.to_numpy(), forecast_t1.yhat1.to_numpy()) , MSE(forecast_t2.y.to_numpy(), forecast_t2.yhat1.to_numpy())\n"
   ]
  },
  {
   "cell_type": "markdown",
   "metadata": {},
   "source": [
    "### Case 6: using load as external variables "
   ]
  },
  {
   "cell_type": "code",
   "execution_count": 315,
   "metadata": {},
   "outputs": [],
   "source": [
    "def preparedatacase6(df1, df2):\n",
    "    df = pd.DataFrame()\n",
    "    \n",
    "    df1[\"ID\"] = \"T1\"\n",
    "    df2[\"ID\"] = \"T2\"\n",
    "    df = pd.concat((df, df1))\n",
    "    df = pd.concat((df, df2))\n",
    "    df.head()\n",
    "    return df\n",
    "\n"
   ]
  },
  {
   "cell_type": "code",
   "execution_count": 323,
   "metadata": {},
   "outputs": [
    {
     "data": {
      "text/html": [
       "<div>\n",
       "<style scoped>\n",
       "    .dataframe tbody tr th:only-of-type {\n",
       "        vertical-align: middle;\n",
       "    }\n",
       "\n",
       "    .dataframe tbody tr th {\n",
       "        vertical-align: top;\n",
       "    }\n",
       "\n",
       "    .dataframe thead th {\n",
       "        text-align: right;\n",
       "    }\n",
       "</style>\n",
       "<table border=\"1\" class=\"dataframe\">\n",
       "  <thead>\n",
       "    <tr style=\"text-align: right;\">\n",
       "      <th></th>\n",
       "      <th>ds</th>\n",
       "      <th>HUFL</th>\n",
       "      <th>HULL</th>\n",
       "      <th>MUFL</th>\n",
       "      <th>MULL</th>\n",
       "      <th>LUFL</th>\n",
       "      <th>LULL</th>\n",
       "      <th>y</th>\n",
       "      <th>ID</th>\n",
       "    </tr>\n",
       "  </thead>\n",
       "  <tbody>\n",
       "    <tr>\n",
       "      <th>0</th>\n",
       "      <td>2016-07-01 00:00:00</td>\n",
       "      <td>5.827000</td>\n",
       "      <td>2.009</td>\n",
       "      <td>1.599000</td>\n",
       "      <td>0.462</td>\n",
       "      <td>4.203</td>\n",
       "      <td>1.340</td>\n",
       "      <td>30.531000</td>\n",
       "      <td>T1</td>\n",
       "    </tr>\n",
       "    <tr>\n",
       "      <th>1</th>\n",
       "      <td>2016-07-01 01:00:00</td>\n",
       "      <td>5.693000</td>\n",
       "      <td>2.076</td>\n",
       "      <td>1.492000</td>\n",
       "      <td>0.426</td>\n",
       "      <td>4.142</td>\n",
       "      <td>1.371</td>\n",
       "      <td>27.787001</td>\n",
       "      <td>T1</td>\n",
       "    </tr>\n",
       "    <tr>\n",
       "      <th>2</th>\n",
       "      <td>2016-07-01 02:00:00</td>\n",
       "      <td>5.157000</td>\n",
       "      <td>1.741</td>\n",
       "      <td>1.279000</td>\n",
       "      <td>0.355</td>\n",
       "      <td>3.777</td>\n",
       "      <td>1.218</td>\n",
       "      <td>27.787001</td>\n",
       "      <td>T1</td>\n",
       "    </tr>\n",
       "    <tr>\n",
       "      <th>3</th>\n",
       "      <td>2016-07-01 03:00:00</td>\n",
       "      <td>5.090000</td>\n",
       "      <td>1.942</td>\n",
       "      <td>1.279000</td>\n",
       "      <td>0.391</td>\n",
       "      <td>3.807</td>\n",
       "      <td>1.279</td>\n",
       "      <td>25.044001</td>\n",
       "      <td>T1</td>\n",
       "    </tr>\n",
       "    <tr>\n",
       "      <th>4</th>\n",
       "      <td>2016-07-01 04:00:00</td>\n",
       "      <td>5.358000</td>\n",
       "      <td>1.942</td>\n",
       "      <td>1.492000</td>\n",
       "      <td>0.462</td>\n",
       "      <td>3.868</td>\n",
       "      <td>1.279</td>\n",
       "      <td>21.948000</td>\n",
       "      <td>T1</td>\n",
       "    </tr>\n",
       "    <tr>\n",
       "      <th>...</th>\n",
       "      <td>...</td>\n",
       "      <td>...</td>\n",
       "      <td>...</td>\n",
       "      <td>...</td>\n",
       "      <td>...</td>\n",
       "      <td>...</td>\n",
       "      <td>...</td>\n",
       "      <td>...</td>\n",
       "      <td>...</td>\n",
       "    </tr>\n",
       "    <tr>\n",
       "      <th>17415</th>\n",
       "      <td>2018-06-26 15:00:00</td>\n",
       "      <td>39.202999</td>\n",
       "      <td>11.392</td>\n",
       "      <td>49.644001</td>\n",
       "      <td>11.929</td>\n",
       "      <td>-10.331</td>\n",
       "      <td>-1.258</td>\n",
       "      <td>47.084999</td>\n",
       "      <td>T2</td>\n",
       "    </tr>\n",
       "    <tr>\n",
       "      <th>17416</th>\n",
       "      <td>2018-06-26 16:00:00</td>\n",
       "      <td>38.113998</td>\n",
       "      <td>10.974</td>\n",
       "      <td>48.759998</td>\n",
       "      <td>11.366</td>\n",
       "      <td>-10.331</td>\n",
       "      <td>-1.290</td>\n",
       "      <td>48.183498</td>\n",
       "      <td>T2</td>\n",
       "    </tr>\n",
       "    <tr>\n",
       "      <th>17417</th>\n",
       "      <td>2018-06-26 17:00:00</td>\n",
       "      <td>39.622002</td>\n",
       "      <td>10.974</td>\n",
       "      <td>50.609001</td>\n",
       "      <td>11.661</td>\n",
       "      <td>-11.557</td>\n",
       "      <td>-1.418</td>\n",
       "      <td>48.183498</td>\n",
       "      <td>T2</td>\n",
       "    </tr>\n",
       "    <tr>\n",
       "      <th>17418</th>\n",
       "      <td>2018-06-26 18:00:00</td>\n",
       "      <td>43.643002</td>\n",
       "      <td>13.403</td>\n",
       "      <td>54.737000</td>\n",
       "      <td>13.778</td>\n",
       "      <td>-10.299</td>\n",
       "      <td>-1.418</td>\n",
       "      <td>46.865501</td>\n",
       "      <td>T2</td>\n",
       "    </tr>\n",
       "    <tr>\n",
       "      <th>17419</th>\n",
       "      <td>2018-06-26 19:00:00</td>\n",
       "      <td>38.868000</td>\n",
       "      <td>10.052</td>\n",
       "      <td>49.859001</td>\n",
       "      <td>10.669</td>\n",
       "      <td>-11.525</td>\n",
       "      <td>-1.418</td>\n",
       "      <td>45.986500</td>\n",
       "      <td>T2</td>\n",
       "    </tr>\n",
       "  </tbody>\n",
       "</table>\n",
       "<p>34840 rows × 9 columns</p>\n",
       "</div>"
      ],
      "text/plain": [
       "                        ds       HUFL    HULL       MUFL    MULL    LUFL  \\\n",
       "0      2016-07-01 00:00:00   5.827000   2.009   1.599000   0.462   4.203   \n",
       "1      2016-07-01 01:00:00   5.693000   2.076   1.492000   0.426   4.142   \n",
       "2      2016-07-01 02:00:00   5.157000   1.741   1.279000   0.355   3.777   \n",
       "3      2016-07-01 03:00:00   5.090000   1.942   1.279000   0.391   3.807   \n",
       "4      2016-07-01 04:00:00   5.358000   1.942   1.492000   0.462   3.868   \n",
       "...                    ...        ...     ...        ...     ...     ...   \n",
       "17415  2018-06-26 15:00:00  39.202999  11.392  49.644001  11.929 -10.331   \n",
       "17416  2018-06-26 16:00:00  38.113998  10.974  48.759998  11.366 -10.331   \n",
       "17417  2018-06-26 17:00:00  39.622002  10.974  50.609001  11.661 -11.557   \n",
       "17418  2018-06-26 18:00:00  43.643002  13.403  54.737000  13.778 -10.299   \n",
       "17419  2018-06-26 19:00:00  38.868000  10.052  49.859001  10.669 -11.525   \n",
       "\n",
       "        LULL          y  ID  \n",
       "0      1.340  30.531000  T1  \n",
       "1      1.371  27.787001  T1  \n",
       "2      1.218  27.787001  T1  \n",
       "3      1.279  25.044001  T1  \n",
       "4      1.279  21.948000  T1  \n",
       "...      ...        ...  ..  \n",
       "17415 -1.258  47.084999  T2  \n",
       "17416 -1.290  48.183498  T2  \n",
       "17417 -1.418  48.183498  T2  \n",
       "17418 -1.418  46.865501  T2  \n",
       "17419 -1.418  45.986500  T2  \n",
       "\n",
       "[34840 rows x 9 columns]"
      ]
     },
     "execution_count": 323,
     "metadata": {},
     "output_type": "execute_result"
    }
   ],
   "source": [
    "df_ercot = pd.read_csv('ETTh1.csv' )\n",
    "df_ercot_2 = pd.read_csv('ETTh2.csv')\n",
    "df = preparedatacase6(df_ercot,df_ercot_2 )\n",
    "df.rename({\"date\":\"ds\", \"OT\":\"y\"},\n",
    "                 inplace=True,\n",
    "                axis=1)\n",
    "df\n",
    "\n"
   ]
  },
  {
   "cell_type": "code",
   "execution_count": 330,
   "metadata": {},
   "outputs": [
    {
     "name": "stderr",
     "output_type": "stream",
     "text": [
      "INFO - (NP.df_utils._infer_frequency) - Major frequency H corresponds to 99.994% of the data.\n",
      "INFO - (NP.df_utils._infer_frequency) - Dataframe freq automatically defined as H\n",
      "INFO - (NP.df_utils._infer_frequency) - Major frequency H corresponds to 99.994% of the data.\n",
      "INFO - (NP.df_utils._infer_frequency) - Dataframe freq automatically defined as H\n"
     ]
    }
   ],
   "source": [
    "m_2t_lr = NeuralProphet(trend_global_local=\"global\", season_global_local=\"global\", n_lags=24)\n",
    "## 2 time series with lagged regressors \n",
    "df_train_2t_lr, df_test_2t_lr = m_2t_lr.split_df(df, valid_p=0.33, local_split=True)\n"
   ]
  },
  {
   "cell_type": "code",
   "execution_count": 331,
   "metadata": {},
   "outputs": [
    {
     "name": "stderr",
     "output_type": "stream",
     "text": [
      "INFO - (NP.forecaster.add_lagged_regressor) - n_lags = 'auto', number of lags for regressor is set to Autoregression number of lags (24)\n"
     ]
    }
   ],
   "source": [
    "m_2t_lr = m_2t_lr.add_lagged_regressor(names=['HUFL', 'HULL', 'MUFL', 'MULL', 'LUFL', 'LULL'])\n"
   ]
  },
  {
   "cell_type": "code",
   "execution_count": 332,
   "metadata": {},
   "outputs": [
    {
     "name": "stderr",
     "output_type": "stream",
     "text": [
      "WARNING - (NP.forecaster.fit) - When Global modeling with local normalization, metrics are displayed in normalized scale.\n",
      "INFO - (NP.df_utils._infer_frequency) - Major frequency H corresponds to 99.991% of the data.\n",
      "INFO - (NP.df_utils._infer_frequency) - Dataframe freq automatically defined as H\n",
      "INFO - (NP.df_utils._infer_frequency) - Major frequency H corresponds to 99.991% of the data.\n",
      "INFO - (NP.df_utils._infer_frequency) - Dataframe freq automatically defined as H\n",
      "INFO - (NP.utils.set_auto_seasonalities) - Disabling yearly seasonality. Run NeuralProphet with yearly_seasonality=True to override this.\n",
      "INFO - (NP.config.set_auto_batch_epoch) - Auto-set batch_size to 64\n",
      "INFO - (NP.config.set_auto_batch_epoch) - Auto-set epochs to 83\n"
     ]
    },
    {
     "data": {
      "application/vnd.jupyter.widget-view+json": {
       "model_id": "f1cf6a04cf564f628786c20d0477e60c",
       "version_major": 2,
       "version_minor": 0
      },
      "text/plain": [
       "Finding best initial lr:   0%|          | 0/259 [00:00<?, ?it/s]"
      ]
     },
     "metadata": {},
     "output_type": "display_data"
    },
    {
     "data": {
      "application/vnd.jupyter.widget-view+json": {
       "model_id": "e617709677ce499eaecfac933ec697b0",
       "version_major": 2,
       "version_minor": 0
      },
      "text/plain": [
       "Training: 0it [00:00, ?it/s]"
      ]
     },
     "metadata": {},
     "output_type": "display_data"
    }
   ],
   "source": [
    "metrics = m_2t_lr.fit(df_train_2t_lr, freq='auto')\n"
   ]
  },
  {
   "cell_type": "code",
   "execution_count": 338,
   "metadata": {},
   "outputs": [
    {
     "name": "stderr",
     "output_type": "stream",
     "text": [
      "INFO - (NP.df_utils._infer_frequency) - Major frequency H corresponds to 99.983% of the data.\n",
      "INFO - (NP.df_utils._infer_frequency) - Defined frequency is equal to major frequency - H\n",
      "INFO - (NP.df_utils._infer_frequency) - Major frequency H corresponds to 99.983% of the data.\n",
      "INFO - (NP.df_utils._infer_frequency) - Defined frequency is equal to major frequency - H\n",
      "INFO - (NP.df_utils._infer_frequency) - Major frequency H corresponds to 99.983% of the data.\n",
      "INFO - (NP.df_utils._infer_frequency) - Defined frequency is equal to major frequency - H\n",
      "INFO - (NP.df_utils._infer_frequency) - Major frequency H corresponds to 99.983% of the data.\n",
      "INFO - (NP.df_utils._infer_frequency) - Defined frequency is equal to major frequency - H\n",
      "INFO - (NP.df_utils._infer_frequency) - Major frequency H corresponds to 99.983% of the data.\n",
      "INFO - (NP.df_utils._infer_frequency) - Defined frequency is equal to major frequency - H\n",
      "INFO - (NP.df_utils._infer_frequency) - Major frequency H corresponds to 99.983% of the data.\n",
      "INFO - (NP.df_utils._infer_frequency) - Defined frequency is equal to major frequency - H\n"
     ]
    },
    {
     "data": {
      "application/vnd.jupyter.widget-view+json": {
       "model_id": "1ab1e18460b7416b92c1842f382f29df",
       "version_major": 2,
       "version_minor": 0
      },
      "text/plain": [
       "Predicting: 365it [00:00, ?it/s]"
      ]
     },
     "metadata": {},
     "output_type": "display_data"
    },
    {
     "data": {
      "application/vnd.jupyter.widget-view+json": {
       "model_id": "eb195c93c4704196b7f3616ee6ae0da4",
       "version_major": 2,
       "version_minor": 0
      },
      "text/plain": [
       "Predicting: 365it [00:00, ?it/s]"
      ]
     },
     "metadata": {},
     "output_type": "display_data"
    },
    {
     "data": {
      "text/plain": [
       "(0.5902030679224387, 0.463149829961892, 0.7172563058829855)"
      ]
     },
     "execution_count": 338,
     "metadata": {},
     "output_type": "execute_result"
    }
   ],
   "source": [
    "future_2t_lr = m_2t_lr.make_future_dataframe(df_test_2t_lr, n_historic_predictions=True)\n",
    "forecast = m_2t_lr.predict(future_2t_lr)\n",
    "forecast_t1 = forecast[(forecast.ID==\"T1\")].dropna()\n",
    "forecast_t2 = forecast[(forecast.ID==\"T2\")].dropna()\n",
    "forecast_ = forecast.dropna()\n",
    "MSE(forecast_.y.to_numpy(), forecast_.yhat1.to_numpy()), MSE(forecast_t1.y.to_numpy(), forecast_t1.yhat1.to_numpy()) , MSE(forecast_t2.y.to_numpy(), forecast_t2.yhat1.to_numpy())\n",
    "\n"
   ]
  },
  {
   "cell_type": "markdown",
   "metadata": {},
   "source": [
    "## Result \n",
    "| Case #| Case | MSE |  Commment|\n",
    "|----|--|-----|---------|\n",
    "|**NeuralProphet based**|\n",
    "| 1.| Global trend & Global seasonal | 0.661704 |  |\n",
    "| 2.| local trend & Global seasonal | 0.799272 | recomended to keep same type for trend and seasonal  |\n",
    "| 3.| local trend & local seasonal | 0.650489| Not much difference w.r.t case 1 |\n",
    "| 4.| without using Load features, line univariate TS | 0.650489  |Expected, if AR is not in the picture, but AR is activated, so these two should ideally be different  |\n",
    "| 5.| add all transformers, Multivariate TS |0.55468 | using both transformer to MSE calculation, individual MSE: 0.438, 0.670| \n",
    "| 6.| using load features as external variables | 0.59020  | individual MSE: 0.463149, 0.717256 | \n",
    "|**Vector Auto Regression**|\n",
    "| 7.1| Vector Auto Regression (VAR) default dataset | 243 | Forecasted all the TS but MSE calculated using OT only   |  \n",
    "| 7.2| Vector Auto Regression (VAR) with  d =1  | 1.7 | Forecasted all the TS but MSE calculated using OT only   | \n",
    "| 7.3| Vector Auto Regression (VAR) with  d =2  | 1.16 | VAR, require pre-processing   |\n",
    "| 7.4| Vector Auto Regression (VAR) with  d =3  | 2.60 | VAR, require pre-processing   |\n",
    "| 7.5| VAR for two transformers, with d = 2,lag=24 (as in NP)  | (0.8316063751104331, 0.62725996261246) | works better when using only OT as input, Load variable are dropped. slighly poor than Neural prophet, not very difficult to use. | \n",
    "| 7.6| VAR for two transformers, with d = 2, lag = 168 (as in other VAR cases)  | (0.8298342386285907, 0.5931356355054012) | works better when using only OT as input, Load variable are dropped. slighly poor than Neural prophet, not very difficult to use. | \n",
    "| **ARIMA** | \n",
    "| 8.| Auto ARIMA  | N/A ; very poor for univariate| only for univariate TS, computing instensive and super slow on first go. |  \n",
    "|**Vanilla models**|\n",
    "| 9.| Vanilla Transformer Model  |   |  Driven by Student's implementation  | \n",
    "| 10.| Vanilla LSTM Model |   | Driven by Student's implementation | \n",
    "|**Linear/DLinear variants** |\n",
    "| 11.| DLinear | | Stuck at conda instlation and python version issues. |\n",
    "|**Transformer variants**|\n",
    "| 12.| FedFormer Model (?)  |   | Driven by 11  | \n",
    "| 13.| AutoFormer Model (?)  |   | Driven by 11  | \n",
    "| 14.| Informer Model (?)  |   | Driven by 11  | \n",
    "| 15.| PyraFormer Model (?)  |   | Driven by 11  | \n",
    "| 16.| LogTrans Model (?)  |   | Driven by 11  | \n",
    "| 17.| Repeat Model (?)  |   | Driven by 11  | \n",
    "\n",
    "\n",
    "\n"
   ]
  },
  {
   "cell_type": "markdown",
   "metadata": {},
   "source": [
    "#### To do next: \n",
    "0. Try VAR using higher value of d, and also try to do it using only OT (for two ETTs). \n",
    "1. Add all Transformer variant models \n",
    "2. Make DLinear work \n",
    "3. Identify more datasets, variety in dataset is needed \n",
    "4. Find the talk video and read that paper as well. \n",
    "5. Read more about informer and DLinear models. "
   ]
  },
  {
   "cell_type": "code",
   "execution_count": null,
   "metadata": {},
   "outputs": [],
   "source": []
  },
  {
   "cell_type": "code",
   "execution_count": null,
   "metadata": {},
   "outputs": [],
   "source": []
  },
  {
   "cell_type": "code",
   "execution_count": null,
   "metadata": {},
   "outputs": [],
   "source": []
  },
  {
   "cell_type": "code",
   "execution_count": null,
   "metadata": {},
   "outputs": [],
   "source": []
  },
  {
   "cell_type": "code",
   "execution_count": null,
   "metadata": {},
   "outputs": [],
   "source": []
  },
  {
   "cell_type": "code",
   "execution_count": null,
   "metadata": {},
   "outputs": [],
   "source": []
  }
 ],
 "metadata": {
  "kernelspec": {
   "display_name": "Python 3 (ipykernel)",
   "language": "python",
   "name": "python3"
  },
  "language_info": {
   "codemirror_mode": {
    "name": "ipython",
    "version": 3
   },
   "file_extension": ".py",
   "mimetype": "text/x-python",
   "name": "python",
   "nbconvert_exporter": "python",
   "pygments_lexer": "ipython3",
   "version": "3.9.13"
  }
 },
 "nbformat": 4,
 "nbformat_minor": 4
}
