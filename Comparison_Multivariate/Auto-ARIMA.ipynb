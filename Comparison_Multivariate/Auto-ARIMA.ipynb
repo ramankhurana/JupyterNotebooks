{
 "cells": [
  {
   "cell_type": "code",
   "execution_count": 1,
   "id": "1ccf7b2d",
   "metadata": {},
   "outputs": [],
   "source": [
    "import pandas as pd\n",
    "import numpy as np\n",
    "import matplotlib.pyplot as plt\n",
    "import pmdarima as pm"
   ]
  },
  {
   "cell_type": "code",
   "execution_count": 2,
   "id": "f926e671",
   "metadata": {},
   "outputs": [
    {
     "name": "stdout",
     "output_type": "stream",
     "text": [
      "Auto-ARIMA.ipynb                     VAR.ipynb\r\n",
      "ETTh1.csv                            etth1-forecastingneuralprophet.ipynb\r\n",
      "ETTh2.csv                            \u001b[34mlightning_logs\u001b[m\u001b[m\r\n"
     ]
    }
   ],
   "source": [
    "!ls"
   ]
  },
  {
   "cell_type": "code",
   "execution_count": 3,
   "id": "3560e64e",
   "metadata": {},
   "outputs": [],
   "source": [
    "mdata = pd.read_csv('ETTh2.csv')\n",
    "mdata.set_index('date', inplace = True)"
   ]
  },
  {
   "cell_type": "code",
   "execution_count": 4,
   "id": "d5edc024",
   "metadata": {},
   "outputs": [
    {
     "data": {
      "text/html": [
       "<div>\n",
       "<style scoped>\n",
       "    .dataframe tbody tr th:only-of-type {\n",
       "        vertical-align: middle;\n",
       "    }\n",
       "\n",
       "    .dataframe tbody tr th {\n",
       "        vertical-align: top;\n",
       "    }\n",
       "\n",
       "    .dataframe thead th {\n",
       "        text-align: right;\n",
       "    }\n",
       "</style>\n",
       "<table border=\"1\" class=\"dataframe\">\n",
       "  <thead>\n",
       "    <tr style=\"text-align: right;\">\n",
       "      <th></th>\n",
       "      <th>HUFL</th>\n",
       "      <th>HULL</th>\n",
       "      <th>MUFL</th>\n",
       "      <th>MULL</th>\n",
       "      <th>LUFL</th>\n",
       "      <th>LULL</th>\n",
       "      <th>OT</th>\n",
       "    </tr>\n",
       "    <tr>\n",
       "      <th>date</th>\n",
       "      <th></th>\n",
       "      <th></th>\n",
       "      <th></th>\n",
       "      <th></th>\n",
       "      <th></th>\n",
       "      <th></th>\n",
       "      <th></th>\n",
       "    </tr>\n",
       "  </thead>\n",
       "  <tbody>\n",
       "    <tr>\n",
       "      <th>2016-07-01 00:00:00</th>\n",
       "      <td>41.130001</td>\n",
       "      <td>12.481</td>\n",
       "      <td>36.535999</td>\n",
       "      <td>9.355</td>\n",
       "      <td>4.424</td>\n",
       "      <td>1.311</td>\n",
       "      <td>38.661999</td>\n",
       "    </tr>\n",
       "    <tr>\n",
       "      <th>2016-07-01 01:00:00</th>\n",
       "      <td>37.528000</td>\n",
       "      <td>10.136</td>\n",
       "      <td>33.936001</td>\n",
       "      <td>7.532</td>\n",
       "      <td>4.435</td>\n",
       "      <td>1.215</td>\n",
       "      <td>37.124001</td>\n",
       "    </tr>\n",
       "    <tr>\n",
       "      <th>2016-07-01 02:00:00</th>\n",
       "      <td>37.946999</td>\n",
       "      <td>11.309</td>\n",
       "      <td>35.330002</td>\n",
       "      <td>9.007</td>\n",
       "      <td>2.100</td>\n",
       "      <td>0.000</td>\n",
       "      <td>36.465000</td>\n",
       "    </tr>\n",
       "    <tr>\n",
       "      <th>2016-07-01 03:00:00</th>\n",
       "      <td>38.952000</td>\n",
       "      <td>11.895</td>\n",
       "      <td>35.543999</td>\n",
       "      <td>9.436</td>\n",
       "      <td>3.380</td>\n",
       "      <td>1.215</td>\n",
       "      <td>33.608501</td>\n",
       "    </tr>\n",
       "    <tr>\n",
       "      <th>2016-07-01 04:00:00</th>\n",
       "      <td>38.113998</td>\n",
       "      <td>11.476</td>\n",
       "      <td>35.410000</td>\n",
       "      <td>9.623</td>\n",
       "      <td>2.036</td>\n",
       "      <td>0.000</td>\n",
       "      <td>31.850500</td>\n",
       "    </tr>\n",
       "    <tr>\n",
       "      <th>...</th>\n",
       "      <td>...</td>\n",
       "      <td>...</td>\n",
       "      <td>...</td>\n",
       "      <td>...</td>\n",
       "      <td>...</td>\n",
       "      <td>...</td>\n",
       "      <td>...</td>\n",
       "    </tr>\n",
       "    <tr>\n",
       "      <th>2018-06-26 15:00:00</th>\n",
       "      <td>39.202999</td>\n",
       "      <td>11.392</td>\n",
       "      <td>49.644001</td>\n",
       "      <td>11.929</td>\n",
       "      <td>-10.331</td>\n",
       "      <td>-1.258</td>\n",
       "      <td>47.084999</td>\n",
       "    </tr>\n",
       "    <tr>\n",
       "      <th>2018-06-26 16:00:00</th>\n",
       "      <td>38.113998</td>\n",
       "      <td>10.974</td>\n",
       "      <td>48.759998</td>\n",
       "      <td>11.366</td>\n",
       "      <td>-10.331</td>\n",
       "      <td>-1.290</td>\n",
       "      <td>48.183498</td>\n",
       "    </tr>\n",
       "    <tr>\n",
       "      <th>2018-06-26 17:00:00</th>\n",
       "      <td>39.622002</td>\n",
       "      <td>10.974</td>\n",
       "      <td>50.609001</td>\n",
       "      <td>11.661</td>\n",
       "      <td>-11.557</td>\n",
       "      <td>-1.418</td>\n",
       "      <td>48.183498</td>\n",
       "    </tr>\n",
       "    <tr>\n",
       "      <th>2018-06-26 18:00:00</th>\n",
       "      <td>43.643002</td>\n",
       "      <td>13.403</td>\n",
       "      <td>54.737000</td>\n",
       "      <td>13.778</td>\n",
       "      <td>-10.299</td>\n",
       "      <td>-1.418</td>\n",
       "      <td>46.865501</td>\n",
       "    </tr>\n",
       "    <tr>\n",
       "      <th>2018-06-26 19:00:00</th>\n",
       "      <td>38.868000</td>\n",
       "      <td>10.052</td>\n",
       "      <td>49.859001</td>\n",
       "      <td>10.669</td>\n",
       "      <td>-11.525</td>\n",
       "      <td>-1.418</td>\n",
       "      <td>45.986500</td>\n",
       "    </tr>\n",
       "  </tbody>\n",
       "</table>\n",
       "<p>17420 rows × 7 columns</p>\n",
       "</div>"
      ],
      "text/plain": [
       "                          HUFL    HULL       MUFL    MULL    LUFL   LULL  \\\n",
       "date                                                                       \n",
       "2016-07-01 00:00:00  41.130001  12.481  36.535999   9.355   4.424  1.311   \n",
       "2016-07-01 01:00:00  37.528000  10.136  33.936001   7.532   4.435  1.215   \n",
       "2016-07-01 02:00:00  37.946999  11.309  35.330002   9.007   2.100  0.000   \n",
       "2016-07-01 03:00:00  38.952000  11.895  35.543999   9.436   3.380  1.215   \n",
       "2016-07-01 04:00:00  38.113998  11.476  35.410000   9.623   2.036  0.000   \n",
       "...                        ...     ...        ...     ...     ...    ...   \n",
       "2018-06-26 15:00:00  39.202999  11.392  49.644001  11.929 -10.331 -1.258   \n",
       "2018-06-26 16:00:00  38.113998  10.974  48.759998  11.366 -10.331 -1.290   \n",
       "2018-06-26 17:00:00  39.622002  10.974  50.609001  11.661 -11.557 -1.418   \n",
       "2018-06-26 18:00:00  43.643002  13.403  54.737000  13.778 -10.299 -1.418   \n",
       "2018-06-26 19:00:00  38.868000  10.052  49.859001  10.669 -11.525 -1.418   \n",
       "\n",
       "                            OT  \n",
       "date                            \n",
       "2016-07-01 00:00:00  38.661999  \n",
       "2016-07-01 01:00:00  37.124001  \n",
       "2016-07-01 02:00:00  36.465000  \n",
       "2016-07-01 03:00:00  33.608501  \n",
       "2016-07-01 04:00:00  31.850500  \n",
       "...                        ...  \n",
       "2018-06-26 15:00:00  47.084999  \n",
       "2018-06-26 16:00:00  48.183498  \n",
       "2018-06-26 17:00:00  48.183498  \n",
       "2018-06-26 18:00:00  46.865501  \n",
       "2018-06-26 19:00:00  45.986500  \n",
       "\n",
       "[17420 rows x 7 columns]"
      ]
     },
     "execution_count": 4,
     "metadata": {},
     "output_type": "execute_result"
    }
   ],
   "source": [
    "mdata"
   ]
  },
  {
   "cell_type": "code",
   "execution_count": 7,
   "id": "48ee5b48",
   "metadata": {},
   "outputs": [
    {
     "name": "stdout",
     "output_type": "stream",
     "text": [
      "Performing stepwise search to minimize aic\n",
      " ARIMA(0,0,0)(1,0,1)[12] intercept   : AIC=107332.511, Time=12.87 sec\n",
      " ARIMA(0,0,0)(0,0,0)[12] intercept   : AIC=135687.045, Time=0.15 sec\n",
      " ARIMA(1,0,0)(1,0,0)[12] intercept   : AIC=inf, Time=7.66 sec\n",
      " ARIMA(0,0,1)(0,0,1)[12] intercept   : AIC=106754.142, Time=7.23 sec\n",
      " ARIMA(0,0,0)(0,0,0)[12]             : AIC=166927.158, Time=0.09 sec\n",
      " ARIMA(0,0,1)(0,0,0)[12] intercept   : AIC=112992.083, Time=1.06 sec\n",
      " ARIMA(0,0,1)(1,0,1)[12] intercept   : AIC=86278.179, Time=18.91 sec\n",
      " ARIMA(0,0,1)(1,0,0)[12] intercept   : AIC=94690.300, Time=9.62 sec\n",
      " ARIMA(0,0,1)(2,0,1)[12] intercept   : AIC=78086.178, Time=68.74 sec\n",
      " ARIMA(0,0,1)(2,0,0)[12] intercept   : AIC=79636.767, Time=65.81 sec\n",
      " ARIMA(0,0,1)(2,0,2)[12] intercept   : AIC=inf, Time=76.60 sec\n",
      " ARIMA(0,0,1)(1,0,2)[12] intercept   : AIC=84011.312, Time=66.21 sec\n",
      " ARIMA(0,0,0)(2,0,1)[12] intercept   : AIC=97442.972, Time=53.71 sec\n",
      " ARIMA(1,0,1)(2,0,1)[12] intercept   : AIC=47315.408, Time=65.07 sec\n",
      " ARIMA(1,0,1)(1,0,1)[12] intercept   : AIC=inf, Time=18.91 sec\n",
      " ARIMA(1,0,1)(2,0,0)[12] intercept   : AIC=47060.757, Time=53.06 sec\n",
      " ARIMA(1,0,1)(1,0,0)[12] intercept   : AIC=51299.136, Time=10.85 sec\n",
      " ARIMA(1,0,0)(2,0,0)[12] intercept   : AIC=49840.608, Time=44.08 sec\n",
      " ARIMA(2,0,1)(2,0,0)[12] intercept   : AIC=45239.745, Time=71.83 sec\n",
      " ARIMA(2,0,1)(1,0,0)[12] intercept   : AIC=47305.968, Time=16.74 sec\n",
      " ARIMA(2,0,1)(2,0,1)[12] intercept   : AIC=inf, Time=101.89 sec\n",
      " ARIMA(2,0,1)(1,0,1)[12] intercept   : AIC=inf, Time=20.18 sec\n",
      " ARIMA(2,0,0)(2,0,0)[12] intercept   : AIC=45515.049, Time=53.86 sec\n",
      " ARIMA(3,0,1)(2,0,0)[12] intercept   : AIC=46777.946, Time=97.14 sec\n",
      " ARIMA(2,0,2)(2,0,0)[12] intercept   : AIC=45143.650, Time=79.36 sec\n",
      " ARIMA(2,0,2)(1,0,0)[12] intercept   : AIC=47049.462, Time=20.01 sec\n",
      " ARIMA(2,0,2)(2,0,1)[12] intercept   : AIC=inf, Time=89.24 sec\n",
      " ARIMA(2,0,2)(1,0,1)[12] intercept   : AIC=inf, Time=26.66 sec\n",
      " ARIMA(1,0,2)(2,0,0)[12] intercept   : AIC=45926.834, Time=53.31 sec\n",
      " ARIMA(3,0,2)(2,0,0)[12] intercept   : AIC=47049.924, Time=92.73 sec\n",
      " ARIMA(2,0,3)(2,0,0)[12] intercept   : AIC=45166.227, Time=97.19 sec\n",
      " ARIMA(1,0,3)(2,0,0)[12] intercept   : AIC=45430.612, Time=63.91 sec\n",
      " ARIMA(3,0,3)(2,0,0)[12] intercept   : AIC=47148.469, Time=100.30 sec\n",
      " ARIMA(2,0,2)(2,0,0)[12]             : AIC=45394.825, Time=11.79 sec\n",
      "\n",
      "Best model:  ARIMA(2,0,2)(2,0,0)[12] intercept\n",
      "Total fit time: 1577.007 seconds\n"
     ]
    }
   ],
   "source": [
    "model = pm.auto_arima(mdata['OT'], \n",
    "                        m=12, seasonal=True,\n",
    "                      start_p=0, start_q=0, max_order=4, test='adf',error_action='ignore',  \n",
    "                           suppress_warnings=True,\n",
    "                      stepwise=True, trace=True)"
   ]
  },
  {
   "cell_type": "code",
   "execution_count": 39,
   "id": "75b879ed",
   "metadata": {},
   "outputs": [],
   "source": [
    "train=mdata[(mdata.index<\"2017-12-26 17:00:00\")]\n",
    "test=mdata[(mdata.index>=\"2017-12-26 17:00:00\")]"
   ]
  },
  {
   "cell_type": "code",
   "execution_count": 40,
   "id": "7e637f5f",
   "metadata": {},
   "outputs": [
    {
     "data": {
      "text/plain": [
       "(13049, 7)"
      ]
     },
     "execution_count": 40,
     "metadata": {},
     "output_type": "execute_result"
    }
   ],
   "source": [
    "train.shape\n"
   ]
  },
  {
   "cell_type": "code",
   "execution_count": 41,
   "id": "a34555ed",
   "metadata": {},
   "outputs": [
    {
     "data": {
      "text/plain": [
       "(4371, 7)"
      ]
     },
     "execution_count": 41,
     "metadata": {},
     "output_type": "execute_result"
    }
   ],
   "source": [
    "test.shape"
   ]
  },
  {
   "cell_type": "code",
   "execution_count": 42,
   "id": "52013fd9",
   "metadata": {},
   "outputs": [
    {
     "data": {
      "text/html": [
       "<style>#sk-container-id-2 {color: black;background-color: white;}#sk-container-id-2 pre{padding: 0;}#sk-container-id-2 div.sk-toggleable {background-color: white;}#sk-container-id-2 label.sk-toggleable__label {cursor: pointer;display: block;width: 100%;margin-bottom: 0;padding: 0.3em;box-sizing: border-box;text-align: center;}#sk-container-id-2 label.sk-toggleable__label-arrow:before {content: \"▸\";float: left;margin-right: 0.25em;color: #696969;}#sk-container-id-2 label.sk-toggleable__label-arrow:hover:before {color: black;}#sk-container-id-2 div.sk-estimator:hover label.sk-toggleable__label-arrow:before {color: black;}#sk-container-id-2 div.sk-toggleable__content {max-height: 0;max-width: 0;overflow: hidden;text-align: left;background-color: #f0f8ff;}#sk-container-id-2 div.sk-toggleable__content pre {margin: 0.2em;color: black;border-radius: 0.25em;background-color: #f0f8ff;}#sk-container-id-2 input.sk-toggleable__control:checked~div.sk-toggleable__content {max-height: 200px;max-width: 100%;overflow: auto;}#sk-container-id-2 input.sk-toggleable__control:checked~label.sk-toggleable__label-arrow:before {content: \"▾\";}#sk-container-id-2 div.sk-estimator input.sk-toggleable__control:checked~label.sk-toggleable__label {background-color: #d4ebff;}#sk-container-id-2 div.sk-label input.sk-toggleable__control:checked~label.sk-toggleable__label {background-color: #d4ebff;}#sk-container-id-2 input.sk-hidden--visually {border: 0;clip: rect(1px 1px 1px 1px);clip: rect(1px, 1px, 1px, 1px);height: 1px;margin: -1px;overflow: hidden;padding: 0;position: absolute;width: 1px;}#sk-container-id-2 div.sk-estimator {font-family: monospace;background-color: #f0f8ff;border: 1px dotted black;border-radius: 0.25em;box-sizing: border-box;margin-bottom: 0.5em;}#sk-container-id-2 div.sk-estimator:hover {background-color: #d4ebff;}#sk-container-id-2 div.sk-parallel-item::after {content: \"\";width: 100%;border-bottom: 1px solid gray;flex-grow: 1;}#sk-container-id-2 div.sk-label:hover label.sk-toggleable__label {background-color: #d4ebff;}#sk-container-id-2 div.sk-serial::before {content: \"\";position: absolute;border-left: 1px solid gray;box-sizing: border-box;top: 0;bottom: 0;left: 50%;z-index: 0;}#sk-container-id-2 div.sk-serial {display: flex;flex-direction: column;align-items: center;background-color: white;padding-right: 0.2em;padding-left: 0.2em;position: relative;}#sk-container-id-2 div.sk-item {position: relative;z-index: 1;}#sk-container-id-2 div.sk-parallel {display: flex;align-items: stretch;justify-content: center;background-color: white;position: relative;}#sk-container-id-2 div.sk-item::before, #sk-container-id-2 div.sk-parallel-item::before {content: \"\";position: absolute;border-left: 1px solid gray;box-sizing: border-box;top: 0;bottom: 0;left: 50%;z-index: -1;}#sk-container-id-2 div.sk-parallel-item {display: flex;flex-direction: column;z-index: 1;position: relative;background-color: white;}#sk-container-id-2 div.sk-parallel-item:first-child::after {align-self: flex-end;width: 50%;}#sk-container-id-2 div.sk-parallel-item:last-child::after {align-self: flex-start;width: 50%;}#sk-container-id-2 div.sk-parallel-item:only-child::after {width: 0;}#sk-container-id-2 div.sk-dashed-wrapped {border: 1px dashed gray;margin: 0 0.4em 0.5em 0.4em;box-sizing: border-box;padding-bottom: 0.4em;background-color: white;}#sk-container-id-2 div.sk-label label {font-family: monospace;font-weight: bold;display: inline-block;line-height: 1.2em;}#sk-container-id-2 div.sk-label-container {text-align: center;}#sk-container-id-2 div.sk-container {/* jupyter's `normalize.less` sets `[hidden] { display: none; }` but bootstrap.min.css set `[hidden] { display: none !important; }` so we also need the `!important` here to be able to override the default hidden behavior on the sphinx rendered scikit-learn.org. See: https://github.com/scikit-learn/scikit-learn/issues/21755 */display: inline-block !important;position: relative;}#sk-container-id-2 div.sk-text-repr-fallback {display: none;}</style><div id=\"sk-container-id-2\" class=\"sk-top-container\"><div class=\"sk-text-repr-fallback\"><pre> ARIMA(2,0,2)(2,0,0)[12] intercept</pre><b>In a Jupyter environment, please rerun this cell to show the HTML representation or trust the notebook. <br />On GitHub, the HTML representation is unable to render, please try loading this page with nbviewer.org.</b></div><div class=\"sk-container\" hidden><div class=\"sk-item\"><div class=\"sk-estimator sk-toggleable\"><input class=\"sk-toggleable__control sk-hidden--visually\" id=\"sk-estimator-id-2\" type=\"checkbox\" checked><label for=\"sk-estimator-id-2\" class=\"sk-toggleable__label sk-toggleable__label-arrow\">ARIMA</label><div class=\"sk-toggleable__content\"><pre> ARIMA(2,0,2)(2,0,0)[12] intercept</pre></div></div></div></div></div>"
      ],
      "text/plain": [
       "ARIMA(order=(2, 0, 2), scoring_args={}, seasonal_order=(2, 0, 0, 12),\n",
       "      suppress_warnings=True)"
      ]
     },
     "execution_count": 42,
     "metadata": {},
     "output_type": "execute_result"
    }
   ],
   "source": [
    "model.fit(train[\"OT\"])"
   ]
  },
  {
   "cell_type": "code",
   "execution_count": 43,
   "id": "7d8d9cf9",
   "metadata": {},
   "outputs": [],
   "source": [
    "forecast = model.predict(n_periods=4371, return_conf_int=True)"
   ]
  },
  {
   "cell_type": "code",
   "execution_count": 44,
   "id": "b10b0262",
   "metadata": {},
   "outputs": [],
   "source": [
    "forecast_df = pd.DataFrame(forecast[0],index = test.index,columns=['Prediction'])"
   ]
  },
  {
   "cell_type": "code",
   "execution_count": 45,
   "id": "5489b2bb",
   "metadata": {},
   "outputs": [
    {
     "data": {
      "text/html": [
       "<div>\n",
       "<style scoped>\n",
       "    .dataframe tbody tr th:only-of-type {\n",
       "        vertical-align: middle;\n",
       "    }\n",
       "\n",
       "    .dataframe tbody tr th {\n",
       "        vertical-align: top;\n",
       "    }\n",
       "\n",
       "    .dataframe thead th {\n",
       "        text-align: right;\n",
       "    }\n",
       "</style>\n",
       "<table border=\"1\" class=\"dataframe\">\n",
       "  <thead>\n",
       "    <tr style=\"text-align: right;\">\n",
       "      <th></th>\n",
       "      <th>Prediction</th>\n",
       "    </tr>\n",
       "    <tr>\n",
       "      <th>date</th>\n",
       "      <th></th>\n",
       "    </tr>\n",
       "  </thead>\n",
       "  <tbody>\n",
       "    <tr>\n",
       "      <th>2017-12-26 17:00:00</th>\n",
       "      <td>22.264055</td>\n",
       "    </tr>\n",
       "    <tr>\n",
       "      <th>2017-12-26 18:00:00</th>\n",
       "      <td>21.592695</td>\n",
       "    </tr>\n",
       "    <tr>\n",
       "      <th>2017-12-26 19:00:00</th>\n",
       "      <td>21.011102</td>\n",
       "    </tr>\n",
       "    <tr>\n",
       "      <th>2017-12-26 20:00:00</th>\n",
       "      <td>20.594520</td>\n",
       "    </tr>\n",
       "    <tr>\n",
       "      <th>2017-12-26 21:00:00</th>\n",
       "      <td>20.334538</td>\n",
       "    </tr>\n",
       "    <tr>\n",
       "      <th>...</th>\n",
       "      <td>...</td>\n",
       "    </tr>\n",
       "    <tr>\n",
       "      <th>2018-06-26 15:00:00</th>\n",
       "      <td>27.898421</td>\n",
       "    </tr>\n",
       "    <tr>\n",
       "      <th>2018-06-26 16:00:00</th>\n",
       "      <td>27.898421</td>\n",
       "    </tr>\n",
       "    <tr>\n",
       "      <th>2018-06-26 17:00:00</th>\n",
       "      <td>27.898421</td>\n",
       "    </tr>\n",
       "    <tr>\n",
       "      <th>2018-06-26 18:00:00</th>\n",
       "      <td>27.898421</td>\n",
       "    </tr>\n",
       "    <tr>\n",
       "      <th>2018-06-26 19:00:00</th>\n",
       "      <td>27.898421</td>\n",
       "    </tr>\n",
       "  </tbody>\n",
       "</table>\n",
       "<p>4371 rows × 1 columns</p>\n",
       "</div>"
      ],
      "text/plain": [
       "                     Prediction\n",
       "date                           \n",
       "2017-12-26 17:00:00   22.264055\n",
       "2017-12-26 18:00:00   21.592695\n",
       "2017-12-26 19:00:00   21.011102\n",
       "2017-12-26 20:00:00   20.594520\n",
       "2017-12-26 21:00:00   20.334538\n",
       "...                         ...\n",
       "2018-06-26 15:00:00   27.898421\n",
       "2018-06-26 16:00:00   27.898421\n",
       "2018-06-26 17:00:00   27.898421\n",
       "2018-06-26 18:00:00   27.898421\n",
       "2018-06-26 19:00:00   27.898421\n",
       "\n",
       "[4371 rows x 1 columns]"
      ]
     },
     "execution_count": 45,
     "metadata": {},
     "output_type": "execute_result"
    }
   ],
   "source": [
    "forecast_df"
   ]
  },
  {
   "cell_type": "code",
   "execution_count": 46,
   "id": "a2594ce6",
   "metadata": {},
   "outputs": [],
   "source": [
    "import matplotlib.pyplot as plt"
   ]
  },
  {
   "cell_type": "code",
   "execution_count": 47,
   "id": "d20bafec",
   "metadata": {},
   "outputs": [
    {
     "data": {
      "text/plain": [
       "<Axes: xlabel='date'>"
      ]
     },
     "execution_count": 47,
     "metadata": {},
     "output_type": "execute_result"
    },
    {
     "data": {
      "image/png": "[encoded data removed]",
      "text/plain": [
       "<Figure size 640x480 with 1 Axes>"
      ]
     },
     "metadata": {},
     "output_type": "display_data"
    }
   ],
   "source": [
    "pd.concat([mdata['OT'],forecast_df],axis=1).plot()"
   ]
  },
  {
   "cell_type": "code",
   "execution_count": null,
   "id": "138059db",
   "metadata": {},
   "outputs": [],
   "source": []
  },
  {
   "cell_type": "code",
   "execution_count": null,
   "id": "3b4e3844",
   "metadata": {},
   "outputs": [],
   "source": []
  },
  {
   "cell_type": "code",
   "execution_count": null,
   "id": "76be7376",
   "metadata": {},
   "outputs": [],
   "source": []
  }
 ],
 "metadata": {
  "kernelspec": {
   "display_name": "Python 3 (ipykernel)",
   "language": "python",
   "name": "python3"
  },
  "language_info": {
   "codemirror_mode": {
    "name": "ipython",
    "version": 3
   },
   "file_extension": ".py",
   "mimetype": "text/x-python",
   "name": "python",
   "nbconvert_exporter": "python",
   "pygments_lexer": "ipython3",
   "version": "3.9.0"
  }
 },
 "nbformat": 4,
 "nbformat_minor": 5
}
