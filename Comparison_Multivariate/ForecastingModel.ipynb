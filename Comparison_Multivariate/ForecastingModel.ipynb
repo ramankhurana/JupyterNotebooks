{
 "cells": [
  {
   "cell_type": "markdown",
   "id": "c256abf3",
   "metadata": {},
   "source": [
    "https://www.analyticsvidhya.com/blog/2021/06/statistical-tests-to-check-stationarity-in-time-series-part-1/\n",
    "\n",
    "* function should take all the columns or just dataframe and perform the test and tell which columns need differencing \n",
    "* perform automated differencing and return which columns are differenced \n",
    "* store the last value of the train dataset so that it can be used for the reverse transformation for forecasting "
   ]
  },
  {
   "cell_type": "code",
   "execution_count": 165,
   "id": "3d1b614d",
   "metadata": {},
   "outputs": [
    {
     "data": {
      "text/plain": [
       "['HUFL', 'HULL', 'MUFL', 'MULL', 'LUFL', 'LULL', 'OT']"
      ]
     },
     "execution_count": 165,
     "metadata": {},
     "output_type": "execute_result"
    }
   ],
   "source": [
    "import pandas as pd\n",
    "import copy \n",
    "\n",
    "data_location = \"ETTh1.csv\"\n",
    "df_ercot = pd.read_csv(data_location )\n",
    "df_ercot_copy = copy.deepcopy(df_ercot)\n",
    "columns = list(df_ercot)[1:]\n",
    "columns"
   ]
  },
  {
   "cell_type": "code",
   "execution_count": 166,
   "id": "e4c2bb64",
   "metadata": {},
   "outputs": [],
   "source": [
    "from statsmodels.tsa.stattools import adfuller\n",
    "from statsmodels.tsa.stattools import kpss\n",
    "\n",
    "## if p-value < 0.05 : it is stationary \n",
    "def adf_test(series):\n",
    "    print('Augmented Dickey-Fuller Test')\n",
    "    result = adfuller(series.dropna(),autolag='AIC') # .dropna() handles differenced data\n",
    "    labels = ['ADF test statistic','p-value','# lags used','# observations']\n",
    "    out = pd.Series(result[0:4],index=labels)\n",
    "    #for key,val in result[4].items():\n",
    "    #    out[f'critical value ({key})']=val\n",
    "    #print(out.to_string())          # .to_string() removes the line \"dtype: float64\"\n",
    "    if result[1] <= 0.05:\n",
    "        return True\n",
    "    else:\n",
    "        return False \n",
    "    \n",
    "\n",
    "## if p-value < 0.05: it is non-stationary \n",
    "def kpss_test(series):\n",
    "    \n",
    "    \"\"\"\n",
    "    Pass in a time series and an optional title, returns an kpss report\n",
    "    \"\"\"\n",
    "    print('kpss Test')\n",
    "    result = kpss(series.dropna()) # .dropna() handles differenced data\n",
    "    #labels = ['kpss test statistic','p-value','# lags used','# observations']\n",
    "    #out = pd.Series(result[0:2],index=labels)\n",
    "    #for key,val in result[2].items():\n",
    "    #    out[f'critical value ({key})']=val\n",
    "    #print(out.to_string())          # .to_string() removes the line \"dtype: float64\"\n",
    "    #print (\"p-value: \",result[1])\n",
    "    if result[1] >= 0.05:\n",
    "        return True\n",
    "    else:\n",
    "        return False \n",
    "\n",
    "\n",
    "def auto_diff(series, d=0, test_func='adf_test'):\n",
    "    unit_root_result_ = eval(f'{test_func}(series)')\n",
    "    if unit_root_result_:\n",
    "        return ((True,d))\n",
    "    else: \n",
    "        d=d+1\n",
    "        return auto_diff(series.diff().dropna(),d)\n",
    "\n",
    "def auto_diff_dataframe(df,):\n",
    "    diff_dict={}\n",
    "    columns = list(df)[1:]\n",
    "    for ic in columns:\n",
    "        status_ = auto_diff(df[ic],test_func='kpss_test')\n",
    "        if status_[0]:\n",
    "            diff_dict[ic] = status_[1]\n",
    "    return diff_dict    "
   ]
  },
  {
   "cell_type": "code",
   "execution_count": 167,
   "id": "e14ff25b",
   "metadata": {},
   "outputs": [
    {
     "name": "stdout",
     "output_type": "stream",
     "text": [
      "kpss Test\n",
      "Augmented Dickey-Fuller Test\n"
     ]
    },
    {
     "name": "stderr",
     "output_type": "stream",
     "text": [
      "/Users/raman/opt/anaconda3/lib/python3.9/site-packages/statsmodels/tsa/stattools.py:2018: InterpolationWarning: The test statistic is outside of the range of p-values available in the\n",
      "look-up table. The actual p-value is smaller than the p-value returned.\n",
      "\n",
      "  warnings.warn(\n"
     ]
    },
    {
     "name": "stdout",
     "output_type": "stream",
     "text": [
      "kpss Test\n",
      "Augmented Dickey-Fuller Test\n"
     ]
    },
    {
     "name": "stderr",
     "output_type": "stream",
     "text": [
      "/Users/raman/opt/anaconda3/lib/python3.9/site-packages/statsmodels/tsa/stattools.py:2018: InterpolationWarning: The test statistic is outside of the range of p-values available in the\n",
      "look-up table. The actual p-value is smaller than the p-value returned.\n",
      "\n",
      "  warnings.warn(\n"
     ]
    },
    {
     "name": "stdout",
     "output_type": "stream",
     "text": [
      "kpss Test\n",
      "Augmented Dickey-Fuller Test\n"
     ]
    },
    {
     "name": "stderr",
     "output_type": "stream",
     "text": [
      "/Users/raman/opt/anaconda3/lib/python3.9/site-packages/statsmodels/tsa/stattools.py:2018: InterpolationWarning: The test statistic is outside of the range of p-values available in the\n",
      "look-up table. The actual p-value is smaller than the p-value returned.\n",
      "\n",
      "  warnings.warn(\n"
     ]
    },
    {
     "name": "stdout",
     "output_type": "stream",
     "text": [
      "kpss Test\n",
      "Augmented Dickey-Fuller Test\n"
     ]
    },
    {
     "name": "stderr",
     "output_type": "stream",
     "text": [
      "/Users/raman/opt/anaconda3/lib/python3.9/site-packages/statsmodels/tsa/stattools.py:2018: InterpolationWarning: The test statistic is outside of the range of p-values available in the\n",
      "look-up table. The actual p-value is smaller than the p-value returned.\n",
      "\n",
      "  warnings.warn(\n"
     ]
    },
    {
     "name": "stdout",
     "output_type": "stream",
     "text": [
      "kpss Test\n",
      "Augmented Dickey-Fuller Test\n"
     ]
    },
    {
     "name": "stderr",
     "output_type": "stream",
     "text": [
      "/Users/raman/opt/anaconda3/lib/python3.9/site-packages/statsmodels/tsa/stattools.py:2018: InterpolationWarning: The test statistic is outside of the range of p-values available in the\n",
      "look-up table. The actual p-value is smaller than the p-value returned.\n",
      "\n",
      "  warnings.warn(\n"
     ]
    },
    {
     "name": "stdout",
     "output_type": "stream",
     "text": [
      "kpss Test\n",
      "Augmented Dickey-Fuller Test\n"
     ]
    },
    {
     "name": "stderr",
     "output_type": "stream",
     "text": [
      "/Users/raman/opt/anaconda3/lib/python3.9/site-packages/statsmodels/tsa/stattools.py:2018: InterpolationWarning: The test statistic is outside of the range of p-values available in the\n",
      "look-up table. The actual p-value is smaller than the p-value returned.\n",
      "\n",
      "  warnings.warn(\n"
     ]
    },
    {
     "name": "stdout",
     "output_type": "stream",
     "text": [
      "kpss Test\n",
      "Augmented Dickey-Fuller Test\n"
     ]
    },
    {
     "name": "stderr",
     "output_type": "stream",
     "text": [
      "/Users/raman/opt/anaconda3/lib/python3.9/site-packages/statsmodels/tsa/stattools.py:2018: InterpolationWarning: The test statistic is outside of the range of p-values available in the\n",
      "look-up table. The actual p-value is smaller than the p-value returned.\n",
      "\n",
      "  warnings.warn(\n"
     ]
    },
    {
     "data": {
      "text/plain": [
       "{'HUFL': 1, 'HULL': 1, 'MUFL': 1, 'MULL': 1, 'LUFL': 1, 'LULL': 1, 'OT': 1}"
      ]
     },
     "execution_count": 167,
     "metadata": {},
     "output_type": "execute_result"
    }
   ],
   "source": [
    "auto_diff_dataframe(df_ercot)"
   ]
  },
  {
   "cell_type": "code",
   "execution_count": null,
   "id": "f3e2c2fb",
   "metadata": {},
   "outputs": [],
   "source": []
  },
  {
   "cell_type": "code",
   "execution_count": null,
   "id": "7f788498",
   "metadata": {},
   "outputs": [],
   "source": []
  }
 ],
 "metadata": {
  "kernelspec": {
   "display_name": "Python 3 (ipykernel)",
   "language": "python",
   "name": "python3"
  },
  "language_info": {
   "codemirror_mode": {
    "name": "ipython",
    "version": 3
   },
   "file_extension": ".py",
   "mimetype": "text/x-python",
   "name": "python",
   "nbconvert_exporter": "python",
   "pygments_lexer": "ipython3",
   "version": "3.9.13"
  }
 },
 "nbformat": 4,
 "nbformat_minor": 5
}
